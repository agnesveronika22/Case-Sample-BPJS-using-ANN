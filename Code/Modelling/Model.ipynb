{
  "cells": [
    {
      "cell_type": "markdown",
      "source": [
        "<a id=\"5\"></a>\n",
        "\n",
        "\n",
        "<font color=\"black\" size=+1><b> Classification of Tuberculosis Disease from 2019-2021 using Artificial Neural Network (ANN) </b></font>\n",
        "\n",
        "<a id=\"4\"></a>\n",
        "\n",
        "---\n",
        "<font color=\"GREEN\" size=+1><b>  Kelompok 4 -Modelling </b></font>\n",
        "\n",
        "---\n",
        "    Nama Anggota\n",
        "    1. Nadya Dioranta Tambunan        DS04037\n",
        "    2. Agnes Veronika Sihombing       DS04032\n",
        "    4. Hanna Dhea Christi Sihombing   DS04043"
      ],
      "metadata": {
        "id": "afgMbet7vI6t"
      }
    },
    {
      "cell_type": "code",
      "execution_count": 1,
      "metadata": {
        "colab": {
          "base_uri": "https://localhost:8080/"
        },
        "id": "0aIdrHbFDcxL",
        "outputId": "c5e91908-b62c-4a9d-82e9-36e67211c9a6"
      },
      "outputs": [
        {
          "output_type": "stream",
          "name": "stdout",
          "text": [
            "Mounted at /content/drive\n"
          ]
        }
      ],
      "source": [
        "from google.colab import drive\n",
        "drive.mount('/content/drive')"
      ]
    },
    {
      "cell_type": "code",
      "execution_count": 2,
      "metadata": {
        "id": "7uJuHn0IDgrX"
      },
      "outputs": [],
      "source": [
        "import numpy as np\n",
        "import pandas as pd\n",
        "import seaborn as sns\n",
        "import matplotlib.pyplot as plt\n",
        "from sklearn import preprocessing\n",
        "from sklearn import metrics\n",
        "from numpy.core.defchararray import add\n",
        "from sklearn.metrics import accuracy_score\n",
        "from sklearn.preprocessing import MinMaxScaler\n",
        "from sklearn.model_selection import train_test_split\n",
        "from sklearn.preprocessing import StandardScaler"
      ]
    },
    {
      "cell_type": "markdown",
      "metadata": {
        "id": "RgPVipUtDtpr"
      },
      "source": [
        "## Import Data"
      ]
    },
    {
      "cell_type": "code",
      "execution_count": 3,
      "metadata": {
        "colab": {
          "base_uri": "https://localhost:8080/",
          "height": 1000
        },
        "id": "oOTuXgBHDsRd",
        "outputId": "e0af6231-eef8-4511-ee8d-1ef4294c6dec"
      },
      "outputs": [
        {
          "output_type": "execute_result",
          "data": {
            "text/plain": [
              "           PSTV01     PSTV02      PSTV03   PSTV04     PSTV05       PSTV06  \\\n",
              "0       328537885  328537885  1989-07-13  PESERTA  PEREMPUAN  BELUM KAWIN   \n",
              "1       328537885  328537885  1989-07-13  PESERTA  PEREMPUAN  BELUM KAWIN   \n",
              "2       328537885  328537885  1989-07-13  PESERTA  PEREMPUAN        KAWIN   \n",
              "3        75453396   75453396  1959-08-25  PESERTA  LAKI-LAKI        KAWIN   \n",
              "4        75453396   75453396  1959-08-25  PESERTA  LAKI-LAKI        KAWIN   \n",
              "...           ...        ...         ...      ...        ...          ...   \n",
              "109474  426032113  408166141  1982-09-10    ISTRI  PEREMPUAN        KAWIN   \n",
              "109475  426032113  408166141  1982-09-10    ISTRI  PEREMPUAN        KAWIN   \n",
              "109476  402406574  402406574  1959-09-09  PESERTA  LAKI-LAKI        KAWIN   \n",
              "109477  402406574  402406574  1959-09-09  PESERTA  LAKI-LAKI        KAWIN   \n",
              "109478  402406574  402406574  1959-09-09  PESERTA  LAKI-LAKI        KAWIN   \n",
              "\n",
              "           PSTV07         PSTV08               PSTV09        PSTV10  ...  \\\n",
              "0       KELAS III       PBI APBD                 ACEH  ACEH TAMIANG  ...   \n",
              "1       KELAS III       PBI APBD                 ACEH  ACEH TAMIANG  ...   \n",
              "2       KELAS III       PBI APBD                 ACEH  ACEH TAMIANG  ...   \n",
              "3         KELAS I            PPU          JAWA TENGAH         BLORA  ...   \n",
              "4         KELAS I  BUKAN PEKERJA          JAWA TENGAH         BLORA  ...   \n",
              "...           ...            ...                  ...           ...  ...   \n",
              "109474  KELAS III       PBI APBN     SULAWESI SELATAN       TAKALAR  ...   \n",
              "109475  KELAS III       PBI APBN     SULAWESI SELATAN       TAKALAR  ...   \n",
              "109476  KELAS III           PBPU  NUSA TENGGARA BARAT       SUMBAWA  ...   \n",
              "109477  KELAS III       PBI APBN  NUSA TENGGARA BARAT       SUMBAWA  ...   \n",
              "109478  KELAS III       PBI APBN  NUSA TENGGARA BARAT       SUMBAWA  ...   \n",
              "\n",
              "                 PNK10 PNK11          PNK12  \\\n",
              "0           RAWAT INAP  RITP       PBI APBD   \n",
              "1           RAWAT INAP  RITP       PBI APBD   \n",
              "2           RAWAT INAP  RITP       PBI APBD   \n",
              "3           RAWAT INAP  RJTP  BUKAN PEKERJA   \n",
              "4           RAWAT INAP  RJTP  BUKAN PEKERJA   \n",
              "...                ...   ...            ...   \n",
              "109474  NON RAWAT INAP  RITP       PBI APBN   \n",
              "109475  NON RAWAT INAP  RITP       PBI APBN   \n",
              "109476      RAWAT INAP  RJTP       PBI APBN   \n",
              "109477      RAWAT INAP  RJTP       PBI APBN   \n",
              "109478      RAWAT INAP  RJTP       PBI APBN   \n",
              "\n",
              "                                                    PNK13  PNK13A  PNK14  \\\n",
              "0                         O80 Single spontaneous delivery     O80   O800   \n",
              "1                         O80 Single spontaneous delivery     O80   O800   \n",
              "2                         O80 Single spontaneous delivery     O80   O800   \n",
              "3                          R06 Abnormalities of breathing     R06   R060   \n",
              "4                          R06 Abnormalities of breathing     R06   R060   \n",
              "...                                                   ...     ...    ...   \n",
              "109474  R19 Other symptoms and signs involving the dig...     R19   R198   \n",
              "109475  R19 Other symptoms and signs involving the dig...     R19   R198   \n",
              "109476                       K29 Gastritis and duodenitis     K29   K297   \n",
              "109477                       K29 Gastritis and duodenitis     K29   K297   \n",
              "109478                       K29 Gastritis and duodenitis     K29   K297   \n",
              "\n",
              "                                                    PNK15  \\\n",
              "0                             Spontaneous vertex delivery   \n",
              "1                             Spontaneous vertex delivery   \n",
              "2                             Spontaneous vertex delivery   \n",
              "3                                                Dyspnoea   \n",
              "4                                                Dyspnoea   \n",
              "...                                                   ...   \n",
              "109474  Other specified symptoms and signs involving t...   \n",
              "109475  Other specified symptoms and signs involving t...   \n",
              "109476                             Gastritis, unspecified   \n",
              "109477                             Gastritis, unspecified   \n",
              "109478                             Gastritis, unspecified   \n",
              "\n",
              "                                                   PNK16   PNK17   PNK18  \n",
              "0       Paket Persalinan per Vaginam normal (oleh Bidan)  700000  700000  \n",
              "1       Paket Persalinan per Vaginam normal (oleh Bidan)  700000  700000  \n",
              "2       Paket Persalinan per Vaginam normal (oleh Bidan)  700000  700000  \n",
              "3                        Evakuasi medis / Ambulans Darat  161700  161700  \n",
              "4                        Evakuasi medis / Ambulans Darat  161700  161700  \n",
              "...                                                  ...     ...     ...  \n",
              "109474  Paket Persalinan per Vaginam normal (oleh Bidan)  700000  700000  \n",
              "109475  Paket Persalinan per Vaginam normal (oleh Bidan)  700000  700000  \n",
              "109476                   Evakuasi medis / Ambulans Darat   80000   80000  \n",
              "109477                   Evakuasi medis / Ambulans Darat   80000   80000  \n",
              "109478                   Evakuasi medis / Ambulans Darat   80000   80000  \n",
              "\n",
              "[109479 rows x 36 columns]"
            ],
            "text/html": [
              "\n",
              "  <div id=\"df-c4a9b191-9550-41b1-b207-eead9dac139d\" class=\"colab-df-container\">\n",
              "    <div>\n",
              "<style scoped>\n",
              "    .dataframe tbody tr th:only-of-type {\n",
              "        vertical-align: middle;\n",
              "    }\n",
              "\n",
              "    .dataframe tbody tr th {\n",
              "        vertical-align: top;\n",
              "    }\n",
              "\n",
              "    .dataframe thead th {\n",
              "        text-align: right;\n",
              "    }\n",
              "</style>\n",
              "<table border=\"1\" class=\"dataframe\">\n",
              "  <thead>\n",
              "    <tr style=\"text-align: right;\">\n",
              "      <th></th>\n",
              "      <th>PSTV01</th>\n",
              "      <th>PSTV02</th>\n",
              "      <th>PSTV03</th>\n",
              "      <th>PSTV04</th>\n",
              "      <th>PSTV05</th>\n",
              "      <th>PSTV06</th>\n",
              "      <th>PSTV07</th>\n",
              "      <th>PSTV08</th>\n",
              "      <th>PSTV09</th>\n",
              "      <th>PSTV10</th>\n",
              "      <th>...</th>\n",
              "      <th>PNK10</th>\n",
              "      <th>PNK11</th>\n",
              "      <th>PNK12</th>\n",
              "      <th>PNK13</th>\n",
              "      <th>PNK13A</th>\n",
              "      <th>PNK14</th>\n",
              "      <th>PNK15</th>\n",
              "      <th>PNK16</th>\n",
              "      <th>PNK17</th>\n",
              "      <th>PNK18</th>\n",
              "    </tr>\n",
              "  </thead>\n",
              "  <tbody>\n",
              "    <tr>\n",
              "      <th>0</th>\n",
              "      <td>328537885</td>\n",
              "      <td>328537885</td>\n",
              "      <td>1989-07-13</td>\n",
              "      <td>PESERTA</td>\n",
              "      <td>PEREMPUAN</td>\n",
              "      <td>BELUM KAWIN</td>\n",
              "      <td>KELAS III</td>\n",
              "      <td>PBI APBD</td>\n",
              "      <td>ACEH</td>\n",
              "      <td>ACEH TAMIANG</td>\n",
              "      <td>...</td>\n",
              "      <td>RAWAT INAP</td>\n",
              "      <td>RITP</td>\n",
              "      <td>PBI APBD</td>\n",
              "      <td>O80 Single spontaneous delivery</td>\n",
              "      <td>O80</td>\n",
              "      <td>O800</td>\n",
              "      <td>Spontaneous vertex delivery</td>\n",
              "      <td>Paket Persalinan per Vaginam normal (oleh Bidan)</td>\n",
              "      <td>700000</td>\n",
              "      <td>700000</td>\n",
              "    </tr>\n",
              "    <tr>\n",
              "      <th>1</th>\n",
              "      <td>328537885</td>\n",
              "      <td>328537885</td>\n",
              "      <td>1989-07-13</td>\n",
              "      <td>PESERTA</td>\n",
              "      <td>PEREMPUAN</td>\n",
              "      <td>BELUM KAWIN</td>\n",
              "      <td>KELAS III</td>\n",
              "      <td>PBI APBD</td>\n",
              "      <td>ACEH</td>\n",
              "      <td>ACEH TAMIANG</td>\n",
              "      <td>...</td>\n",
              "      <td>RAWAT INAP</td>\n",
              "      <td>RITP</td>\n",
              "      <td>PBI APBD</td>\n",
              "      <td>O80 Single spontaneous delivery</td>\n",
              "      <td>O80</td>\n",
              "      <td>O800</td>\n",
              "      <td>Spontaneous vertex delivery</td>\n",
              "      <td>Paket Persalinan per Vaginam normal (oleh Bidan)</td>\n",
              "      <td>700000</td>\n",
              "      <td>700000</td>\n",
              "    </tr>\n",
              "    <tr>\n",
              "      <th>2</th>\n",
              "      <td>328537885</td>\n",
              "      <td>328537885</td>\n",
              "      <td>1989-07-13</td>\n",
              "      <td>PESERTA</td>\n",
              "      <td>PEREMPUAN</td>\n",
              "      <td>KAWIN</td>\n",
              "      <td>KELAS III</td>\n",
              "      <td>PBI APBD</td>\n",
              "      <td>ACEH</td>\n",
              "      <td>ACEH TAMIANG</td>\n",
              "      <td>...</td>\n",
              "      <td>RAWAT INAP</td>\n",
              "      <td>RITP</td>\n",
              "      <td>PBI APBD</td>\n",
              "      <td>O80 Single spontaneous delivery</td>\n",
              "      <td>O80</td>\n",
              "      <td>O800</td>\n",
              "      <td>Spontaneous vertex delivery</td>\n",
              "      <td>Paket Persalinan per Vaginam normal (oleh Bidan)</td>\n",
              "      <td>700000</td>\n",
              "      <td>700000</td>\n",
              "    </tr>\n",
              "    <tr>\n",
              "      <th>3</th>\n",
              "      <td>75453396</td>\n",
              "      <td>75453396</td>\n",
              "      <td>1959-08-25</td>\n",
              "      <td>PESERTA</td>\n",
              "      <td>LAKI-LAKI</td>\n",
              "      <td>KAWIN</td>\n",
              "      <td>KELAS I</td>\n",
              "      <td>PPU</td>\n",
              "      <td>JAWA TENGAH</td>\n",
              "      <td>BLORA</td>\n",
              "      <td>...</td>\n",
              "      <td>RAWAT INAP</td>\n",
              "      <td>RJTP</td>\n",
              "      <td>BUKAN PEKERJA</td>\n",
              "      <td>R06 Abnormalities of breathing</td>\n",
              "      <td>R06</td>\n",
              "      <td>R060</td>\n",
              "      <td>Dyspnoea</td>\n",
              "      <td>Evakuasi medis / Ambulans Darat</td>\n",
              "      <td>161700</td>\n",
              "      <td>161700</td>\n",
              "    </tr>\n",
              "    <tr>\n",
              "      <th>4</th>\n",
              "      <td>75453396</td>\n",
              "      <td>75453396</td>\n",
              "      <td>1959-08-25</td>\n",
              "      <td>PESERTA</td>\n",
              "      <td>LAKI-LAKI</td>\n",
              "      <td>KAWIN</td>\n",
              "      <td>KELAS I</td>\n",
              "      <td>BUKAN PEKERJA</td>\n",
              "      <td>JAWA TENGAH</td>\n",
              "      <td>BLORA</td>\n",
              "      <td>...</td>\n",
              "      <td>RAWAT INAP</td>\n",
              "      <td>RJTP</td>\n",
              "      <td>BUKAN PEKERJA</td>\n",
              "      <td>R06 Abnormalities of breathing</td>\n",
              "      <td>R06</td>\n",
              "      <td>R060</td>\n",
              "      <td>Dyspnoea</td>\n",
              "      <td>Evakuasi medis / Ambulans Darat</td>\n",
              "      <td>161700</td>\n",
              "      <td>161700</td>\n",
              "    </tr>\n",
              "    <tr>\n",
              "      <th>...</th>\n",
              "      <td>...</td>\n",
              "      <td>...</td>\n",
              "      <td>...</td>\n",
              "      <td>...</td>\n",
              "      <td>...</td>\n",
              "      <td>...</td>\n",
              "      <td>...</td>\n",
              "      <td>...</td>\n",
              "      <td>...</td>\n",
              "      <td>...</td>\n",
              "      <td>...</td>\n",
              "      <td>...</td>\n",
              "      <td>...</td>\n",
              "      <td>...</td>\n",
              "      <td>...</td>\n",
              "      <td>...</td>\n",
              "      <td>...</td>\n",
              "      <td>...</td>\n",
              "      <td>...</td>\n",
              "      <td>...</td>\n",
              "      <td>...</td>\n",
              "    </tr>\n",
              "    <tr>\n",
              "      <th>109474</th>\n",
              "      <td>426032113</td>\n",
              "      <td>408166141</td>\n",
              "      <td>1982-09-10</td>\n",
              "      <td>ISTRI</td>\n",
              "      <td>PEREMPUAN</td>\n",
              "      <td>KAWIN</td>\n",
              "      <td>KELAS III</td>\n",
              "      <td>PBI APBN</td>\n",
              "      <td>SULAWESI SELATAN</td>\n",
              "      <td>TAKALAR</td>\n",
              "      <td>...</td>\n",
              "      <td>NON RAWAT INAP</td>\n",
              "      <td>RITP</td>\n",
              "      <td>PBI APBN</td>\n",
              "      <td>R19 Other symptoms and signs involving the dig...</td>\n",
              "      <td>R19</td>\n",
              "      <td>R198</td>\n",
              "      <td>Other specified symptoms and signs involving t...</td>\n",
              "      <td>Paket Persalinan per Vaginam normal (oleh Bidan)</td>\n",
              "      <td>700000</td>\n",
              "      <td>700000</td>\n",
              "    </tr>\n",
              "    <tr>\n",
              "      <th>109475</th>\n",
              "      <td>426032113</td>\n",
              "      <td>408166141</td>\n",
              "      <td>1982-09-10</td>\n",
              "      <td>ISTRI</td>\n",
              "      <td>PEREMPUAN</td>\n",
              "      <td>KAWIN</td>\n",
              "      <td>KELAS III</td>\n",
              "      <td>PBI APBN</td>\n",
              "      <td>SULAWESI SELATAN</td>\n",
              "      <td>TAKALAR</td>\n",
              "      <td>...</td>\n",
              "      <td>NON RAWAT INAP</td>\n",
              "      <td>RITP</td>\n",
              "      <td>PBI APBN</td>\n",
              "      <td>R19 Other symptoms and signs involving the dig...</td>\n",
              "      <td>R19</td>\n",
              "      <td>R198</td>\n",
              "      <td>Other specified symptoms and signs involving t...</td>\n",
              "      <td>Paket Persalinan per Vaginam normal (oleh Bidan)</td>\n",
              "      <td>700000</td>\n",
              "      <td>700000</td>\n",
              "    </tr>\n",
              "    <tr>\n",
              "      <th>109476</th>\n",
              "      <td>402406574</td>\n",
              "      <td>402406574</td>\n",
              "      <td>1959-09-09</td>\n",
              "      <td>PESERTA</td>\n",
              "      <td>LAKI-LAKI</td>\n",
              "      <td>KAWIN</td>\n",
              "      <td>KELAS III</td>\n",
              "      <td>PBPU</td>\n",
              "      <td>NUSA TENGGARA BARAT</td>\n",
              "      <td>SUMBAWA</td>\n",
              "      <td>...</td>\n",
              "      <td>RAWAT INAP</td>\n",
              "      <td>RJTP</td>\n",
              "      <td>PBI APBN</td>\n",
              "      <td>K29 Gastritis and duodenitis</td>\n",
              "      <td>K29</td>\n",
              "      <td>K297</td>\n",
              "      <td>Gastritis, unspecified</td>\n",
              "      <td>Evakuasi medis / Ambulans Darat</td>\n",
              "      <td>80000</td>\n",
              "      <td>80000</td>\n",
              "    </tr>\n",
              "    <tr>\n",
              "      <th>109477</th>\n",
              "      <td>402406574</td>\n",
              "      <td>402406574</td>\n",
              "      <td>1959-09-09</td>\n",
              "      <td>PESERTA</td>\n",
              "      <td>LAKI-LAKI</td>\n",
              "      <td>KAWIN</td>\n",
              "      <td>KELAS III</td>\n",
              "      <td>PBI APBN</td>\n",
              "      <td>NUSA TENGGARA BARAT</td>\n",
              "      <td>SUMBAWA</td>\n",
              "      <td>...</td>\n",
              "      <td>RAWAT INAP</td>\n",
              "      <td>RJTP</td>\n",
              "      <td>PBI APBN</td>\n",
              "      <td>K29 Gastritis and duodenitis</td>\n",
              "      <td>K29</td>\n",
              "      <td>K297</td>\n",
              "      <td>Gastritis, unspecified</td>\n",
              "      <td>Evakuasi medis / Ambulans Darat</td>\n",
              "      <td>80000</td>\n",
              "      <td>80000</td>\n",
              "    </tr>\n",
              "    <tr>\n",
              "      <th>109478</th>\n",
              "      <td>402406574</td>\n",
              "      <td>402406574</td>\n",
              "      <td>1959-09-09</td>\n",
              "      <td>PESERTA</td>\n",
              "      <td>LAKI-LAKI</td>\n",
              "      <td>KAWIN</td>\n",
              "      <td>KELAS III</td>\n",
              "      <td>PBI APBN</td>\n",
              "      <td>NUSA TENGGARA BARAT</td>\n",
              "      <td>SUMBAWA</td>\n",
              "      <td>...</td>\n",
              "      <td>RAWAT INAP</td>\n",
              "      <td>RJTP</td>\n",
              "      <td>PBI APBN</td>\n",
              "      <td>K29 Gastritis and duodenitis</td>\n",
              "      <td>K29</td>\n",
              "      <td>K297</td>\n",
              "      <td>Gastritis, unspecified</td>\n",
              "      <td>Evakuasi medis / Ambulans Darat</td>\n",
              "      <td>80000</td>\n",
              "      <td>80000</td>\n",
              "    </tr>\n",
              "  </tbody>\n",
              "</table>\n",
              "<p>109479 rows × 36 columns</p>\n",
              "</div>\n",
              "    <div class=\"colab-df-buttons\">\n",
              "\n",
              "  <div class=\"colab-df-container\">\n",
              "    <button class=\"colab-df-convert\" onclick=\"convertToInteractive('df-c4a9b191-9550-41b1-b207-eead9dac139d')\"\n",
              "            title=\"Convert this dataframe to an interactive table.\"\n",
              "            style=\"display:none;\">\n",
              "\n",
              "  <svg xmlns=\"http://www.w3.org/2000/svg\" height=\"24px\" viewBox=\"0 -960 960 960\">\n",
              "    <path d=\"M120-120v-720h720v720H120Zm60-500h600v-160H180v160Zm220 220h160v-160H400v160Zm0 220h160v-160H400v160ZM180-400h160v-160H180v160Zm440 0h160v-160H620v160ZM180-180h160v-160H180v160Zm440 0h160v-160H620v160Z\"/>\n",
              "  </svg>\n",
              "    </button>\n",
              "\n",
              "  <style>\n",
              "    .colab-df-container {\n",
              "      display:flex;\n",
              "      gap: 12px;\n",
              "    }\n",
              "\n",
              "    .colab-df-convert {\n",
              "      background-color: #E8F0FE;\n",
              "      border: none;\n",
              "      border-radius: 50%;\n",
              "      cursor: pointer;\n",
              "      display: none;\n",
              "      fill: #1967D2;\n",
              "      height: 32px;\n",
              "      padding: 0 0 0 0;\n",
              "      width: 32px;\n",
              "    }\n",
              "\n",
              "    .colab-df-convert:hover {\n",
              "      background-color: #E2EBFA;\n",
              "      box-shadow: 0px 1px 2px rgba(60, 64, 67, 0.3), 0px 1px 3px 1px rgba(60, 64, 67, 0.15);\n",
              "      fill: #174EA6;\n",
              "    }\n",
              "\n",
              "    .colab-df-buttons div {\n",
              "      margin-bottom: 4px;\n",
              "    }\n",
              "\n",
              "    [theme=dark] .colab-df-convert {\n",
              "      background-color: #3B4455;\n",
              "      fill: #D2E3FC;\n",
              "    }\n",
              "\n",
              "    [theme=dark] .colab-df-convert:hover {\n",
              "      background-color: #434B5C;\n",
              "      box-shadow: 0px 1px 3px 1px rgba(0, 0, 0, 0.15);\n",
              "      filter: drop-shadow(0px 1px 2px rgba(0, 0, 0, 0.3));\n",
              "      fill: #FFFFFF;\n",
              "    }\n",
              "  </style>\n",
              "\n",
              "    <script>\n",
              "      const buttonEl =\n",
              "        document.querySelector('#df-c4a9b191-9550-41b1-b207-eead9dac139d button.colab-df-convert');\n",
              "      buttonEl.style.display =\n",
              "        google.colab.kernel.accessAllowed ? 'block' : 'none';\n",
              "\n",
              "      async function convertToInteractive(key) {\n",
              "        const element = document.querySelector('#df-c4a9b191-9550-41b1-b207-eead9dac139d');\n",
              "        const dataTable =\n",
              "          await google.colab.kernel.invokeFunction('convertToInteractive',\n",
              "                                                    [key], {});\n",
              "        if (!dataTable) return;\n",
              "\n",
              "        const docLinkHtml = 'Like what you see? Visit the ' +\n",
              "          '<a target=\"_blank\" href=https://colab.research.google.com/notebooks/data_table.ipynb>data table notebook</a>'\n",
              "          + ' to learn more about interactive tables.';\n",
              "        element.innerHTML = '';\n",
              "        dataTable['output_type'] = 'display_data';\n",
              "        await google.colab.output.renderOutput(dataTable, element);\n",
              "        const docLink = document.createElement('div');\n",
              "        docLink.innerHTML = docLinkHtml;\n",
              "        element.appendChild(docLink);\n",
              "      }\n",
              "    </script>\n",
              "  </div>\n",
              "\n",
              "\n",
              "<div id=\"df-852862d9-ab40-4959-8204-73d289a9ef77\">\n",
              "  <button class=\"colab-df-quickchart\" onclick=\"quickchart('df-852862d9-ab40-4959-8204-73d289a9ef77')\"\n",
              "            title=\"Suggest charts\"\n",
              "            style=\"display:none;\">\n",
              "\n",
              "<svg xmlns=\"http://www.w3.org/2000/svg\" height=\"24px\"viewBox=\"0 0 24 24\"\n",
              "     width=\"24px\">\n",
              "    <g>\n",
              "        <path d=\"M19 3H5c-1.1 0-2 .9-2 2v14c0 1.1.9 2 2 2h14c1.1 0 2-.9 2-2V5c0-1.1-.9-2-2-2zM9 17H7v-7h2v7zm4 0h-2V7h2v10zm4 0h-2v-4h2v4z\"/>\n",
              "    </g>\n",
              "</svg>\n",
              "  </button>\n",
              "\n",
              "<style>\n",
              "  .colab-df-quickchart {\n",
              "      --bg-color: #E8F0FE;\n",
              "      --fill-color: #1967D2;\n",
              "      --hover-bg-color: #E2EBFA;\n",
              "      --hover-fill-color: #174EA6;\n",
              "      --disabled-fill-color: #AAA;\n",
              "      --disabled-bg-color: #DDD;\n",
              "  }\n",
              "\n",
              "  [theme=dark] .colab-df-quickchart {\n",
              "      --bg-color: #3B4455;\n",
              "      --fill-color: #D2E3FC;\n",
              "      --hover-bg-color: #434B5C;\n",
              "      --hover-fill-color: #FFFFFF;\n",
              "      --disabled-bg-color: #3B4455;\n",
              "      --disabled-fill-color: #666;\n",
              "  }\n",
              "\n",
              "  .colab-df-quickchart {\n",
              "    background-color: var(--bg-color);\n",
              "    border: none;\n",
              "    border-radius: 50%;\n",
              "    cursor: pointer;\n",
              "    display: none;\n",
              "    fill: var(--fill-color);\n",
              "    height: 32px;\n",
              "    padding: 0;\n",
              "    width: 32px;\n",
              "  }\n",
              "\n",
              "  .colab-df-quickchart:hover {\n",
              "    background-color: var(--hover-bg-color);\n",
              "    box-shadow: 0 1px 2px rgba(60, 64, 67, 0.3), 0 1px 3px 1px rgba(60, 64, 67, 0.15);\n",
              "    fill: var(--button-hover-fill-color);\n",
              "  }\n",
              "\n",
              "  .colab-df-quickchart-complete:disabled,\n",
              "  .colab-df-quickchart-complete:disabled:hover {\n",
              "    background-color: var(--disabled-bg-color);\n",
              "    fill: var(--disabled-fill-color);\n",
              "    box-shadow: none;\n",
              "  }\n",
              "\n",
              "  .colab-df-spinner {\n",
              "    border: 2px solid var(--fill-color);\n",
              "    border-color: transparent;\n",
              "    border-bottom-color: var(--fill-color);\n",
              "    animation:\n",
              "      spin 1s steps(1) infinite;\n",
              "  }\n",
              "\n",
              "  @keyframes spin {\n",
              "    0% {\n",
              "      border-color: transparent;\n",
              "      border-bottom-color: var(--fill-color);\n",
              "      border-left-color: var(--fill-color);\n",
              "    }\n",
              "    20% {\n",
              "      border-color: transparent;\n",
              "      border-left-color: var(--fill-color);\n",
              "      border-top-color: var(--fill-color);\n",
              "    }\n",
              "    30% {\n",
              "      border-color: transparent;\n",
              "      border-left-color: var(--fill-color);\n",
              "      border-top-color: var(--fill-color);\n",
              "      border-right-color: var(--fill-color);\n",
              "    }\n",
              "    40% {\n",
              "      border-color: transparent;\n",
              "      border-right-color: var(--fill-color);\n",
              "      border-top-color: var(--fill-color);\n",
              "    }\n",
              "    60% {\n",
              "      border-color: transparent;\n",
              "      border-right-color: var(--fill-color);\n",
              "    }\n",
              "    80% {\n",
              "      border-color: transparent;\n",
              "      border-right-color: var(--fill-color);\n",
              "      border-bottom-color: var(--fill-color);\n",
              "    }\n",
              "    90% {\n",
              "      border-color: transparent;\n",
              "      border-bottom-color: var(--fill-color);\n",
              "    }\n",
              "  }\n",
              "</style>\n",
              "\n",
              "  <script>\n",
              "    async function quickchart(key) {\n",
              "      const quickchartButtonEl =\n",
              "        document.querySelector('#' + key + ' button');\n",
              "      quickchartButtonEl.disabled = true;  // To prevent multiple clicks.\n",
              "      quickchartButtonEl.classList.add('colab-df-spinner');\n",
              "      try {\n",
              "        const charts = await google.colab.kernel.invokeFunction(\n",
              "            'suggestCharts', [key], {});\n",
              "      } catch (error) {\n",
              "        console.error('Error during call to suggestCharts:', error);\n",
              "      }\n",
              "      quickchartButtonEl.classList.remove('colab-df-spinner');\n",
              "      quickchartButtonEl.classList.add('colab-df-quickchart-complete');\n",
              "    }\n",
              "    (() => {\n",
              "      let quickchartButtonEl =\n",
              "        document.querySelector('#df-852862d9-ab40-4959-8204-73d289a9ef77 button');\n",
              "      quickchartButtonEl.style.display =\n",
              "        google.colab.kernel.accessAllowed ? 'block' : 'none';\n",
              "    })();\n",
              "  </script>\n",
              "</div>\n",
              "    </div>\n",
              "  </div>\n"
            ]
          },
          "metadata": {},
          "execution_count": 3
        }
      ],
      "source": [
        "df = pd.read_csv('/content/drive/MyDrive/DAMI/data_dami_new.csv')\n",
        "df"
      ]
    },
    {
      "cell_type": "markdown",
      "metadata": {
        "id": "SHn_Q6knD_re"
      },
      "source": [
        "### Check Missing Value"
      ]
    },
    {
      "cell_type": "code",
      "execution_count": 4,
      "metadata": {
        "colab": {
          "base_uri": "https://localhost:8080/"
        },
        "id": "TS-DMDHaDy2W",
        "outputId": "387dbe0f-c56c-419e-f537-4943cf50df86"
      },
      "outputs": [
        {
          "output_type": "execute_result",
          "data": {
            "text/plain": [
              "PSTV01    0\n",
              "PSTV02    0\n",
              "PSTV03    0\n",
              "PSTV04    0\n",
              "PSTV05    0\n",
              "PSTV06    0\n",
              "PSTV07    0\n",
              "PSTV08    0\n",
              "PSTV09    0\n",
              "PSTV10    0\n",
              "PSTV11    0\n",
              "PSTV12    0\n",
              "PSTV13    0\n",
              "PSTV14    0\n",
              "PSTV15    0\n",
              "PSTV16    0\n",
              "PSTV17    0\n",
              "PSTV18    0\n",
              "PNK02     0\n",
              "PNK03     0\n",
              "PNK04     0\n",
              "PNK05     0\n",
              "PNK06     0\n",
              "PNK07     0\n",
              "PNK08     0\n",
              "PNK09     0\n",
              "PNK10     0\n",
              "PNK11     0\n",
              "PNK12     0\n",
              "PNK13     0\n",
              "PNK13A    6\n",
              "PNK14     0\n",
              "PNK15     0\n",
              "PNK16     0\n",
              "PNK17     0\n",
              "PNK18     0\n",
              "dtype: int64"
            ]
          },
          "metadata": {},
          "execution_count": 4
        }
      ],
      "source": [
        "df.isna().sum()"
      ]
    },
    {
      "cell_type": "markdown",
      "source": [
        "#### Handling missing value"
      ],
      "metadata": {
        "id": "55Wn6K0ffldP"
      }
    },
    {
      "cell_type": "code",
      "execution_count": 5,
      "metadata": {
        "id": "oiDY7yutEYPA"
      },
      "outputs": [],
      "source": [
        "# handling missing value\n",
        "df['PNK13A'] = df['PNK13A'].fillna('Tidak Terdeteksi')"
      ]
    },
    {
      "cell_type": "code",
      "source": [
        "df['PNK13A']"
      ],
      "metadata": {
        "colab": {
          "base_uri": "https://localhost:8080/"
        },
        "id": "FvU7WgR4Miok",
        "outputId": "61290318-bb43-4a6c-df4a-e7cf00301607"
      },
      "execution_count": 6,
      "outputs": [
        {
          "output_type": "execute_result",
          "data": {
            "text/plain": [
              "0         O80\n",
              "1         O80\n",
              "2         O80\n",
              "3         R06\n",
              "4         R06\n",
              "         ... \n",
              "109474    R19\n",
              "109475    R19\n",
              "109476    K29\n",
              "109477    K29\n",
              "109478    K29\n",
              "Name: PNK13A, Length: 109479, dtype: object"
            ]
          },
          "metadata": {},
          "execution_count": 6
        }
      ]
    },
    {
      "cell_type": "markdown",
      "source": [
        "### Check Duplicated"
      ],
      "metadata": {
        "id": "U0HYdhzrkqAZ"
      }
    },
    {
      "cell_type": "code",
      "source": [
        "df = df.duplicated()\n",
        "df.sum()"
      ],
      "metadata": {
        "colab": {
          "base_uri": "https://localhost:8080/"
        },
        "id": "DRVKeIoBk3z7",
        "outputId": "b3d5837a-f27a-4223-c97e-ddb980016951"
      },
      "execution_count": 9,
      "outputs": [
        {
          "output_type": "execute_result",
          "data": {
            "text/plain": [
              "1461"
            ]
          },
          "metadata": {},
          "execution_count": 9
        }
      ]
    },
    {
      "cell_type": "markdown",
      "source": [
        "#### Drop Duplicated"
      ],
      "metadata": {
        "id": "QMlPtCp_lRfA"
      }
    },
    {
      "cell_type": "code",
      "source": [
        "df = df.drop_duplicates(keep='first', inplace=False)"
      ],
      "metadata": {
        "id": "WJXirTejmwnL"
      },
      "execution_count": null,
      "outputs": []
    },
    {
      "cell_type": "code",
      "source": [
        "df = df.duplicated()\n",
        "df.sum()"
      ],
      "metadata": {
        "colab": {
          "base_uri": "https://localhost:8080/"
        },
        "id": "5d3fb4-XoNQW",
        "outputId": "a4868462-ea14-4253-f0f6-2e3f9d16aadf"
      },
      "execution_count": null,
      "outputs": [
        {
          "output_type": "execute_result",
          "data": {
            "text/plain": [
              "0"
            ]
          },
          "metadata": {},
          "execution_count": 6
        }
      ]
    },
    {
      "cell_type": "markdown",
      "source": [
        "## Check Outlier"
      ],
      "metadata": {
        "id": "XCp1ShrWBKEo"
      }
    },
    {
      "cell_type": "code",
      "source": [
        "import seaborn as sns\n",
        "sns.boxplot(x=df['PNK17'])"
      ],
      "metadata": {
        "colab": {
          "base_uri": "https://localhost:8080/",
          "height": 466
        },
        "id": "26ywckeFBIw7",
        "outputId": "13a63828-0b9a-43eb-817a-ce217f2bc56e"
      },
      "execution_count": 9,
      "outputs": [
        {
          "output_type": "execute_result",
          "data": {
            "text/plain": [
              "<Axes: xlabel='PNK17'>"
            ]
          },
          "metadata": {},
          "execution_count": 9
        },
        {
          "output_type": "display_data",
          "data": {
            "text/plain": [
              "<Figure size 640x480 with 1 Axes>"
            ],
            "image/png": "[encoded data removed]"
          },
          "metadata": {}
        }
      ]
    },
    {
      "cell_type": "code",
      "source": [
        "Q1 = df.quantile(0.25, numeric_only=True)\n",
        "Q3 = df.quantile(0.75, numeric_only=True)  # Corrected to 0.75 for the third quartile\n",
        "IQR = Q3 - Q1\n",
        "\n",
        "df = df[~((df.lt(Q1 - 1.5 * IQR)) | (df.gt(Q3 + 1.5 * IQR))).any(axis=1)]\n",
        "\n",
        "df.shape"
      ],
      "metadata": {
        "colab": {
          "base_uri": "https://localhost:8080/"
        },
        "id": "F7_jrU6HBtDH",
        "outputId": "8ccfea1f-f46a-4388-91e4-d49661f288cb"
      },
      "execution_count": 10,
      "outputs": [
        {
          "output_type": "execute_result",
          "data": {
            "text/plain": [
              "(65643, 20)"
            ]
          },
          "metadata": {},
          "execution_count": 10
        }
      ]
    },
    {
      "cell_type": "markdown",
      "metadata": {
        "id": "YBICLkvgEe0i"
      },
      "source": [
        "### Check Data Unique"
      ]
    },
    {
      "cell_type": "code",
      "execution_count": 57,
      "metadata": {
        "colab": {
          "base_uri": "https://localhost:8080/"
        },
        "id": "5A3zly9XEBT8",
        "outputId": "dbcca92a-6ee1-4672-9d8d-319b7a19db47"
      },
      "outputs": [
        {
          "output_type": "execute_result",
          "data": {
            "text/plain": [
              "PSTV01     3081\n",
              "PSTV02     3069\n",
              "PSTV03     2628\n",
              "PSTV04        5\n",
              "PSTV05        2\n",
              "PSTV06        3\n",
              "PSTV07        3\n",
              "PSTV08        5\n",
              "PSTV09       34\n",
              "PSTV10      435\n",
              "PSTV11        8\n",
              "PSTV12        3\n",
              "PSTV13       34\n",
              "PSTV14      437\n",
              "PSTV15     2409\n",
              "PSTV16        3\n",
              "PSTV17        3\n",
              "PSTV18        4\n",
              "PNK02     10260\n",
              "PNK03      2327\n",
              "PNK04      2326\n",
              "PNK05      2326\n",
              "PNK06        34\n",
              "PNK07       403\n",
              "PNK08         6\n",
              "PNK09         6\n",
              "PNK10        10\n",
              "PNK11         3\n",
              "PNK12         5\n",
              "PNK13       339\n",
              "PNK13A      339\n",
              "PNK14       615\n",
              "PNK15       615\n",
              "PNK16        33\n",
              "PNK17       355\n",
              "PNK18       355\n",
              "dtype: int64"
            ]
          },
          "metadata": {},
          "execution_count": 57
        }
      ],
      "source": [
        "df.nunique()"
      ]
    },
    {
      "cell_type": "code",
      "execution_count": 58,
      "metadata": {
        "colab": {
          "base_uri": "https://localhost:8080/",
          "height": 430
        },
        "id": "1gGRjbAPExKe",
        "outputId": "5a0b112e-2799-4569-a8fe-d72d6ecede08"
      },
      "outputs": [
        {
          "output_type": "display_data",
          "data": {
            "text/plain": [
              "<Figure size 640x480 with 1 Axes>"
            ],
            "image/png": "[encoded data removed]"
          },
          "metadata": {}
        }
      ],
      "source": [
        "df['PNK11'].hist(edgecolor='black', bins=20);"
      ]
    },
    {
      "cell_type": "markdown",
      "metadata": {
        "id": "7puet8aqTON3"
      },
      "source": [
        "### Check Corellation"
      ]
    },
    {
      "cell_type": "code",
      "execution_count": 31,
      "metadata": {
        "colab": {
          "base_uri": "https://localhost:8080/",
          "height": 835
        },
        "id": "hOeRACJdTbF4",
        "outputId": "7e86ca35-2636-47c0-d7e3-6cf0662c3d24"
      },
      "outputs": [
        {
          "output_type": "display_data",
          "data": {
            "text/plain": [
              "<Figure size 1700x1500 with 2 Axes>"
            ],
            "image/png": "[encoded data removed]"
          },
          "metadata": {}
        }
      ],
      "source": [
        "numeric_df = df.select_dtypes(include=['float64', 'int64'])\n",
        "\n",
        "# correlation matrix\n",
        "correlation_matrix = numeric_df.corr()\n",
        "\n",
        "# heatmap show the correlation between features\n",
        "plt.figure(figsize=(17, 15))\n",
        "sns.heatmap(correlation_matrix, annot=False, cmap='Blues', linewidths=.5)\n",
        "\n",
        "plt.title('Feature Correlation Heatmap', fontsize=30)\n",
        "\n",
        "plt.show()"
      ]
    },
    {
      "cell_type": "markdown",
      "metadata": {
        "id": "h3t8WGIcWgb5"
      },
      "source": [
        "### Drop Unwanted Feature\n"
      ]
    },
    {
      "cell_type": "code",
      "execution_count": 7,
      "metadata": {
        "id": "SXHsUTrFWlNk"
      },
      "outputs": [],
      "source": [
        "df.drop(['PSTV18', 'PSTV17', 'PSTV16', 'PSTV11', 'PSTV12',\n",
        "         'PSTV08', 'PSTV13', 'PSTV07', 'PSTV04','PSTV06',\n",
        "         'PNK13A', 'PNK12', 'PSTV05', 'PNK06', 'PNK09', 'PNK08'], axis=1, inplace=True)"
      ]
    },
    {
      "cell_type": "code",
      "source": [
        "df.info()"
      ],
      "metadata": {
        "colab": {
          "base_uri": "https://localhost:8080/"
        },
        "id": "aNhfC3rxh0jU",
        "outputId": "e6915892-6000-48b4-9e3c-761b658b0819"
      },
      "execution_count": 33,
      "outputs": [
        {
          "output_type": "stream",
          "name": "stdout",
          "text": [
            "<class 'pandas.core.frame.DataFrame'>\n",
            "Int64Index: 65643 entries, 3 to 109457\n",
            "Data columns (total 20 columns):\n",
            " #   Column  Non-Null Count  Dtype  \n",
            "---  ------  --------------  -----  \n",
            " 0   PSTV01  65643 non-null  int64  \n",
            " 1   PSTV02  65643 non-null  int64  \n",
            " 2   PSTV03  65643 non-null  int64  \n",
            " 3   PSTV09  65643 non-null  int64  \n",
            " 4   PSTV10  65643 non-null  int64  \n",
            " 5   PSTV14  65643 non-null  int64  \n",
            " 6   PSTV15  65643 non-null  float64\n",
            " 7   PNK02   65643 non-null  int64  \n",
            " 8   PNK03   65643 non-null  int64  \n",
            " 9   PNK04   65643 non-null  int64  \n",
            " 10  PNK05   65643 non-null  int64  \n",
            " 11  PNK07   65643 non-null  int64  \n",
            " 12  PNK10   65643 non-null  int64  \n",
            " 13  PNK11   65643 non-null  int64  \n",
            " 14  PNK13   65643 non-null  int64  \n",
            " 15  PNK14   65643 non-null  int64  \n",
            " 16  PNK15   65643 non-null  int64  \n",
            " 17  PNK16   65643 non-null  int64  \n",
            " 18  PNK17   65643 non-null  int64  \n",
            " 19  PNK18   65643 non-null  int64  \n",
            "dtypes: float64(1), int64(19)\n",
            "memory usage: 10.5 MB\n"
          ]
        }
      ]
    },
    {
      "cell_type": "markdown",
      "metadata": {
        "id": "xEBN9ScSEetq"
      },
      "source": [
        "### Check Data Imbalanced"
      ]
    },
    {
      "cell_type": "code",
      "execution_count": 8,
      "metadata": {
        "colab": {
          "base_uri": "https://localhost:8080/"
        },
        "id": "sEfw28JAFLVC",
        "outputId": "e4ed2558-17a0-4be0-c9ad-eea7b67c9f25"
      },
      "outputs": [
        {
          "output_type": "stream",
          "name": "stdout",
          "text": [
            "RITP : 12.933987340037815 %\n",
            "RJTP : 35.045077138081275 %\n",
            "PROMOTIF : 52.02093552188091 %\n"
          ]
        }
      ],
      "source": [
        "All = df.shape[0]\n",
        "RITP = df[df['PNK11'] == 'RITP']\n",
        "RJTP = df[df['PNK11'] == 'RJTP']\n",
        "PROMOTIF = df[df['PNK11'] == 'PROMOTIF']\n",
        "\n",
        "totalRITP = len(RITP)/All\n",
        "totalRJTP = len(RJTP)/All\n",
        "totalPromotif = len(PROMOTIF)/All\n",
        "\n",
        "print('RITP :', totalRITP * 100, '%')\n",
        "print('RJTP :', totalRJTP * 100, '%')\n",
        "print('PROMOTIF :', totalPromotif * 100, '%')"
      ]
    },
    {
      "cell_type": "code",
      "execution_count": 43,
      "metadata": {
        "colab": {
          "base_uri": "https://localhost:8080/"
        },
        "id": "E7fCTxZFGxTT",
        "outputId": "bdd8de16-8bec-45dc-be4f-6eb77f5100de"
      },
      "outputs": [
        {
          "output_type": "stream",
          "name": "stdout",
          "text": [
            "0    0.333333\n",
            "1    0.333333\n",
            "2    0.333333\n",
            "Name: PNK11, dtype: float64\n"
          ]
        }
      ],
      "source": [
        "from imblearn.under_sampling import RandomUnderSampler\n",
        "\n",
        "train_data = pd.concat([X_train, Y_train], axis=1)\n",
        "class_counts = Y_train['PNK11'].value_counts()\n",
        "undersample_size = min(class_counts)\n",
        "rus = RandomUnderSampler(sampling_strategy={0: undersample_size, 1: undersample_size, 2: undersample_size}, random_state=42)\n",
        "X_resampled, y_resampled = rus.fit_resample(X_train, Y_train['PNK11'])\n",
        "print(pd.Series(y_resampled).value_counts(normalize=True))"
      ]
    },
    {
      "cell_type": "markdown",
      "metadata": {
        "id": "qNOh5XjjH1mV"
      },
      "source": [
        "## Transformasi"
      ]
    },
    {
      "cell_type": "code",
      "execution_count": 11,
      "metadata": {
        "id": "yvQXqVgEH3qD",
        "colab": {
          "base_uri": "https://localhost:8080/"
        },
        "outputId": "12da8be7-48dd-4c27-ed4f-842310eb0258"
      },
      "outputs": [
        {
          "output_type": "stream",
          "name": "stderr",
          "text": [
            "<ipython-input-11-f891856492b7>:1: SettingWithCopyWarning: \n",
            "A value is trying to be set on a copy of a slice from a DataFrame\n",
            "\n",
            "See the caveats in the documentation: https://pandas.pydata.org/pandas-docs/stable/user_guide/indexing.html#returning-a-view-versus-a-copy\n",
            "  df['PNK11'].replace(to_replace = ['RITP', 'RJTP', 'PROMOTIF'], value = [2, 1, 0], inplace = True)\n"
          ]
        }
      ],
      "source": [
        "df['PNK11'].replace(to_replace = ['RITP', 'RJTP', 'PROMOTIF'], value = [2, 1, 0], inplace = True)"
      ]
    },
    {
      "cell_type": "code",
      "execution_count": 12,
      "metadata": {
        "id": "wcmGznJrIFCC"
      },
      "outputs": [],
      "source": [
        "data_categorical = df.select_dtypes(include=['object']).copy()"
      ]
    },
    {
      "cell_type": "code",
      "execution_count": 13,
      "metadata": {
        "colab": {
          "base_uri": "https://localhost:8080/"
        },
        "id": "Kq1p50hOIHbC",
        "outputId": "364cc4ba-d57a-4fda-8cac-fd2558bcb452"
      },
      "outputs": [
        {
          "output_type": "stream",
          "name": "stdout",
          "text": [
            "<class 'pandas.core.frame.DataFrame'>\n",
            "Int64Index: 65643 entries, 3 to 109457\n",
            "Data columns (total 14 columns):\n",
            " #   Column  Non-Null Count  Dtype \n",
            "---  ------  --------------  ----- \n",
            " 0   PSTV03  65643 non-null  object\n",
            " 1   PSTV09  65643 non-null  object\n",
            " 2   PSTV10  65643 non-null  object\n",
            " 3   PSTV14  65643 non-null  object\n",
            " 4   PNK02   65643 non-null  object\n",
            " 5   PNK03   65643 non-null  object\n",
            " 6   PNK04   65643 non-null  object\n",
            " 7   PNK05   65643 non-null  object\n",
            " 8   PNK07   65643 non-null  object\n",
            " 9   PNK10   65643 non-null  object\n",
            " 10  PNK13   65643 non-null  object\n",
            " 11  PNK14   65643 non-null  object\n",
            " 12  PNK15   65643 non-null  object\n",
            " 13  PNK16   65643 non-null  object\n",
            "dtypes: object(14)\n",
            "memory usage: 7.5+ MB\n"
          ]
        }
      ],
      "source": [
        "data_categorical.info()"
      ]
    },
    {
      "cell_type": "code",
      "execution_count": 14,
      "metadata": {
        "id": "_rQJSy0pIIYh"
      },
      "outputs": [],
      "source": [
        "from sklearn.preprocessing import LabelEncoder\n",
        "LE = LabelEncoder()"
      ]
    },
    {
      "cell_type": "code",
      "source": [
        "df['PSTV03'] = LE.fit_transform(df['PSTV03'])\n",
        "#df['PSTV04'] = LE.fit_transform(df['PSTV04'])\n",
        "#df['PSTV05'] = LE.fit_transform(df['PSTV05'])\n",
        "#df['PSTV06'] = LE.fit_transform(df['PSTV06'])\n",
        "#df['PSTV12'] = LE.fit_transform(df['PSTV12'])\n",
        "#df['PSTV07'] = LE.fit_transform(df['PSTV07'])\n",
        "df['PSTV09'] = LE.fit_transform(df['PSTV09'])\n",
        "df['PSTV10'] = LE.fit_transform(df['PSTV10'])\n",
        "#df['PSTV11'] = LE.fit_transform(df['PSTV11'])\n",
        "#df['PSTV13'] = LE.fit_transform(df['PSTV13'])\n",
        "df['PSTV14'] = LE.fit_transform(df['PSTV14'])\n",
        "#df['PSTV17'] = LE.fit_transform(df['PSTV17'])\n",
        "#df['PSTV18'] = LE.fit_transform(df['PSTV18'])\n",
        "df['PNK02'] = LE.fit_transform(df['PNK02'])\n",
        "df['PNK03'] = LE.fit_transform(df['PNK03'])\n",
        "df['PNK04'] = LE.fit_transform(df['PNK04'])\n",
        "df['PNK05'] = LE.fit_transform(df['PNK05'])\n",
        "#df['PNK06'] = LE.fit_transform(df['PNK06'])\n",
        "df['PNK07'] = LE.fit_transform(df['PNK07'])\n",
        "#df['PNK08'] = LE.fit_transform(df['PNK08'])\n",
        "#df['PNK09'] = LE.fit_transform(df['PNK09'])\n",
        "df['PNK10'] = LE.fit_transform(df['PNK10'])\n",
        "#df['PSTV08'] = LE.fit_transform(df['PSTV08'])\n",
        "#df['PNK12'] = LE.fit_transform(df['PSTV12'])\n",
        "df['PNK13'] = LE.fit_transform(df['PNK13'])\n",
        "#df['PNK13A'] = LE.fit_transform(df['PNK13A'])\n",
        "df['PNK14'] = LE.fit_transform(df['PNK14'])\n",
        "df['PNK15'] = LE.fit_transform(df['PNK15'])\n",
        "df['PNK16'] = LE.fit_transform(df['PNK16'])"
      ],
      "metadata": {
        "id": "CwtVY1tU92Yb",
        "colab": {
          "base_uri": "https://localhost:8080/"
        },
        "outputId": "44cf3072-921d-4ccc-89a1-102c1a5f7f16"
      },
      "execution_count": 15,
      "outputs": [
        {
          "output_type": "stream",
          "name": "stderr",
          "text": [
            "<ipython-input-15-d16e501b1296>:1: SettingWithCopyWarning: \n",
            "A value is trying to be set on a copy of a slice from a DataFrame.\n",
            "Try using .loc[row_indexer,col_indexer] = value instead\n",
            "\n",
            "See the caveats in the documentation: https://pandas.pydata.org/pandas-docs/stable/user_guide/indexing.html#returning-a-view-versus-a-copy\n",
            "  df['PSTV03'] = LE.fit_transform(df['PSTV03'])\n",
            "<ipython-input-15-d16e501b1296>:7: SettingWithCopyWarning: \n",
            "A value is trying to be set on a copy of a slice from a DataFrame.\n",
            "Try using .loc[row_indexer,col_indexer] = value instead\n",
            "\n",
            "See the caveats in the documentation: https://pandas.pydata.org/pandas-docs/stable/user_guide/indexing.html#returning-a-view-versus-a-copy\n",
            "  df['PSTV09'] = LE.fit_transform(df['PSTV09'])\n",
            "<ipython-input-15-d16e501b1296>:8: SettingWithCopyWarning: \n",
            "A value is trying to be set on a copy of a slice from a DataFrame.\n",
            "Try using .loc[row_indexer,col_indexer] = value instead\n",
            "\n",
            "See the caveats in the documentation: https://pandas.pydata.org/pandas-docs/stable/user_guide/indexing.html#returning-a-view-versus-a-copy\n",
            "  df['PSTV10'] = LE.fit_transform(df['PSTV10'])\n",
            "<ipython-input-15-d16e501b1296>:11: SettingWithCopyWarning: \n",
            "A value is trying to be set on a copy of a slice from a DataFrame.\n",
            "Try using .loc[row_indexer,col_indexer] = value instead\n",
            "\n",
            "See the caveats in the documentation: https://pandas.pydata.org/pandas-docs/stable/user_guide/indexing.html#returning-a-view-versus-a-copy\n",
            "  df['PSTV14'] = LE.fit_transform(df['PSTV14'])\n",
            "<ipython-input-15-d16e501b1296>:14: SettingWithCopyWarning: \n",
            "A value is trying to be set on a copy of a slice from a DataFrame.\n",
            "Try using .loc[row_indexer,col_indexer] = value instead\n",
            "\n",
            "See the caveats in the documentation: https://pandas.pydata.org/pandas-docs/stable/user_guide/indexing.html#returning-a-view-versus-a-copy\n",
            "  df['PNK02'] = LE.fit_transform(df['PNK02'])\n",
            "<ipython-input-15-d16e501b1296>:15: SettingWithCopyWarning: \n",
            "A value is trying to be set on a copy of a slice from a DataFrame.\n",
            "Try using .loc[row_indexer,col_indexer] = value instead\n",
            "\n",
            "See the caveats in the documentation: https://pandas.pydata.org/pandas-docs/stable/user_guide/indexing.html#returning-a-view-versus-a-copy\n",
            "  df['PNK03'] = LE.fit_transform(df['PNK03'])\n",
            "<ipython-input-15-d16e501b1296>:16: SettingWithCopyWarning: \n",
            "A value is trying to be set on a copy of a slice from a DataFrame.\n",
            "Try using .loc[row_indexer,col_indexer] = value instead\n",
            "\n",
            "See the caveats in the documentation: https://pandas.pydata.org/pandas-docs/stable/user_guide/indexing.html#returning-a-view-versus-a-copy\n",
            "  df['PNK04'] = LE.fit_transform(df['PNK04'])\n",
            "<ipython-input-15-d16e501b1296>:17: SettingWithCopyWarning: \n",
            "A value is trying to be set on a copy of a slice from a DataFrame.\n",
            "Try using .loc[row_indexer,col_indexer] = value instead\n",
            "\n",
            "See the caveats in the documentation: https://pandas.pydata.org/pandas-docs/stable/user_guide/indexing.html#returning-a-view-versus-a-copy\n",
            "  df['PNK05'] = LE.fit_transform(df['PNK05'])\n",
            "<ipython-input-15-d16e501b1296>:19: SettingWithCopyWarning: \n",
            "A value is trying to be set on a copy of a slice from a DataFrame.\n",
            "Try using .loc[row_indexer,col_indexer] = value instead\n",
            "\n",
            "See the caveats in the documentation: https://pandas.pydata.org/pandas-docs/stable/user_guide/indexing.html#returning-a-view-versus-a-copy\n",
            "  df['PNK07'] = LE.fit_transform(df['PNK07'])\n",
            "<ipython-input-15-d16e501b1296>:22: SettingWithCopyWarning: \n",
            "A value is trying to be set on a copy of a slice from a DataFrame.\n",
            "Try using .loc[row_indexer,col_indexer] = value instead\n",
            "\n",
            "See the caveats in the documentation: https://pandas.pydata.org/pandas-docs/stable/user_guide/indexing.html#returning-a-view-versus-a-copy\n",
            "  df['PNK10'] = LE.fit_transform(df['PNK10'])\n",
            "<ipython-input-15-d16e501b1296>:25: SettingWithCopyWarning: \n",
            "A value is trying to be set on a copy of a slice from a DataFrame.\n",
            "Try using .loc[row_indexer,col_indexer] = value instead\n",
            "\n",
            "See the caveats in the documentation: https://pandas.pydata.org/pandas-docs/stable/user_guide/indexing.html#returning-a-view-versus-a-copy\n",
            "  df['PNK13'] = LE.fit_transform(df['PNK13'])\n",
            "<ipython-input-15-d16e501b1296>:27: SettingWithCopyWarning: \n",
            "A value is trying to be set on a copy of a slice from a DataFrame.\n",
            "Try using .loc[row_indexer,col_indexer] = value instead\n",
            "\n",
            "See the caveats in the documentation: https://pandas.pydata.org/pandas-docs/stable/user_guide/indexing.html#returning-a-view-versus-a-copy\n",
            "  df['PNK14'] = LE.fit_transform(df['PNK14'])\n",
            "<ipython-input-15-d16e501b1296>:28: SettingWithCopyWarning: \n",
            "A value is trying to be set on a copy of a slice from a DataFrame.\n",
            "Try using .loc[row_indexer,col_indexer] = value instead\n",
            "\n",
            "See the caveats in the documentation: https://pandas.pydata.org/pandas-docs/stable/user_guide/indexing.html#returning-a-view-versus-a-copy\n",
            "  df['PNK15'] = LE.fit_transform(df['PNK15'])\n",
            "<ipython-input-15-d16e501b1296>:29: SettingWithCopyWarning: \n",
            "A value is trying to be set on a copy of a slice from a DataFrame.\n",
            "Try using .loc[row_indexer,col_indexer] = value instead\n",
            "\n",
            "See the caveats in the documentation: https://pandas.pydata.org/pandas-docs/stable/user_guide/indexing.html#returning-a-view-versus-a-copy\n",
            "  df['PNK16'] = LE.fit_transform(df['PNK16'])\n"
          ]
        }
      ]
    },
    {
      "cell_type": "code",
      "source": [
        "df['PSTV03'] = LE.fit_transform(df['PSTV03'])\n",
        "df['PSTV04'] = LE.fit_transform(df['PSTV04'])\n",
        "df['PSTV05'] = LE.fit_transform(df['PSTV05'])\n",
        "df['PSTV06'] = LE.fit_transform(df['PSTV06'])\n",
        "df['PSTV07'] = LE.fit_transform(df['PSTV07'])\n",
        "df['PSTV08'] = LE.fit_transform(df['PSTV08'])\n",
        "df['PSTV09'] = LE.fit_transform(df['PSTV09'])\n",
        "df['PSTV10'] = LE.fit_transform(df['PSTV10'])\n",
        "df['PSTV11'] = LE.fit_transform(df['PSTV11'])\n",
        "df['PSTV12'] = LE.fit_transform(df['PSTV12'])\n",
        "df['PSTV13'] = LE.fit_transform(df['PSTV13'])\n",
        "df['PSTV14'] = LE.fit_transform(df['PSTV14'])\n",
        "df['PSTV17'] = LE.fit_transform(df['PSTV17'])\n",
        "df['PNK02'] = LE.fit_transform(df['PNK02'])\n",
        "df['PNK03'] = LE.fit_transform(df['PNK03'])\n",
        "df['PNK04'] = LE.fit_transform(df['PNK04'])\n",
        "df['PNK05'] = LE.fit_transform(df['PNK05'])\n",
        "df['PNK06'] = LE.fit_transform(df['PNK06'])\n",
        "df['PNK07'] = LE.fit_transform(df['PNK07'])\n",
        "df['PNK08'] = LE.fit_transform(df['PNK08'])\n",
        "df['PNK09'] = LE.fit_transform(df['PNK09'])\n",
        "df['PNK10'] = LE.fit_transform(df['PNK10'])\n",
        "df['PNK12'] = LE.fit_transform(df['PSTV12'])\n",
        "df['PNK13'] = LE.fit_transform(df['PNK13'])\n",
        "df['PNK13A'] = LE.fit_transform(df['PNK13A'])\n",
        "df['PNK14'] = LE.fit_transform(df['PNK14'])\n",
        "df['PNK15'] = LE.fit_transform(df['PNK15'])\n",
        "df['PNK16'] = LE.fit_transform(df['PNK16'])"
      ],
      "metadata": {
        "id": "Eo4GlKcIgke0"
      },
      "execution_count": null,
      "outputs": []
    },
    {
      "cell_type": "code",
      "execution_count": 37,
      "metadata": {
        "colab": {
          "base_uri": "https://localhost:8080/"
        },
        "id": "wHg1vJKjImdH",
        "outputId": "9a21f632-a06d-461b-beae-caa974e6f7b1"
      },
      "outputs": [
        {
          "output_type": "stream",
          "name": "stdout",
          "text": [
            "<class 'pandas.core.frame.DataFrame'>\n",
            "RangeIndex: 109479 entries, 0 to 109478\n",
            "Data columns (total 20 columns):\n",
            " #   Column  Non-Null Count   Dtype  \n",
            "---  ------  --------------   -----  \n",
            " 0   PSTV01  109479 non-null  int64  \n",
            " 1   PSTV02  109479 non-null  int64  \n",
            " 2   PSTV03  109479 non-null  int64  \n",
            " 3   PSTV09  109479 non-null  int64  \n",
            " 4   PSTV10  109479 non-null  int64  \n",
            " 5   PSTV14  109479 non-null  int64  \n",
            " 6   PSTV15  109479 non-null  float64\n",
            " 7   PNK02   109479 non-null  int64  \n",
            " 8   PNK03   109479 non-null  int64  \n",
            " 9   PNK04   109479 non-null  int64  \n",
            " 10  PNK05   109479 non-null  int64  \n",
            " 11  PNK07   109479 non-null  int64  \n",
            " 12  PNK10   109479 non-null  int64  \n",
            " 13  PNK11   109479 non-null  int64  \n",
            " 14  PNK13   109479 non-null  int64  \n",
            " 15  PNK14   109479 non-null  int64  \n",
            " 16  PNK15   109479 non-null  int64  \n",
            " 17  PNK16   109479 non-null  int64  \n",
            " 18  PNK17   109479 non-null  int64  \n",
            " 19  PNK18   109479 non-null  int64  \n",
            "dtypes: float64(1), int64(19)\n",
            "memory usage: 16.7 MB\n"
          ]
        }
      ],
      "source": [
        "df.info()"
      ]
    },
    {
      "cell_type": "markdown",
      "metadata": {
        "id": "5WUfQUoMI5WK"
      },
      "source": [
        "## Preprocessing data for Classification"
      ]
    },
    {
      "cell_type": "markdown",
      "metadata": {
        "id": "5YkKlzxhLiF1"
      },
      "source": [
        "### Splitting data in X and Y"
      ]
    },
    {
      "cell_type": "code",
      "execution_count": 16,
      "metadata": {
        "id": "geSN-rDBIpLR"
      },
      "outputs": [],
      "source": [
        "X = df.drop(['PNK11'], axis=1)\n",
        "Y = df[['PNK11']]"
      ]
    },
    {
      "cell_type": "code",
      "execution_count": 17,
      "metadata": {
        "colab": {
          "base_uri": "https://localhost:8080/",
          "height": 444
        },
        "id": "VtzL4hS9vUk2",
        "outputId": "7e71364b-33fb-435d-fff7-e8adf5eb8615"
      },
      "outputs": [
        {
          "output_type": "execute_result",
          "data": {
            "text/plain": [
              "          PSTV01    PSTV02  PSTV03  PSTV09  PSTV10  PSTV14     PSTV15  PNK02  \\\n",
              "3       75453396  75453396     622       9      47      49  10.173553   6651   \n",
              "4       75453396  75453396     622       9      47      49  10.173553   6651   \n",
              "5       75453396  75453396     622       9      47      49  10.173553   6651   \n",
              "6       98396595  98396595     820      10     250     251   1.258935   1239   \n",
              "7       98396595  98396595     820      10     250     251   1.258935   1239   \n",
              "...          ...       ...     ...     ...     ...     ...        ...    ...   \n",
              "109453  36617345  36617345     750      31     382     384   3.182838   8430   \n",
              "109454  36617345  36617345     750      31     382     384   3.182838   8431   \n",
              "109455  36617345  36617345     750      31     382     384   3.182838   8430   \n",
              "109456  36617345  36617345     750      31     382     384   3.182838   8431   \n",
              "109457  36617345  36617345     750      31     382     384   3.182838   8430   \n",
              "\n",
              "        PNK03  PNK04  PNK05  PNK07  PNK10  PNK13  PNK14  PNK15  PNK16   PNK17  \\\n",
              "3        1525   1524   1523     48      7    255    464    153      0  161700   \n",
              "4        1525   1524   1523     48      7    255    464    153      0  161700   \n",
              "5        1525   1524   1523     48      7    255    464    153      0  161700   \n",
              "6        1496   1495   1494    240      3     73    153    420      0  112500   \n",
              "7        1496   1495   1494    240      3     73    153    420      0  112500   \n",
              "...       ...    ...    ...    ...    ...    ...    ...    ...    ...     ...   \n",
              "109453   1324   1323   1322    357      7    125    250    101      0  135000   \n",
              "109454   1348   1347   1346    357      7     33     74    505      0  135000   \n",
              "109455   1324   1323   1322    357      7    125    250    101      0  135000   \n",
              "109456   1348   1347   1346    357      7     33     74    505      0  135000   \n",
              "109457   1324   1323   1322    357      7    125    250    101      0  135000   \n",
              "\n",
              "         PNK18  \n",
              "3       161700  \n",
              "4       161700  \n",
              "5       161700  \n",
              "6       112500  \n",
              "7       112500  \n",
              "...        ...  \n",
              "109453  135000  \n",
              "109454  135000  \n",
              "109455  135000  \n",
              "109456  135000  \n",
              "109457  135000  \n",
              "\n",
              "[65643 rows x 19 columns]"
            ],
            "text/html": [
              "\n",
              "  <div id=\"df-2d9c19b9-b159-43ed-b430-1ecf12287b59\" class=\"colab-df-container\">\n",
              "    <div>\n",
              "<style scoped>\n",
              "    .dataframe tbody tr th:only-of-type {\n",
              "        vertical-align: middle;\n",
              "    }\n",
              "\n",
              "    .dataframe tbody tr th {\n",
              "        vertical-align: top;\n",
              "    }\n",
              "\n",
              "    .dataframe thead th {\n",
              "        text-align: right;\n",
              "    }\n",
              "</style>\n",
              "<table border=\"1\" class=\"dataframe\">\n",
              "  <thead>\n",
              "    <tr style=\"text-align: right;\">\n",
              "      <th></th>\n",
              "      <th>PSTV01</th>\n",
              "      <th>PSTV02</th>\n",
              "      <th>PSTV03</th>\n",
              "      <th>PSTV09</th>\n",
              "      <th>PSTV10</th>\n",
              "      <th>PSTV14</th>\n",
              "      <th>PSTV15</th>\n",
              "      <th>PNK02</th>\n",
              "      <th>PNK03</th>\n",
              "      <th>PNK04</th>\n",
              "      <th>PNK05</th>\n",
              "      <th>PNK07</th>\n",
              "      <th>PNK10</th>\n",
              "      <th>PNK13</th>\n",
              "      <th>PNK14</th>\n",
              "      <th>PNK15</th>\n",
              "      <th>PNK16</th>\n",
              "      <th>PNK17</th>\n",
              "      <th>PNK18</th>\n",
              "    </tr>\n",
              "  </thead>\n",
              "  <tbody>\n",
              "    <tr>\n",
              "      <th>3</th>\n",
              "      <td>75453396</td>\n",
              "      <td>75453396</td>\n",
              "      <td>622</td>\n",
              "      <td>9</td>\n",
              "      <td>47</td>\n",
              "      <td>49</td>\n",
              "      <td>10.173553</td>\n",
              "      <td>6651</td>\n",
              "      <td>1525</td>\n",
              "      <td>1524</td>\n",
              "      <td>1523</td>\n",
              "      <td>48</td>\n",
              "      <td>7</td>\n",
              "      <td>255</td>\n",
              "      <td>464</td>\n",
              "      <td>153</td>\n",
              "      <td>0</td>\n",
              "      <td>161700</td>\n",
              "      <td>161700</td>\n",
              "    </tr>\n",
              "    <tr>\n",
              "      <th>4</th>\n",
              "      <td>75453396</td>\n",
              "      <td>75453396</td>\n",
              "      <td>622</td>\n",
              "      <td>9</td>\n",
              "      <td>47</td>\n",
              "      <td>49</td>\n",
              "      <td>10.173553</td>\n",
              "      <td>6651</td>\n",
              "      <td>1525</td>\n",
              "      <td>1524</td>\n",
              "      <td>1523</td>\n",
              "      <td>48</td>\n",
              "      <td>7</td>\n",
              "      <td>255</td>\n",
              "      <td>464</td>\n",
              "      <td>153</td>\n",
              "      <td>0</td>\n",
              "      <td>161700</td>\n",
              "      <td>161700</td>\n",
              "    </tr>\n",
              "    <tr>\n",
              "      <th>5</th>\n",
              "      <td>75453396</td>\n",
              "      <td>75453396</td>\n",
              "      <td>622</td>\n",
              "      <td>9</td>\n",
              "      <td>47</td>\n",
              "      <td>49</td>\n",
              "      <td>10.173553</td>\n",
              "      <td>6651</td>\n",
              "      <td>1525</td>\n",
              "      <td>1524</td>\n",
              "      <td>1523</td>\n",
              "      <td>48</td>\n",
              "      <td>7</td>\n",
              "      <td>255</td>\n",
              "      <td>464</td>\n",
              "      <td>153</td>\n",
              "      <td>0</td>\n",
              "      <td>161700</td>\n",
              "      <td>161700</td>\n",
              "    </tr>\n",
              "    <tr>\n",
              "      <th>6</th>\n",
              "      <td>98396595</td>\n",
              "      <td>98396595</td>\n",
              "      <td>820</td>\n",
              "      <td>10</td>\n",
              "      <td>250</td>\n",
              "      <td>251</td>\n",
              "      <td>1.258935</td>\n",
              "      <td>1239</td>\n",
              "      <td>1496</td>\n",
              "      <td>1495</td>\n",
              "      <td>1494</td>\n",
              "      <td>240</td>\n",
              "      <td>3</td>\n",
              "      <td>73</td>\n",
              "      <td>153</td>\n",
              "      <td>420</td>\n",
              "      <td>0</td>\n",
              "      <td>112500</td>\n",
              "      <td>112500</td>\n",
              "    </tr>\n",
              "    <tr>\n",
              "      <th>7</th>\n",
              "      <td>98396595</td>\n",
              "      <td>98396595</td>\n",
              "      <td>820</td>\n",
              "      <td>10</td>\n",
              "      <td>250</td>\n",
              "      <td>251</td>\n",
              "      <td>1.258935</td>\n",
              "      <td>1239</td>\n",
              "      <td>1496</td>\n",
              "      <td>1495</td>\n",
              "      <td>1494</td>\n",
              "      <td>240</td>\n",
              "      <td>3</td>\n",
              "      <td>73</td>\n",
              "      <td>153</td>\n",
              "      <td>420</td>\n",
              "      <td>0</td>\n",
              "      <td>112500</td>\n",
              "      <td>112500</td>\n",
              "    </tr>\n",
              "    <tr>\n",
              "      <th>...</th>\n",
              "      <td>...</td>\n",
              "      <td>...</td>\n",
              "      <td>...</td>\n",
              "      <td>...</td>\n",
              "      <td>...</td>\n",
              "      <td>...</td>\n",
              "      <td>...</td>\n",
              "      <td>...</td>\n",
              "      <td>...</td>\n",
              "      <td>...</td>\n",
              "      <td>...</td>\n",
              "      <td>...</td>\n",
              "      <td>...</td>\n",
              "      <td>...</td>\n",
              "      <td>...</td>\n",
              "      <td>...</td>\n",
              "      <td>...</td>\n",
              "      <td>...</td>\n",
              "      <td>...</td>\n",
              "    </tr>\n",
              "    <tr>\n",
              "      <th>109453</th>\n",
              "      <td>36617345</td>\n",
              "      <td>36617345</td>\n",
              "      <td>750</td>\n",
              "      <td>31</td>\n",
              "      <td>382</td>\n",
              "      <td>384</td>\n",
              "      <td>3.182838</td>\n",
              "      <td>8430</td>\n",
              "      <td>1324</td>\n",
              "      <td>1323</td>\n",
              "      <td>1322</td>\n",
              "      <td>357</td>\n",
              "      <td>7</td>\n",
              "      <td>125</td>\n",
              "      <td>250</td>\n",
              "      <td>101</td>\n",
              "      <td>0</td>\n",
              "      <td>135000</td>\n",
              "      <td>135000</td>\n",
              "    </tr>\n",
              "    <tr>\n",
              "      <th>109454</th>\n",
              "      <td>36617345</td>\n",
              "      <td>36617345</td>\n",
              "      <td>750</td>\n",
              "      <td>31</td>\n",
              "      <td>382</td>\n",
              "      <td>384</td>\n",
              "      <td>3.182838</td>\n",
              "      <td>8431</td>\n",
              "      <td>1348</td>\n",
              "      <td>1347</td>\n",
              "      <td>1346</td>\n",
              "      <td>357</td>\n",
              "      <td>7</td>\n",
              "      <td>33</td>\n",
              "      <td>74</td>\n",
              "      <td>505</td>\n",
              "      <td>0</td>\n",
              "      <td>135000</td>\n",
              "      <td>135000</td>\n",
              "    </tr>\n",
              "    <tr>\n",
              "      <th>109455</th>\n",
              "      <td>36617345</td>\n",
              "      <td>36617345</td>\n",
              "      <td>750</td>\n",
              "      <td>31</td>\n",
              "      <td>382</td>\n",
              "      <td>384</td>\n",
              "      <td>3.182838</td>\n",
              "      <td>8430</td>\n",
              "      <td>1324</td>\n",
              "      <td>1323</td>\n",
              "      <td>1322</td>\n",
              "      <td>357</td>\n",
              "      <td>7</td>\n",
              "      <td>125</td>\n",
              "      <td>250</td>\n",
              "      <td>101</td>\n",
              "      <td>0</td>\n",
              "      <td>135000</td>\n",
              "      <td>135000</td>\n",
              "    </tr>\n",
              "    <tr>\n",
              "      <th>109456</th>\n",
              "      <td>36617345</td>\n",
              "      <td>36617345</td>\n",
              "      <td>750</td>\n",
              "      <td>31</td>\n",
              "      <td>382</td>\n",
              "      <td>384</td>\n",
              "      <td>3.182838</td>\n",
              "      <td>8431</td>\n",
              "      <td>1348</td>\n",
              "      <td>1347</td>\n",
              "      <td>1346</td>\n",
              "      <td>357</td>\n",
              "      <td>7</td>\n",
              "      <td>33</td>\n",
              "      <td>74</td>\n",
              "      <td>505</td>\n",
              "      <td>0</td>\n",
              "      <td>135000</td>\n",
              "      <td>135000</td>\n",
              "    </tr>\n",
              "    <tr>\n",
              "      <th>109457</th>\n",
              "      <td>36617345</td>\n",
              "      <td>36617345</td>\n",
              "      <td>750</td>\n",
              "      <td>31</td>\n",
              "      <td>382</td>\n",
              "      <td>384</td>\n",
              "      <td>3.182838</td>\n",
              "      <td>8430</td>\n",
              "      <td>1324</td>\n",
              "      <td>1323</td>\n",
              "      <td>1322</td>\n",
              "      <td>357</td>\n",
              "      <td>7</td>\n",
              "      <td>125</td>\n",
              "      <td>250</td>\n",
              "      <td>101</td>\n",
              "      <td>0</td>\n",
              "      <td>135000</td>\n",
              "      <td>135000</td>\n",
              "    </tr>\n",
              "  </tbody>\n",
              "</table>\n",
              "<p>65643 rows × 19 columns</p>\n",
              "</div>\n",
              "    <div class=\"colab-df-buttons\">\n",
              "\n",
              "  <div class=\"colab-df-container\">\n",
              "    <button class=\"colab-df-convert\" onclick=\"convertToInteractive('df-2d9c19b9-b159-43ed-b430-1ecf12287b59')\"\n",
              "            title=\"Convert this dataframe to an interactive table.\"\n",
              "            style=\"display:none;\">\n",
              "\n",
              "  <svg xmlns=\"http://www.w3.org/2000/svg\" height=\"24px\" viewBox=\"0 -960 960 960\">\n",
              "    <path d=\"M120-120v-720h720v720H120Zm60-500h600v-160H180v160Zm220 220h160v-160H400v160Zm0 220h160v-160H400v160ZM180-400h160v-160H180v160Zm440 0h160v-160H620v160ZM180-180h160v-160H180v160Zm440 0h160v-160H620v160Z\"/>\n",
              "  </svg>\n",
              "    </button>\n",
              "\n",
              "  <style>\n",
              "    .colab-df-container {\n",
              "      display:flex;\n",
              "      gap: 12px;\n",
              "    }\n",
              "\n",
              "    .colab-df-convert {\n",
              "      background-color: #E8F0FE;\n",
              "      border: none;\n",
              "      border-radius: 50%;\n",
              "      cursor: pointer;\n",
              "      display: none;\n",
              "      fill: #1967D2;\n",
              "      height: 32px;\n",
              "      padding: 0 0 0 0;\n",
              "      width: 32px;\n",
              "    }\n",
              "\n",
              "    .colab-df-convert:hover {\n",
              "      background-color: #E2EBFA;\n",
              "      box-shadow: 0px 1px 2px rgba(60, 64, 67, 0.3), 0px 1px 3px 1px rgba(60, 64, 67, 0.15);\n",
              "      fill: #174EA6;\n",
              "    }\n",
              "\n",
              "    .colab-df-buttons div {\n",
              "      margin-bottom: 4px;\n",
              "    }\n",
              "\n",
              "    [theme=dark] .colab-df-convert {\n",
              "      background-color: #3B4455;\n",
              "      fill: #D2E3FC;\n",
              "    }\n",
              "\n",
              "    [theme=dark] .colab-df-convert:hover {\n",
              "      background-color: #434B5C;\n",
              "      box-shadow: 0px 1px 3px 1px rgba(0, 0, 0, 0.15);\n",
              "      filter: drop-shadow(0px 1px 2px rgba(0, 0, 0, 0.3));\n",
              "      fill: #FFFFFF;\n",
              "    }\n",
              "  </style>\n",
              "\n",
              "    <script>\n",
              "      const buttonEl =\n",
              "        document.querySelector('#df-2d9c19b9-b159-43ed-b430-1ecf12287b59 button.colab-df-convert');\n",
              "      buttonEl.style.display =\n",
              "        google.colab.kernel.accessAllowed ? 'block' : 'none';\n",
              "\n",
              "      async function convertToInteractive(key) {\n",
              "        const element = document.querySelector('#df-2d9c19b9-b159-43ed-b430-1ecf12287b59');\n",
              "        const dataTable =\n",
              "          await google.colab.kernel.invokeFunction('convertToInteractive',\n",
              "                                                    [key], {});\n",
              "        if (!dataTable) return;\n",
              "\n",
              "        const docLinkHtml = 'Like what you see? Visit the ' +\n",
              "          '<a target=\"_blank\" href=https://colab.research.google.com/notebooks/data_table.ipynb>data table notebook</a>'\n",
              "          + ' to learn more about interactive tables.';\n",
              "        element.innerHTML = '';\n",
              "        dataTable['output_type'] = 'display_data';\n",
              "        await google.colab.output.renderOutput(dataTable, element);\n",
              "        const docLink = document.createElement('div');\n",
              "        docLink.innerHTML = docLinkHtml;\n",
              "        element.appendChild(docLink);\n",
              "      }\n",
              "    </script>\n",
              "  </div>\n",
              "\n",
              "\n",
              "<div id=\"df-c9c22f48-6db8-482b-8fa8-16e46c787aca\">\n",
              "  <button class=\"colab-df-quickchart\" onclick=\"quickchart('df-c9c22f48-6db8-482b-8fa8-16e46c787aca')\"\n",
              "            title=\"Suggest charts\"\n",
              "            style=\"display:none;\">\n",
              "\n",
              "<svg xmlns=\"http://www.w3.org/2000/svg\" height=\"24px\"viewBox=\"0 0 24 24\"\n",
              "     width=\"24px\">\n",
              "    <g>\n",
              "        <path d=\"M19 3H5c-1.1 0-2 .9-2 2v14c0 1.1.9 2 2 2h14c1.1 0 2-.9 2-2V5c0-1.1-.9-2-2-2zM9 17H7v-7h2v7zm4 0h-2V7h2v10zm4 0h-2v-4h2v4z\"/>\n",
              "    </g>\n",
              "</svg>\n",
              "  </button>\n",
              "\n",
              "<style>\n",
              "  .colab-df-quickchart {\n",
              "      --bg-color: #E8F0FE;\n",
              "      --fill-color: #1967D2;\n",
              "      --hover-bg-color: #E2EBFA;\n",
              "      --hover-fill-color: #174EA6;\n",
              "      --disabled-fill-color: #AAA;\n",
              "      --disabled-bg-color: #DDD;\n",
              "  }\n",
              "\n",
              "  [theme=dark] .colab-df-quickchart {\n",
              "      --bg-color: #3B4455;\n",
              "      --fill-color: #D2E3FC;\n",
              "      --hover-bg-color: #434B5C;\n",
              "      --hover-fill-color: #FFFFFF;\n",
              "      --disabled-bg-color: #3B4455;\n",
              "      --disabled-fill-color: #666;\n",
              "  }\n",
              "\n",
              "  .colab-df-quickchart {\n",
              "    background-color: var(--bg-color);\n",
              "    border: none;\n",
              "    border-radius: 50%;\n",
              "    cursor: pointer;\n",
              "    display: none;\n",
              "    fill: var(--fill-color);\n",
              "    height: 32px;\n",
              "    padding: 0;\n",
              "    width: 32px;\n",
              "  }\n",
              "\n",
              "  .colab-df-quickchart:hover {\n",
              "    background-color: var(--hover-bg-color);\n",
              "    box-shadow: 0 1px 2px rgba(60, 64, 67, 0.3), 0 1px 3px 1px rgba(60, 64, 67, 0.15);\n",
              "    fill: var(--button-hover-fill-color);\n",
              "  }\n",
              "\n",
              "  .colab-df-quickchart-complete:disabled,\n",
              "  .colab-df-quickchart-complete:disabled:hover {\n",
              "    background-color: var(--disabled-bg-color);\n",
              "    fill: var(--disabled-fill-color);\n",
              "    box-shadow: none;\n",
              "  }\n",
              "\n",
              "  .colab-df-spinner {\n",
              "    border: 2px solid var(--fill-color);\n",
              "    border-color: transparent;\n",
              "    border-bottom-color: var(--fill-color);\n",
              "    animation:\n",
              "      spin 1s steps(1) infinite;\n",
              "  }\n",
              "\n",
              "  @keyframes spin {\n",
              "    0% {\n",
              "      border-color: transparent;\n",
              "      border-bottom-color: var(--fill-color);\n",
              "      border-left-color: var(--fill-color);\n",
              "    }\n",
              "    20% {\n",
              "      border-color: transparent;\n",
              "      border-left-color: var(--fill-color);\n",
              "      border-top-color: var(--fill-color);\n",
              "    }\n",
              "    30% {\n",
              "      border-color: transparent;\n",
              "      border-left-color: var(--fill-color);\n",
              "      border-top-color: var(--fill-color);\n",
              "      border-right-color: var(--fill-color);\n",
              "    }\n",
              "    40% {\n",
              "      border-color: transparent;\n",
              "      border-right-color: var(--fill-color);\n",
              "      border-top-color: var(--fill-color);\n",
              "    }\n",
              "    60% {\n",
              "      border-color: transparent;\n",
              "      border-right-color: var(--fill-color);\n",
              "    }\n",
              "    80% {\n",
              "      border-color: transparent;\n",
              "      border-right-color: var(--fill-color);\n",
              "      border-bottom-color: var(--fill-color);\n",
              "    }\n",
              "    90% {\n",
              "      border-color: transparent;\n",
              "      border-bottom-color: var(--fill-color);\n",
              "    }\n",
              "  }\n",
              "</style>\n",
              "\n",
              "  <script>\n",
              "    async function quickchart(key) {\n",
              "      const quickchartButtonEl =\n",
              "        document.querySelector('#' + key + ' button');\n",
              "      quickchartButtonEl.disabled = true;  // To prevent multiple clicks.\n",
              "      quickchartButtonEl.classList.add('colab-df-spinner');\n",
              "      try {\n",
              "        const charts = await google.colab.kernel.invokeFunction(\n",
              "            'suggestCharts', [key], {});\n",
              "      } catch (error) {\n",
              "        console.error('Error during call to suggestCharts:', error);\n",
              "      }\n",
              "      quickchartButtonEl.classList.remove('colab-df-spinner');\n",
              "      quickchartButtonEl.classList.add('colab-df-quickchart-complete');\n",
              "    }\n",
              "    (() => {\n",
              "      let quickchartButtonEl =\n",
              "        document.querySelector('#df-c9c22f48-6db8-482b-8fa8-16e46c787aca button');\n",
              "      quickchartButtonEl.style.display =\n",
              "        google.colab.kernel.accessAllowed ? 'block' : 'none';\n",
              "    })();\n",
              "  </script>\n",
              "</div>\n",
              "    </div>\n",
              "  </div>\n"
            ]
          },
          "metadata": {},
          "execution_count": 17
        }
      ],
      "source": [
        "X"
      ]
    },
    {
      "cell_type": "code",
      "source": [
        "Y"
      ],
      "metadata": {
        "colab": {
          "base_uri": "https://localhost:8080/",
          "height": 424
        },
        "id": "qy9CI6w8KfCk",
        "outputId": "c4a2fdd7-74dc-4106-c0b9-d5b6222dc63f"
      },
      "execution_count": 18,
      "outputs": [
        {
          "output_type": "execute_result",
          "data": {
            "text/plain": [
              "        PNK11\n",
              "3           1\n",
              "4           1\n",
              "5           1\n",
              "6           1\n",
              "7           1\n",
              "...       ...\n",
              "109453      1\n",
              "109454      1\n",
              "109455      1\n",
              "109456      1\n",
              "109457      1\n",
              "\n",
              "[65643 rows x 1 columns]"
            ],
            "text/html": [
              "\n",
              "  <div id=\"df-37b1b1a9-aaa0-4f5b-b8b0-6638ea4d7efe\" class=\"colab-df-container\">\n",
              "    <div>\n",
              "<style scoped>\n",
              "    .dataframe tbody tr th:only-of-type {\n",
              "        vertical-align: middle;\n",
              "    }\n",
              "\n",
              "    .dataframe tbody tr th {\n",
              "        vertical-align: top;\n",
              "    }\n",
              "\n",
              "    .dataframe thead th {\n",
              "        text-align: right;\n",
              "    }\n",
              "</style>\n",
              "<table border=\"1\" class=\"dataframe\">\n",
              "  <thead>\n",
              "    <tr style=\"text-align: right;\">\n",
              "      <th></th>\n",
              "      <th>PNK11</th>\n",
              "    </tr>\n",
              "  </thead>\n",
              "  <tbody>\n",
              "    <tr>\n",
              "      <th>3</th>\n",
              "      <td>1</td>\n",
              "    </tr>\n",
              "    <tr>\n",
              "      <th>4</th>\n",
              "      <td>1</td>\n",
              "    </tr>\n",
              "    <tr>\n",
              "      <th>5</th>\n",
              "      <td>1</td>\n",
              "    </tr>\n",
              "    <tr>\n",
              "      <th>6</th>\n",
              "      <td>1</td>\n",
              "    </tr>\n",
              "    <tr>\n",
              "      <th>7</th>\n",
              "      <td>1</td>\n",
              "    </tr>\n",
              "    <tr>\n",
              "      <th>...</th>\n",
              "      <td>...</td>\n",
              "    </tr>\n",
              "    <tr>\n",
              "      <th>109453</th>\n",
              "      <td>1</td>\n",
              "    </tr>\n",
              "    <tr>\n",
              "      <th>109454</th>\n",
              "      <td>1</td>\n",
              "    </tr>\n",
              "    <tr>\n",
              "      <th>109455</th>\n",
              "      <td>1</td>\n",
              "    </tr>\n",
              "    <tr>\n",
              "      <th>109456</th>\n",
              "      <td>1</td>\n",
              "    </tr>\n",
              "    <tr>\n",
              "      <th>109457</th>\n",
              "      <td>1</td>\n",
              "    </tr>\n",
              "  </tbody>\n",
              "</table>\n",
              "<p>65643 rows × 1 columns</p>\n",
              "</div>\n",
              "    <div class=\"colab-df-buttons\">\n",
              "\n",
              "  <div class=\"colab-df-container\">\n",
              "    <button class=\"colab-df-convert\" onclick=\"convertToInteractive('df-37b1b1a9-aaa0-4f5b-b8b0-6638ea4d7efe')\"\n",
              "            title=\"Convert this dataframe to an interactive table.\"\n",
              "            style=\"display:none;\">\n",
              "\n",
              "  <svg xmlns=\"http://www.w3.org/2000/svg\" height=\"24px\" viewBox=\"0 -960 960 960\">\n",
              "    <path d=\"M120-120v-720h720v720H120Zm60-500h600v-160H180v160Zm220 220h160v-160H400v160Zm0 220h160v-160H400v160ZM180-400h160v-160H180v160Zm440 0h160v-160H620v160ZM180-180h160v-160H180v160Zm440 0h160v-160H620v160Z\"/>\n",
              "  </svg>\n",
              "    </button>\n",
              "\n",
              "  <style>\n",
              "    .colab-df-container {\n",
              "      display:flex;\n",
              "      gap: 12px;\n",
              "    }\n",
              "\n",
              "    .colab-df-convert {\n",
              "      background-color: #E8F0FE;\n",
              "      border: none;\n",
              "      border-radius: 50%;\n",
              "      cursor: pointer;\n",
              "      display: none;\n",
              "      fill: #1967D2;\n",
              "      height: 32px;\n",
              "      padding: 0 0 0 0;\n",
              "      width: 32px;\n",
              "    }\n",
              "\n",
              "    .colab-df-convert:hover {\n",
              "      background-color: #E2EBFA;\n",
              "      box-shadow: 0px 1px 2px rgba(60, 64, 67, 0.3), 0px 1px 3px 1px rgba(60, 64, 67, 0.15);\n",
              "      fill: #174EA6;\n",
              "    }\n",
              "\n",
              "    .colab-df-buttons div {\n",
              "      margin-bottom: 4px;\n",
              "    }\n",
              "\n",
              "    [theme=dark] .colab-df-convert {\n",
              "      background-color: #3B4455;\n",
              "      fill: #D2E3FC;\n",
              "    }\n",
              "\n",
              "    [theme=dark] .colab-df-convert:hover {\n",
              "      background-color: #434B5C;\n",
              "      box-shadow: 0px 1px 3px 1px rgba(0, 0, 0, 0.15);\n",
              "      filter: drop-shadow(0px 1px 2px rgba(0, 0, 0, 0.3));\n",
              "      fill: #FFFFFF;\n",
              "    }\n",
              "  </style>\n",
              "\n",
              "    <script>\n",
              "      const buttonEl =\n",
              "        document.querySelector('#df-37b1b1a9-aaa0-4f5b-b8b0-6638ea4d7efe button.colab-df-convert');\n",
              "      buttonEl.style.display =\n",
              "        google.colab.kernel.accessAllowed ? 'block' : 'none';\n",
              "\n",
              "      async function convertToInteractive(key) {\n",
              "        const element = document.querySelector('#df-37b1b1a9-aaa0-4f5b-b8b0-6638ea4d7efe');\n",
              "        const dataTable =\n",
              "          await google.colab.kernel.invokeFunction('convertToInteractive',\n",
              "                                                    [key], {});\n",
              "        if (!dataTable) return;\n",
              "\n",
              "        const docLinkHtml = 'Like what you see? Visit the ' +\n",
              "          '<a target=\"_blank\" href=https://colab.research.google.com/notebooks/data_table.ipynb>data table notebook</a>'\n",
              "          + ' to learn more about interactive tables.';\n",
              "        element.innerHTML = '';\n",
              "        dataTable['output_type'] = 'display_data';\n",
              "        await google.colab.output.renderOutput(dataTable, element);\n",
              "        const docLink = document.createElement('div');\n",
              "        docLink.innerHTML = docLinkHtml;\n",
              "        element.appendChild(docLink);\n",
              "      }\n",
              "    </script>\n",
              "  </div>\n",
              "\n",
              "\n",
              "<div id=\"df-34941a64-00fd-420c-9e43-c89294adf5dd\">\n",
              "  <button class=\"colab-df-quickchart\" onclick=\"quickchart('df-34941a64-00fd-420c-9e43-c89294adf5dd')\"\n",
              "            title=\"Suggest charts\"\n",
              "            style=\"display:none;\">\n",
              "\n",
              "<svg xmlns=\"http://www.w3.org/2000/svg\" height=\"24px\"viewBox=\"0 0 24 24\"\n",
              "     width=\"24px\">\n",
              "    <g>\n",
              "        <path d=\"M19 3H5c-1.1 0-2 .9-2 2v14c0 1.1.9 2 2 2h14c1.1 0 2-.9 2-2V5c0-1.1-.9-2-2-2zM9 17H7v-7h2v7zm4 0h-2V7h2v10zm4 0h-2v-4h2v4z\"/>\n",
              "    </g>\n",
              "</svg>\n",
              "  </button>\n",
              "\n",
              "<style>\n",
              "  .colab-df-quickchart {\n",
              "      --bg-color: #E8F0FE;\n",
              "      --fill-color: #1967D2;\n",
              "      --hover-bg-color: #E2EBFA;\n",
              "      --hover-fill-color: #174EA6;\n",
              "      --disabled-fill-color: #AAA;\n",
              "      --disabled-bg-color: #DDD;\n",
              "  }\n",
              "\n",
              "  [theme=dark] .colab-df-quickchart {\n",
              "      --bg-color: #3B4455;\n",
              "      --fill-color: #D2E3FC;\n",
              "      --hover-bg-color: #434B5C;\n",
              "      --hover-fill-color: #FFFFFF;\n",
              "      --disabled-bg-color: #3B4455;\n",
              "      --disabled-fill-color: #666;\n",
              "  }\n",
              "\n",
              "  .colab-df-quickchart {\n",
              "    background-color: var(--bg-color);\n",
              "    border: none;\n",
              "    border-radius: 50%;\n",
              "    cursor: pointer;\n",
              "    display: none;\n",
              "    fill: var(--fill-color);\n",
              "    height: 32px;\n",
              "    padding: 0;\n",
              "    width: 32px;\n",
              "  }\n",
              "\n",
              "  .colab-df-quickchart:hover {\n",
              "    background-color: var(--hover-bg-color);\n",
              "    box-shadow: 0 1px 2px rgba(60, 64, 67, 0.3), 0 1px 3px 1px rgba(60, 64, 67, 0.15);\n",
              "    fill: var(--button-hover-fill-color);\n",
              "  }\n",
              "\n",
              "  .colab-df-quickchart-complete:disabled,\n",
              "  .colab-df-quickchart-complete:disabled:hover {\n",
              "    background-color: var(--disabled-bg-color);\n",
              "    fill: var(--disabled-fill-color);\n",
              "    box-shadow: none;\n",
              "  }\n",
              "\n",
              "  .colab-df-spinner {\n",
              "    border: 2px solid var(--fill-color);\n",
              "    border-color: transparent;\n",
              "    border-bottom-color: var(--fill-color);\n",
              "    animation:\n",
              "      spin 1s steps(1) infinite;\n",
              "  }\n",
              "\n",
              "  @keyframes spin {\n",
              "    0% {\n",
              "      border-color: transparent;\n",
              "      border-bottom-color: var(--fill-color);\n",
              "      border-left-color: var(--fill-color);\n",
              "    }\n",
              "    20% {\n",
              "      border-color: transparent;\n",
              "      border-left-color: var(--fill-color);\n",
              "      border-top-color: var(--fill-color);\n",
              "    }\n",
              "    30% {\n",
              "      border-color: transparent;\n",
              "      border-left-color: var(--fill-color);\n",
              "      border-top-color: var(--fill-color);\n",
              "      border-right-color: var(--fill-color);\n",
              "    }\n",
              "    40% {\n",
              "      border-color: transparent;\n",
              "      border-right-color: var(--fill-color);\n",
              "      border-top-color: var(--fill-color);\n",
              "    }\n",
              "    60% {\n",
              "      border-color: transparent;\n",
              "      border-right-color: var(--fill-color);\n",
              "    }\n",
              "    80% {\n",
              "      border-color: transparent;\n",
              "      border-right-color: var(--fill-color);\n",
              "      border-bottom-color: var(--fill-color);\n",
              "    }\n",
              "    90% {\n",
              "      border-color: transparent;\n",
              "      border-bottom-color: var(--fill-color);\n",
              "    }\n",
              "  }\n",
              "</style>\n",
              "\n",
              "  <script>\n",
              "    async function quickchart(key) {\n",
              "      const quickchartButtonEl =\n",
              "        document.querySelector('#' + key + ' button');\n",
              "      quickchartButtonEl.disabled = true;  // To prevent multiple clicks.\n",
              "      quickchartButtonEl.classList.add('colab-df-spinner');\n",
              "      try {\n",
              "        const charts = await google.colab.kernel.invokeFunction(\n",
              "            'suggestCharts', [key], {});\n",
              "      } catch (error) {\n",
              "        console.error('Error during call to suggestCharts:', error);\n",
              "      }\n",
              "      quickchartButtonEl.classList.remove('colab-df-spinner');\n",
              "      quickchartButtonEl.classList.add('colab-df-quickchart-complete');\n",
              "    }\n",
              "    (() => {\n",
              "      let quickchartButtonEl =\n",
              "        document.querySelector('#df-34941a64-00fd-420c-9e43-c89294adf5dd button');\n",
              "      quickchartButtonEl.style.display =\n",
              "        google.colab.kernel.accessAllowed ? 'block' : 'none';\n",
              "    })();\n",
              "  </script>\n",
              "</div>\n",
              "    </div>\n",
              "  </div>\n"
            ]
          },
          "metadata": {},
          "execution_count": 18
        }
      ]
    },
    {
      "cell_type": "markdown",
      "metadata": {
        "id": "UUM3yv3xJQ--"
      },
      "source": [
        "### Splitting data in train and test"
      ]
    },
    {
      "cell_type": "code",
      "execution_count": 19,
      "metadata": {
        "colab": {
          "base_uri": "https://localhost:8080/"
        },
        "id": "GccRLvBJJZxu",
        "outputId": "6fab84df-9878-4f9b-d9f7-a28d42379b82"
      },
      "outputs": [
        {
          "output_type": "stream",
          "name": "stdout",
          "text": [
            "X_train (50216, 19)\n",
            "X_val (8862, 19)\n",
            "X_test (6565, 19)\n"
          ]
        }
      ],
      "source": [
        "X_train, X_test, Y_train, Y_test = train_test_split(X, Y, test_size=.10)\n",
        "X_train, X_val, Y_train, Y_val = train_test_split(X_train, Y_train, test_size=.15)\n",
        "print('X_train', X_train.shape)\n",
        "print('X_val', X_val.shape)\n",
        "print('X_test', X_test.shape)"
      ]
    },
    {
      "cell_type": "code",
      "execution_count": null,
      "metadata": {
        "id": "TZ27D5ZJsOA2"
      },
      "outputs": [],
      "source": [
        "# X_train, X_test, Y_train, Y_test = train_test_split(X, Y, test_size = 0.25)"
      ]
    },
    {
      "cell_type": "code",
      "execution_count": null,
      "metadata": {
        "id": "JveXLn4BuXam"
      },
      "outputs": [],
      "source": [
        "#print(f\"Shape of X_train is: {X_train.shape}\")\n",
        "#print(f\"Shape of Y_train is: {Y_train.shape}\\n\")\n",
        "#print(f\"Shape of X_test is: {X_test.shape}\")\n",
        "#print(f\"Shape of Y_test is: {Y_test.shape}\")"
      ]
    },
    {
      "cell_type": "markdown",
      "metadata": {
        "id": "-wcMErEgLxC7"
      },
      "source": [
        "## Creating ANN Model"
      ]
    },
    {
      "cell_type": "code",
      "execution_count": 20,
      "metadata": {
        "id": "jdXeo9SButzT"
      },
      "outputs": [],
      "source": [
        "from keras.models import Sequential\n",
        "from keras.layers import Dense\n",
        "from keras.optimizers import Adam"
      ]
    },
    {
      "cell_type": "code",
      "execution_count": 21,
      "metadata": {
        "id": "saaxRyxmI-n_"
      },
      "outputs": [],
      "source": [
        "from sklearn.neural_network import MLPClassifier\n",
        "\n",
        "mlp = MLPClassifier(hidden_layer_sizes=(64, ), activation='relu', max_iter=1000, epsilon=1e-08)"
      ]
    },
    {
      "cell_type": "code",
      "execution_count": 22,
      "metadata": {
        "colab": {
          "base_uri": "https://localhost:8080/"
        },
        "id": "YfIG1ZkZJUrz",
        "outputId": "ff95daf7-bebf-47c0-a956-0888c50fa70e"
      },
      "outputs": [
        {
          "output_type": "stream",
          "name": "stderr",
          "text": [
            "/usr/local/lib/python3.10/dist-packages/sklearn/neural_network/_multilayer_perceptron.py:1098: DataConversionWarning: A column-vector y was passed when a 1d array was expected. Please change the shape of y to (n_samples, ), for example using ravel().\n",
            "  y = column_or_1d(y, warn=True)\n"
          ]
        },
        {
          "output_type": "stream",
          "name": "stdout",
          "text": [
            "Akurasi Validasi Training ANN: 0.8115549537350485\n"
          ]
        }
      ],
      "source": [
        "from sklearn.metrics import accuracy_score\n",
        "\n",
        "mlp.fit(X_train, Y_train)\n",
        "prediksi_val = mlp.predict(X_val)\n",
        "acc_val = accuracy_score(Y_val, prediksi_val)\n",
        "print('Akurasi Validasi Training ANN:', acc_val)"
      ]
    },
    {
      "cell_type": "code",
      "execution_count": 23,
      "metadata": {
        "colab": {
          "base_uri": "https://localhost:8080/"
        },
        "id": "2PPknQk3JW7H",
        "outputId": "8c444c0b-1008-4f37-fa3a-8a66668239f2"
      },
      "outputs": [
        {
          "output_type": "stream",
          "name": "stdout",
          "text": [
            "Akurasi Testing ANN: 0.8127951256664128\n"
          ]
        }
      ],
      "source": [
        "prediksi_test = mlp.predict(X_test)\n",
        "acc_test = accuracy_score(Y_test, prediksi_test)\n",
        "print('Akurasi Testing ANN:', acc_test)"
      ]
    },
    {
      "cell_type": "code",
      "execution_count": 25,
      "metadata": {
        "id": "QP2g60D5Jlyz"
      },
      "outputs": [],
      "source": [
        "from keras.utils import to_categorical\n",
        "\n",
        "Y_train = to_categorical(Y_train, 3)\n",
        "Y_val = to_categorical(Y_val,3)\n",
        "Y_test = to_categorical(Y_test, 3)"
      ]
    },
    {
      "cell_type": "code",
      "execution_count": 26,
      "metadata": {
        "id": "ecBk6-srJpy1"
      },
      "outputs": [],
      "source": [
        "from keras.models import Sequential\n",
        "from keras.layers import Flatten, Dense, Activation"
      ]
    },
    {
      "cell_type": "code",
      "execution_count": 27,
      "metadata": {
        "id": "28OwQPNsJq_G"
      },
      "outputs": [],
      "source": [
        "classifier = Sequential()\n",
        "classifier.add(Dense(64, activation='relu'))\n",
        "classifier.add(Dense(3,activation='softmax'))"
      ]
    },
    {
      "cell_type": "code",
      "execution_count": 28,
      "metadata": {
        "id": "DlskV5IWJtpx"
      },
      "outputs": [],
      "source": [
        "classifier.compile(optimizer='adam', loss='categorical_crossentropy', metrics=['acc'])"
      ]
    },
    {
      "cell_type": "code",
      "execution_count": 29,
      "metadata": {
        "colab": {
          "base_uri": "https://localhost:8080/"
        },
        "id": "duDmY1Y4JvDa",
        "outputId": "c97e5ced-4a7b-4a73-a288-41b7cd183750"
      },
      "outputs": [
        {
          "output_type": "stream",
          "name": "stdout",
          "text": [
            "Epoch 1/10\n",
            "10044/10044 [==============================] - 20s 2ms/step - loss: 126933.7578 - acc: 0.5470 - val_loss: 44301.3164 - val_acc: 0.6670\n",
            "Epoch 2/10\n",
            "10044/10044 [==============================] - 19s 2ms/step - loss: 77498.0781 - acc: 0.5788 - val_loss: 63738.6992 - val_acc: 0.6809\n",
            "Epoch 3/10\n",
            "10044/10044 [==============================] - 19s 2ms/step - loss: 47414.1055 - acc: 0.6038 - val_loss: 7334.7676 - val_acc: 0.7978\n",
            "Epoch 4/10\n",
            "10044/10044 [==============================] - 20s 2ms/step - loss: 29360.7441 - acc: 0.6255 - val_loss: 19061.8457 - val_acc: 0.7194\n",
            "Epoch 5/10\n",
            "10044/10044 [==============================] - 19s 2ms/step - loss: 23400.1465 - acc: 0.6426 - val_loss: 12999.4316 - val_acc: 0.7004\n",
            "Epoch 6/10\n",
            "10044/10044 [==============================] - 19s 2ms/step - loss: 16358.5879 - acc: 0.6637 - val_loss: 15738.8525 - val_acc: 0.4546\n",
            "Epoch 7/10\n",
            "10044/10044 [==============================] - 28s 3ms/step - loss: 11213.7354 - acc: 0.6806 - val_loss: 10869.6895 - val_acc: 0.6924\n",
            "Epoch 8/10\n",
            "10044/10044 [==============================] - 19s 2ms/step - loss: 6506.3931 - acc: 0.7023 - val_loss: 3053.5610 - val_acc: 0.6332\n",
            "Epoch 9/10\n",
            "10044/10044 [==============================] - 19s 2ms/step - loss: 1596.3660 - acc: 0.6431 - val_loss: 0.8600 - val_acc: 0.6443\n",
            "Epoch 10/10\n",
            "10044/10044 [==============================] - 19s 2ms/step - loss: 0.8392 - acc: 0.6480 - val_loss: 0.8170 - val_acc: 0.6440\n"
          ]
        }
      ],
      "source": [
        "result = classifier.fit(X_train, Y_train, epochs=10,batch_size=5, validation_data=(X_val,Y_val))"
      ]
    },
    {
      "cell_type": "code",
      "execution_count": 30,
      "metadata": {
        "colab": {
          "base_uri": "https://localhost:8080/"
        },
        "id": "EhgvKkbDJwng",
        "outputId": "f6f63151-b6d3-41f7-8a09-ae1a9413fb83"
      },
      "outputs": [
        {
          "output_type": "stream",
          "name": "stdout",
          "text": [
            "Model: \"sequential\"\n",
            "_________________________________________________________________\n",
            " Layer (type)                Output Shape              Param #   \n",
            "=================================================================\n",
            " dense (Dense)               (None, 64)                1280      \n",
            "                                                                 \n",
            " dense_1 (Dense)             (None, 3)                 195       \n",
            "                                                                 \n",
            "=================================================================\n",
            "Total params: 1475 (5.76 KB)\n",
            "Trainable params: 1475 (5.76 KB)\n",
            "Non-trainable params: 0 (0.00 Byte)\n",
            "_________________________________________________________________\n"
          ]
        }
      ],
      "source": [
        "classifier.summary()"
      ]
    },
    {
      "cell_type": "code",
      "execution_count": 31,
      "metadata": {
        "colab": {
          "base_uri": "https://localhost:8080/"
        },
        "id": "mx_OQ8iiL1ab",
        "outputId": "29d8694b-e124-4750-f1c5-dd3261164a41"
      },
      "outputs": [
        {
          "output_type": "stream",
          "name": "stdout",
          "text": [
            "206/206 [==============================] - 0s 2ms/step - loss: 0.7722 - acc: 0.6402\n",
            "Akurasi Testing ANN: 0.6402132511138916\n"
          ]
        }
      ],
      "source": [
        "from sklearn.metrics import confusion_matrix\n",
        "\n",
        "loss, accuracy = classifier.evaluate(X_test, Y_test)\n",
        "print('Akurasi Testing ANN:', accuracy)"
      ]
    },
    {
      "cell_type": "code",
      "source": [
        "from keras.utils import to_categorical\n",
        "\n",
        "Y_test_one_hot = to_categorical(Y_test, num_classes=3)"
      ],
      "metadata": {
        "id": "qHwoMgO5jQvB"
      },
      "execution_count": 32,
      "outputs": []
    },
    {
      "cell_type": "markdown",
      "source": [
        "## Evaluating Model"
      ],
      "metadata": {
        "id": "bplfUc7Pu6qi"
      }
    },
    {
      "cell_type": "code",
      "source": [
        "from sklearn.metrics import multilabel_confusion_matrix, classification_report\n",
        "\n",
        "# Assuming Y_val is in a multilabel format\n",
        "mlp.fit(X_train, Y_train)\n",
        "prediksi_val = mlp.predict(X_val)\n",
        "\n",
        "# Print accuracy\n",
        "acc_val = accuracy_score(Y_val, prediksi_val)\n",
        "print('Akurasi Validasi Training ANN:', acc_val)\n",
        "\n",
        "# Print multilabel confusion matrix\n",
        "cm = multilabel_confusion_matrix(Y_val, prediksi_val)\n",
        "print('Multilabel Confusion Matrix:')\n",
        "print(cm)\n",
        "\n",
        "# Print classification report\n",
        "print('Classification Report:')\n",
        "print(classification_report(Y_val, prediksi_val))"
      ],
      "metadata": {
        "colab": {
          "base_uri": "https://localhost:8080/"
        },
        "id": "AP5X3c7lNd4N",
        "outputId": "d28ab3aa-9df9-4c6f-9a00-d5688137a894"
      },
      "execution_count": 24,
      "outputs": [
        {
          "output_type": "stream",
          "name": "stderr",
          "text": [
            "/usr/local/lib/python3.10/dist-packages/sklearn/neural_network/_multilayer_perceptron.py:1098: DataConversionWarning: A column-vector y was passed when a 1d array was expected. Please change the shape of y to (n_samples, ), for example using ravel().\n",
            "  y = column_or_1d(y, warn=True)\n"
          ]
        },
        {
          "output_type": "stream",
          "name": "stdout",
          "text": [
            "Akurasi Validasi Training ANN: 0.700293387497179\n",
            "Multilabel Confusion Matrix:\n",
            "[[[1399 1760]\n",
            "  [ 137 5566]]\n",
            "\n",
            " [[5974   78]\n",
            "  [2354  456]]\n",
            "\n",
            " [[7695  818]\n",
            "  [ 165  184]]]\n",
            "Classification Report:\n",
            "              precision    recall  f1-score   support\n",
            "\n",
            "           0       0.76      0.98      0.85      5703\n",
            "           1       0.85      0.16      0.27      2810\n",
            "           2       0.18      0.53      0.27       349\n",
            "\n",
            "    accuracy                           0.70      8862\n",
            "   macro avg       0.60      0.56      0.47      8862\n",
            "weighted avg       0.77      0.70      0.65      8862\n",
            "\n"
          ]
        }
      ]
    },
    {
      "cell_type": "code",
      "source": [
        "# Assuming you have a trained model named 'model' and X_test is your test data\n",
        "Y_pred = classifier.predict(X_test)"
      ],
      "metadata": {
        "colab": {
          "base_uri": "https://localhost:8080/"
        },
        "id": "F4fMjdlkJAxG",
        "outputId": "2b26da12-cb47-4fd9-c6ed-a021457f973f"
      },
      "execution_count": 35,
      "outputs": [
        {
          "output_type": "stream",
          "name": "stdout",
          "text": [
            "206/206 [==============================] - 2s 6ms/step\n"
          ]
        }
      ]
    },
    {
      "cell_type": "code",
      "source": [
        "import pickle\n",
        "pickle.dump(classifier, open('/content/model.pkl','wb'))"
      ],
      "metadata": {
        "id": "jWNZ_iZqE0wM"
      },
      "execution_count": null,
      "outputs": []
    },
    {
      "cell_type": "markdown",
      "source": [
        "from tensorflow.keras.utils import plot_model\n",
        "plot_model(model,\n",
        "           show_dtype = True,\n",
        "           show_layer_names = True,\n",
        "           show_shapes = True)"
      ],
      "metadata": {
        "id": "VvCwUURcL9Db"
      }
    },
    {
      "cell_type": "code",
      "execution_count": null,
      "metadata": {
        "id": "ZIHt0zqRMUg7"
      },
      "outputs": [],
      "source": [
        "acc = result.history['acc']\n",
        "loss = result.history['loss']\n",
        "\n",
        "epoch = [i + 1 for i in range(len(acc))]"
      ]
    },
    {
      "cell_type": "code",
      "execution_count": null,
      "metadata": {
        "colab": {
          "base_uri": "https://localhost:8080/",
          "height": 363
        },
        "id": "iXHvtC99Mg3s",
        "outputId": "d08338bc-7406-40ca-8972-b45954526d4d"
      },
      "outputs": [
        {
          "data": {
            "text/html": [
              "<style type=\"text/css\">\n",
              "#T_58582_row0_col0 {\n",
              "  width: 10em;\n",
              "  background: linear-gradient(90deg, #84A9AC 79.5%, transparent 79.5%);\n",
              "}\n",
              "#T_58582_row0_col1, #T_58582_row4_col0, #T_58582_row5_col0, #T_58582_row6_col0, #T_58582_row7_col0, #T_58582_row8_col0, #T_58582_row9_col0 {\n",
              "  width: 10em;\n",
              "  background: linear-gradient(90deg, #84A9AC 100.0%, transparent 100.0%);\n",
              "}\n",
              "#T_58582_row1_col0 {\n",
              "  width: 10em;\n",
              "  background: linear-gradient(90deg, #84A9AC 79.2%, transparent 79.2%);\n",
              "}\n",
              "#T_58582_row1_col1 {\n",
              "  width: 10em;\n",
              "  background: linear-gradient(90deg, #84A9AC 31.2%, transparent 31.2%);\n",
              "}\n",
              "#T_58582_row2_col0 {\n",
              "  width: 10em;\n",
              "  background: linear-gradient(90deg, #84A9AC 78.2%, transparent 78.2%);\n",
              "}\n",
              "#T_58582_row2_col1 {\n",
              "  width: 10em;\n",
              "  background: linear-gradient(90deg, #84A9AC 8.8%, transparent 8.8%);\n",
              "}\n",
              "#T_58582_row3_col0 {\n",
              "  width: 10em;\n",
              "  background: linear-gradient(90deg, #84A9AC 82.0%, transparent 82.0%);\n",
              "}\n",
              "#T_58582_row3_col1 {\n",
              "  width: 10em;\n",
              "  background: linear-gradient(90deg, #84A9AC 0.8%, transparent 0.8%);\n",
              "}\n",
              "#T_58582_row4_col1, #T_58582_row5_col1, #T_58582_row6_col1, #T_58582_row7_col1, #T_58582_row8_col1, #T_58582_row9_col1 {\n",
              "  width: 10em;\n",
              "  background: linear-gradient(90deg, #84A9AC 0.0%, transparent 0.0%);\n",
              "}\n",
              "</style>\n",
              "<table id=\"T_58582\" class=\"dataframe\">\n",
              "  <thead>\n",
              "    <tr>\n",
              "      <th class=\"blank level0\" >&nbsp;</th>\n",
              "      <th id=\"T_58582_level0_col0\" class=\"col_heading level0 col0\" >Accuracy</th>\n",
              "      <th id=\"T_58582_level0_col1\" class=\"col_heading level0 col1\" >Loss</th>\n",
              "      <th id=\"T_58582_level0_col2\" class=\"col_heading level0 col2\" >Epoch</th>\n",
              "    </tr>\n",
              "  </thead>\n",
              "  <tbody>\n",
              "    <tr>\n",
              "      <th id=\"T_58582_level0_row0\" class=\"row_heading level0 row0\" >0</th>\n",
              "      <td id=\"T_58582_row0_col0\" class=\"data row0 col0\" >0.500782</td>\n",
              "      <td id=\"T_58582_row0_col1\" class=\"data row0 col1\" >346540.750000</td>\n",
              "      <td id=\"T_58582_row0_col2\" class=\"data row0 col2\" >1</td>\n",
              "    </tr>\n",
              "    <tr>\n",
              "      <th id=\"T_58582_level0_row1\" class=\"row_heading level0 row1\" >1</th>\n",
              "      <td id=\"T_58582_row1_col0\" class=\"data row1 col0\" >0.499087</td>\n",
              "      <td id=\"T_58582_row1_col1\" class=\"data row1 col1\" >108008.203125</td>\n",
              "      <td id=\"T_58582_row1_col2\" class=\"data row1 col2\" >2</td>\n",
              "    </tr>\n",
              "    <tr>\n",
              "      <th id=\"T_58582_level0_row2\" class=\"row_heading level0 row2\" >2</th>\n",
              "      <td id=\"T_58582_row2_col0\" class=\"data row2 col0\" >0.492854</td>\n",
              "      <td id=\"T_58582_row2_col1\" class=\"data row2 col1\" >30449.841797</td>\n",
              "      <td id=\"T_58582_row2_col2\" class=\"data row2 col2\" >3</td>\n",
              "    </tr>\n",
              "    <tr>\n",
              "      <th id=\"T_58582_level0_row3\" class=\"row_heading level0 row3\" >3</th>\n",
              "      <td id=\"T_58582_row3_col0\" class=\"data row3 col0\" >0.516674</td>\n",
              "      <td id=\"T_58582_row3_col1\" class=\"data row3 col1\" >2712.681641</td>\n",
              "      <td id=\"T_58582_row3_col2\" class=\"data row3 col2\" >4</td>\n",
              "    </tr>\n",
              "    <tr>\n",
              "      <th id=\"T_58582_level0_row4\" class=\"row_heading level0 row4\" >4</th>\n",
              "      <td id=\"T_58582_row4_col0\" class=\"data row4 col0\" >0.629819</td>\n",
              "      <td id=\"T_58582_row4_col1\" class=\"data row4 col1\" >0.916656</td>\n",
              "      <td id=\"T_58582_row4_col2\" class=\"data row4 col2\" >5</td>\n",
              "    </tr>\n",
              "    <tr>\n",
              "      <th id=\"T_58582_level0_row5\" class=\"row_heading level0 row5\" >5</th>\n",
              "      <td id=\"T_58582_row5_col0\" class=\"data row5 col0\" >0.629855</td>\n",
              "      <td id=\"T_58582_row5_col1\" class=\"data row5 col1\" >0.910986</td>\n",
              "      <td id=\"T_58582_row5_col2\" class=\"data row5 col2\" >6</td>\n",
              "    </tr>\n",
              "    <tr>\n",
              "      <th id=\"T_58582_level0_row6\" class=\"row_heading level0 row6\" >6</th>\n",
              "      <td id=\"T_58582_row6_col0\" class=\"data row6 col0\" >0.629843</td>\n",
              "      <td id=\"T_58582_row6_col1\" class=\"data row6 col1\" >0.911012</td>\n",
              "      <td id=\"T_58582_row6_col2\" class=\"data row6 col2\" >7</td>\n",
              "    </tr>\n",
              "    <tr>\n",
              "      <th id=\"T_58582_level0_row7\" class=\"row_heading level0 row7\" >7</th>\n",
              "      <td id=\"T_58582_row7_col0\" class=\"data row7 col0\" >0.629831</td>\n",
              "      <td id=\"T_58582_row7_col1\" class=\"data row7 col1\" >0.910997</td>\n",
              "      <td id=\"T_58582_row7_col2\" class=\"data row7 col2\" >8</td>\n",
              "    </tr>\n",
              "    <tr>\n",
              "      <th id=\"T_58582_level0_row8\" class=\"row_heading level0 row8\" >8</th>\n",
              "      <td id=\"T_58582_row8_col0\" class=\"data row8 col0\" >0.629831</td>\n",
              "      <td id=\"T_58582_row8_col1\" class=\"data row8 col1\" >0.910978</td>\n",
              "      <td id=\"T_58582_row8_col2\" class=\"data row8 col2\" >9</td>\n",
              "    </tr>\n",
              "    <tr>\n",
              "      <th id=\"T_58582_level0_row9\" class=\"row_heading level0 row9\" >9</th>\n",
              "      <td id=\"T_58582_row9_col0\" class=\"data row9 col0\" >0.629831</td>\n",
              "      <td id=\"T_58582_row9_col1\" class=\"data row9 col1\" >0.911000</td>\n",
              "      <td id=\"T_58582_row9_col2\" class=\"data row9 col2\" >10</td>\n",
              "    </tr>\n",
              "  </tbody>\n",
              "</table>\n"
            ],
            "text/plain": [
              "<pandas.io.formats.style.Styler at 0x7b9fb34b7f40>"
            ]
          },
          "execution_count": 32,
          "metadata": {},
          "output_type": "execute_result"
        }
      ],
      "source": [
        "acc_loss_df = pd.DataFrame({\"Accuracy\" : acc,\n",
        "                            \"Loss\" : loss,\n",
        "                            \"Epoch\" : epoch})\n",
        "\n",
        "acc_loss_df.style.bar(color = '#84A9AC',\n",
        "                      subset = ['Accuracy','Loss'])\n"
      ]
    },
    {
      "cell_type": "code",
      "execution_count": null,
      "metadata": {
        "id": "4Gzv2TuCPpFs"
      },
      "outputs": [],
      "source": [
        "import plotly.graph_objs as go"
      ]
    },
    {
      "cell_type": "code",
      "execution_count": null,
      "metadata": {
        "colab": {
          "base_uri": "https://localhost:8080/",
          "height": 542
        },
        "id": "CKJzcXppPUiQ",
        "outputId": "d9cb1c2a-4c9f-417e-8b51-037701ae5946"
      },
      "outputs": [
        {
          "data": {
            "text/html": [
              "<html>\n",
              "<head><meta charset=\"utf-8\" /></head>\n",
              "<body>\n",
              "    <div>            <script src=\"https://cdnjs.cloudflare.com/ajax/libs/mathjax/2.7.5/MathJax.js?config=TeX-AMS-MML_SVG\"></script><script type=\"text/javascript\">if (window.MathJax && window.MathJax.Hub && window.MathJax.Hub.Config) {window.MathJax.Hub.Config({SVG: {font: \"STIX-Web\"}});}</script>                <script type=\"text/javascript\">window.PlotlyConfig = {MathJaxConfig: 'local'};</script>\n",
              "        <script charset=\"utf-8\" src=\"https://cdn.plot.ly/plotly-2.24.1.min.js\"></script>                <div id=\"e458478f-a069-4dd0-a84f-61526aed04ac\" class=\"plotly-graph-div\" style=\"height:525px; width:100%;\"></div>            <script type=\"text/javascript\">                                    window.PLOTLYENV=window.PLOTLYENV || {};                                    if (document.getElementById(\"e458478f-a069-4dd0-a84f-61526aed04ac\")) {                    Plotly.newPlot(                        \"e458478f-a069-4dd0-a84f-61526aed04ac\",                        [{\"mode\":\"lines+markers\",\"name\":\"Accuracy\",\"x\":[1,2,3,4,5,6,7,8,9,10],\"y\":[0.5007820725440979,0.4990865886211395,0.4928538203239441,0.5166743993759155,0.6298193335533142,0.6298551559448242,0.6298432350158691,0.6298313140869141,0.6298313140869141,0.6298313140869141],\"type\":\"scatter\"},{\"mode\":\"lines+markers\",\"name\":\"Loss\",\"x\":[1,2,3,4,5,6,7,8,9,10],\"y\":[346540.75,108008.203125,30449.841796875,2712.681640625,0.9166564345359802,0.9109857678413391,0.9110115766525269,0.9109971523284912,0.9109779000282288,0.9110003113746643],\"type\":\"scatter\"}],                        {\"template\":{\"data\":{\"barpolar\":[{\"marker\":{\"line\":{\"color\":\"rgb(17,17,17)\",\"width\":0.5},\"pattern\":{\"fillmode\":\"overlay\",\"size\":10,\"solidity\":0.2}},\"type\":\"barpolar\"}],\"bar\":[{\"error_x\":{\"color\":\"#f2f5fa\"},\"error_y\":{\"color\":\"#f2f5fa\"},\"marker\":{\"line\":{\"color\":\"rgb(17,17,17)\",\"width\":0.5},\"pattern\":{\"fillmode\":\"overlay\",\"size\":10,\"solidity\":0.2}},\"type\":\"bar\"}],\"carpet\":[{\"aaxis\":{\"endlinecolor\":\"#A2B1C6\",\"gridcolor\":\"#506784\",\"linecolor\":\"#506784\",\"minorgridcolor\":\"#506784\",\"startlinecolor\":\"#A2B1C6\"},\"baxis\":{\"endlinecolor\":\"#A2B1C6\",\"gridcolor\":\"#506784\",\"linecolor\":\"#506784\",\"minorgridcolor\":\"#506784\",\"startlinecolor\":\"#A2B1C6\"},\"type\":\"carpet\"}],\"choropleth\":[{\"colorbar\":{\"outlinewidth\":0,\"ticks\":\"\"},\"type\":\"choropleth\"}],\"contourcarpet\":[{\"colorbar\":{\"outlinewidth\":0,\"ticks\":\"\"},\"type\":\"contourcarpet\"}],\"contour\":[{\"colorbar\":{\"outlinewidth\":0,\"ticks\":\"\"},\"colorscale\":[[0.0,\"#0d0887\"],[0.1111111111111111,\"#46039f\"],[0.2222222222222222,\"#7201a8\"],[0.3333333333333333,\"#9c179e\"],[0.4444444444444444,\"#bd3786\"],[0.5555555555555556,\"#d8576b\"],[0.6666666666666666,\"#ed7953\"],[0.7777777777777778,\"#fb9f3a\"],[0.8888888888888888,\"#fdca26\"],[1.0,\"#f0f921\"]],\"type\":\"contour\"}],\"heatmapgl\":[{\"colorbar\":{\"outlinewidth\":0,\"ticks\":\"\"},\"colorscale\":[[0.0,\"#0d0887\"],[0.1111111111111111,\"#46039f\"],[0.2222222222222222,\"#7201a8\"],[0.3333333333333333,\"#9c179e\"],[0.4444444444444444,\"#bd3786\"],[0.5555555555555556,\"#d8576b\"],[0.6666666666666666,\"#ed7953\"],[0.7777777777777778,\"#fb9f3a\"],[0.8888888888888888,\"#fdca26\"],[1.0,\"#f0f921\"]],\"type\":\"heatmapgl\"}],\"heatmap\":[{\"colorbar\":{\"outlinewidth\":0,\"ticks\":\"\"},\"colorscale\":[[0.0,\"#0d0887\"],[0.1111111111111111,\"#46039f\"],[0.2222222222222222,\"#7201a8\"],[0.3333333333333333,\"#9c179e\"],[0.4444444444444444,\"#bd3786\"],[0.5555555555555556,\"#d8576b\"],[0.6666666666666666,\"#ed7953\"],[0.7777777777777778,\"#fb9f3a\"],[0.8888888888888888,\"#fdca26\"],[1.0,\"#f0f921\"]],\"type\":\"heatmap\"}],\"histogram2dcontour\":[{\"colorbar\":{\"outlinewidth\":0,\"ticks\":\"\"},\"colorscale\":[[0.0,\"#0d0887\"],[0.1111111111111111,\"#46039f\"],[0.2222222222222222,\"#7201a8\"],[0.3333333333333333,\"#9c179e\"],[0.4444444444444444,\"#bd3786\"],[0.5555555555555556,\"#d8576b\"],[0.6666666666666666,\"#ed7953\"],[0.7777777777777778,\"#fb9f3a\"],[0.8888888888888888,\"#fdca26\"],[1.0,\"#f0f921\"]],\"type\":\"histogram2dcontour\"}],\"histogram2d\":[{\"colorbar\":{\"outlinewidth\":0,\"ticks\":\"\"},\"colorscale\":[[0.0,\"#0d0887\"],[0.1111111111111111,\"#46039f\"],[0.2222222222222222,\"#7201a8\"],[0.3333333333333333,\"#9c179e\"],[0.4444444444444444,\"#bd3786\"],[0.5555555555555556,\"#d8576b\"],[0.6666666666666666,\"#ed7953\"],[0.7777777777777778,\"#fb9f3a\"],[0.8888888888888888,\"#fdca26\"],[1.0,\"#f0f921\"]],\"type\":\"histogram2d\"}],\"histogram\":[{\"marker\":{\"pattern\":{\"fillmode\":\"overlay\",\"size\":10,\"solidity\":0.2}},\"type\":\"histogram\"}],\"mesh3d\":[{\"colorbar\":{\"outlinewidth\":0,\"ticks\":\"\"},\"type\":\"mesh3d\"}],\"parcoords\":[{\"line\":{\"colorbar\":{\"outlinewidth\":0,\"ticks\":\"\"}},\"type\":\"parcoords\"}],\"pie\":[{\"automargin\":true,\"type\":\"pie\"}],\"scatter3d\":[{\"line\":{\"colorbar\":{\"outlinewidth\":0,\"ticks\":\"\"}},\"marker\":{\"colorbar\":{\"outlinewidth\":0,\"ticks\":\"\"}},\"type\":\"scatter3d\"}],\"scattercarpet\":[{\"marker\":{\"colorbar\":{\"outlinewidth\":0,\"ticks\":\"\"}},\"type\":\"scattercarpet\"}],\"scattergeo\":[{\"marker\":{\"colorbar\":{\"outlinewidth\":0,\"ticks\":\"\"}},\"type\":\"scattergeo\"}],\"scattergl\":[{\"marker\":{\"line\":{\"color\":\"#283442\"}},\"type\":\"scattergl\"}],\"scattermapbox\":[{\"marker\":{\"colorbar\":{\"outlinewidth\":0,\"ticks\":\"\"}},\"type\":\"scattermapbox\"}],\"scatterpolargl\":[{\"marker\":{\"colorbar\":{\"outlinewidth\":0,\"ticks\":\"\"}},\"type\":\"scatterpolargl\"}],\"scatterpolar\":[{\"marker\":{\"colorbar\":{\"outlinewidth\":0,\"ticks\":\"\"}},\"type\":\"scatterpolar\"}],\"scatter\":[{\"marker\":{\"line\":{\"color\":\"#283442\"}},\"type\":\"scatter\"}],\"scatterternary\":[{\"marker\":{\"colorbar\":{\"outlinewidth\":0,\"ticks\":\"\"}},\"type\":\"scatterternary\"}],\"surface\":[{\"colorbar\":{\"outlinewidth\":0,\"ticks\":\"\"},\"colorscale\":[[0.0,\"#0d0887\"],[0.1111111111111111,\"#46039f\"],[0.2222222222222222,\"#7201a8\"],[0.3333333333333333,\"#9c179e\"],[0.4444444444444444,\"#bd3786\"],[0.5555555555555556,\"#d8576b\"],[0.6666666666666666,\"#ed7953\"],[0.7777777777777778,\"#fb9f3a\"],[0.8888888888888888,\"#fdca26\"],[1.0,\"#f0f921\"]],\"type\":\"surface\"}],\"table\":[{\"cells\":{\"fill\":{\"color\":\"#506784\"},\"line\":{\"color\":\"rgb(17,17,17)\"}},\"header\":{\"fill\":{\"color\":\"#2a3f5f\"},\"line\":{\"color\":\"rgb(17,17,17)\"}},\"type\":\"table\"}]},\"layout\":{\"annotationdefaults\":{\"arrowcolor\":\"#f2f5fa\",\"arrowhead\":0,\"arrowwidth\":1},\"autotypenumbers\":\"strict\",\"coloraxis\":{\"colorbar\":{\"outlinewidth\":0,\"ticks\":\"\"}},\"colorscale\":{\"diverging\":[[0,\"#8e0152\"],[0.1,\"#c51b7d\"],[0.2,\"#de77ae\"],[0.3,\"#f1b6da\"],[0.4,\"#fde0ef\"],[0.5,\"#f7f7f7\"],[0.6,\"#e6f5d0\"],[0.7,\"#b8e186\"],[0.8,\"#7fbc41\"],[0.9,\"#4d9221\"],[1,\"#276419\"]],\"sequential\":[[0.0,\"#0d0887\"],[0.1111111111111111,\"#46039f\"],[0.2222222222222222,\"#7201a8\"],[0.3333333333333333,\"#9c179e\"],[0.4444444444444444,\"#bd3786\"],[0.5555555555555556,\"#d8576b\"],[0.6666666666666666,\"#ed7953\"],[0.7777777777777778,\"#fb9f3a\"],[0.8888888888888888,\"#fdca26\"],[1.0,\"#f0f921\"]],\"sequentialminus\":[[0.0,\"#0d0887\"],[0.1111111111111111,\"#46039f\"],[0.2222222222222222,\"#7201a8\"],[0.3333333333333333,\"#9c179e\"],[0.4444444444444444,\"#bd3786\"],[0.5555555555555556,\"#d8576b\"],[0.6666666666666666,\"#ed7953\"],[0.7777777777777778,\"#fb9f3a\"],[0.8888888888888888,\"#fdca26\"],[1.0,\"#f0f921\"]]},\"colorway\":[\"#636efa\",\"#EF553B\",\"#00cc96\",\"#ab63fa\",\"#FFA15A\",\"#19d3f3\",\"#FF6692\",\"#B6E880\",\"#FF97FF\",\"#FECB52\"],\"font\":{\"color\":\"#f2f5fa\"},\"geo\":{\"bgcolor\":\"rgb(17,17,17)\",\"lakecolor\":\"rgb(17,17,17)\",\"landcolor\":\"rgb(17,17,17)\",\"showlakes\":true,\"showland\":true,\"subunitcolor\":\"#506784\"},\"hoverlabel\":{\"align\":\"left\"},\"hovermode\":\"closest\",\"mapbox\":{\"style\":\"dark\"},\"paper_bgcolor\":\"rgb(17,17,17)\",\"plot_bgcolor\":\"rgb(17,17,17)\",\"polar\":{\"angularaxis\":{\"gridcolor\":\"#506784\",\"linecolor\":\"#506784\",\"ticks\":\"\"},\"bgcolor\":\"rgb(17,17,17)\",\"radialaxis\":{\"gridcolor\":\"#506784\",\"linecolor\":\"#506784\",\"ticks\":\"\"}},\"scene\":{\"xaxis\":{\"backgroundcolor\":\"rgb(17,17,17)\",\"gridcolor\":\"#506784\",\"gridwidth\":2,\"linecolor\":\"#506784\",\"showbackground\":true,\"ticks\":\"\",\"zerolinecolor\":\"#C8D4E3\"},\"yaxis\":{\"backgroundcolor\":\"rgb(17,17,17)\",\"gridcolor\":\"#506784\",\"gridwidth\":2,\"linecolor\":\"#506784\",\"showbackground\":true,\"ticks\":\"\",\"zerolinecolor\":\"#C8D4E3\"},\"zaxis\":{\"backgroundcolor\":\"rgb(17,17,17)\",\"gridcolor\":\"#506784\",\"gridwidth\":2,\"linecolor\":\"#506784\",\"showbackground\":true,\"ticks\":\"\",\"zerolinecolor\":\"#C8D4E3\"}},\"shapedefaults\":{\"line\":{\"color\":\"#f2f5fa\"}},\"sliderdefaults\":{\"bgcolor\":\"#C8D4E3\",\"bordercolor\":\"rgb(17,17,17)\",\"borderwidth\":1,\"tickwidth\":0},\"ternary\":{\"aaxis\":{\"gridcolor\":\"#506784\",\"linecolor\":\"#506784\",\"ticks\":\"\"},\"baxis\":{\"gridcolor\":\"#506784\",\"linecolor\":\"#506784\",\"ticks\":\"\"},\"bgcolor\":\"rgb(17,17,17)\",\"caxis\":{\"gridcolor\":\"#506784\",\"linecolor\":\"#506784\",\"ticks\":\"\"}},\"title\":{\"x\":0.05},\"updatemenudefaults\":{\"bgcolor\":\"#506784\",\"borderwidth\":0},\"xaxis\":{\"automargin\":true,\"gridcolor\":\"#283442\",\"linecolor\":\"#506784\",\"ticks\":\"\",\"title\":{\"standoff\":15},\"zerolinecolor\":\"#283442\",\"zerolinewidth\":2},\"yaxis\":{\"automargin\":true,\"gridcolor\":\"#283442\",\"linecolor\":\"#506784\",\"ticks\":\"\",\"title\":{\"standoff\":15},\"zerolinecolor\":\"#283442\",\"zerolinewidth\":2}}},\"title\":{\"font\":{\"size\":20},\"text\":\"\\u003cb\\u003eTraining Accuracy Vs Training Loss\\u003c\\u002fb\\u003e\\n\",\"xanchor\":\"center\",\"yanchor\":\"top\",\"y\":0.9,\"x\":0.5},\"xaxis\":{\"title\":{\"text\":\"Epoch\"}},\"yaxis\":{\"title\":{\"text\":\"Accuracy \\u002f Loss\"}}},                        {\"responsive\": true}                    ).then(function(){\n",
              "                            \n",
              "var gd = document.getElementById('e458478f-a069-4dd0-a84f-61526aed04ac');\n",
              "var x = new MutationObserver(function (mutations, observer) {{\n",
              "        var display = window.getComputedStyle(gd).display;\n",
              "        if (!display || display === 'none') {{\n",
              "            console.log([gd, 'removed!']);\n",
              "            Plotly.purge(gd);\n",
              "            observer.disconnect();\n",
              "        }}\n",
              "}});\n",
              "\n",
              "// Listen for the removal of the full notebook cells\n",
              "var notebookContainer = gd.closest('#notebook-container');\n",
              "if (notebookContainer) {{\n",
              "    x.observe(notebookContainer, {childList: true});\n",
              "}}\n",
              "\n",
              "// Listen for the clearing of the current output cell\n",
              "var outputEl = gd.closest('.output');\n",
              "if (outputEl) {{\n",
              "    x.observe(outputEl, {childList: true});\n",
              "}}\n",
              "\n",
              "                        })                };                            </script>        </div>\n",
              "</body>\n",
              "</html>"
            ]
          },
          "metadata": {},
          "output_type": "display_data"
        }
      ],
      "source": [
        "fig = go.Figure()\n",
        "\n",
        "fig.add_trace(go.Scatter(x = acc_loss_df['Epoch'],\n",
        "                         y = acc_loss_df['Accuracy'],\n",
        "                         mode='lines+markers',\n",
        "                         name='Accuracy'))\n",
        "\n",
        "fig.add_trace(go.Scatter(x = acc_loss_df['Epoch'],\n",
        "                         y = acc_loss_df['Loss'],\n",
        "                         mode='lines+markers',\n",
        "                         name = 'Loss'))\n",
        "\n",
        "fig.update_layout(title = {'text': \"<b>Training Accuracy Vs Training Loss</b>\\n\",\n",
        "                           'xanchor': 'center',\n",
        "                           'yanchor': 'top',\n",
        "                           'y':0.9,'x':0.5,},\n",
        "                  xaxis_title=\"Epoch\",\n",
        "                  yaxis_title = \"Accuracy / Loss\",\n",
        "                  title_font = dict(size = 20))\n",
        "\n",
        "fig.layout.template = 'plotly_dark'\n",
        "\n",
        "fig.show()"
      ]
    },
    {
      "cell_type": "markdown",
      "metadata": {
        "id": "cfCYWXg7P05l"
      },
      "source": [
        "## Evaluating Model"
      ]
    },
    {
      "cell_type": "code",
      "execution_count": null,
      "metadata": {
        "colab": {
          "base_uri": "https://localhost:8080/"
        },
        "id": "HKegLIhDPYJv",
        "outputId": "e0957edf-65ac-40fd-f24a-c411207975a7"
      },
      "outputs": [
        {
          "name": "stdout",
          "output_type": "stream",
          "text": [
            "343/343 [==============================] - 1s 2ms/step - loss: 0.9115 - acc: 0.6293\n"
          ]
        }
      ],
      "source": [
        "loss, acc = model.evaluate(X_test, Y_test)"
      ]
    },
    {
      "cell_type": "code",
      "execution_count": null,
      "metadata": {
        "colab": {
          "base_uri": "https://localhost:8080/"
        },
        "id": "VMe7hSH9P5bl",
        "outputId": "5ec6f562-ad71-4a4a-b1f8-acb701d51978"
      },
      "outputs": [
        {
          "name": "stdout",
          "output_type": "stream",
          "text": [
            "Accuracy on unseen data is: 0.63\n",
            "Loss on unseen data is: 0.91\n"
          ]
        }
      ],
      "source": [
        "print(f\"Accuracy on unseen data is: { np.round(acc, 2) }\")\n",
        "print(f'Loss on unseen data is: { np.round(loss, 2) }')"
      ]
    }
  ],
  "metadata": {
    "colab": {
      "provenance": []
    },
    "kernelspec": {
      "display_name": "Python 3",
      "name": "python3"
    },
    "language_info": {
      "name": "python"
    }
  },
  "nbformat": 4,
  "nbformat_minor": 0
}