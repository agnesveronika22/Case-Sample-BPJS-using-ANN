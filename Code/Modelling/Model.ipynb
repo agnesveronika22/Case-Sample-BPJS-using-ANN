{
  "cells": [
    {
      "cell_type": "markdown",
      "source": [
        "<a id=\"5\"></a>\n",
        "\n",
        "\n",
        "<font color=\"black\" size=+1><b> Classification of Tuberculosis Disease from 2019-2021 using Artificial Neural Network (ANN) </b></font>\n",
        "\n",
        "<a id=\"4\"></a>\n",
        "\n",
        "---\n",
        "<font color=\"GREEN\" size=+1><b>  Kelompok 4 -Modelling </b></font>\n",
        "\n",
        "---\n",
        "    Nama Anggota\n",
        "    1. Nadya Dioranta Tambunan        DS04037\n",
        "    2. Agnes Veronika Sihombing       DS04032\n",
        "    4. Hanna Dhea Christi Sihombing   DS04043"
      ],
      "metadata": {
        "id": "2MPvP9Uq3ZzL"
      }
    },
    {
      "cell_type": "code",
      "execution_count": null,
      "metadata": {
        "colab": {
          "base_uri": "https://localhost:8080/"
        },
        "id": "0aIdrHbFDcxL",
        "outputId": "11ea53de-600a-486c-cbaf-b0620fe5b662"
      },
      "outputs": [
        {
          "output_type": "stream",
          "name": "stdout",
          "text": [
            "Drive already mounted at /content/drive; to attempt to forcibly remount, call drive.mount(\"/content/drive\", force_remount=True).\n"
          ]
        }
      ],
      "source": [
        "from google.colab import drive\n",
        "drive.mount('/content/drive')"
      ]
    },
    {
      "cell_type": "code",
      "execution_count": null,
      "metadata": {
        "id": "7uJuHn0IDgrX"
      },
      "outputs": [],
      "source": [
        "import numpy as np\n",
        "import pandas as pd\n",
        "import seaborn as sns\n",
        "import matplotlib.pyplot as plt\n",
        "from sklearn import preprocessing\n",
        "from sklearn import metrics\n",
        "from numpy.core.defchararray import add\n",
        "from sklearn.metrics import accuracy_score\n",
        "from sklearn.preprocessing import MinMaxScaler\n",
        "from sklearn.model_selection import train_test_split\n",
        "from sklearn.preprocessing import StandardScaler"
      ]
    },
    {
      "cell_type": "markdown",
      "metadata": {
        "id": "RgPVipUtDtpr"
      },
      "source": [
        "## Import Data"
      ]
    },
    {
      "cell_type": "code",
      "execution_count": null,
      "metadata": {
        "colab": {
          "base_uri": "https://localhost:8080/",
          "height": 1000
        },
        "id": "oOTuXgBHDsRd",
        "outputId": "8a48fee7-c0ec-40c8-e54c-62cd01704e34"
      },
      "outputs": [
        {
          "output_type": "execute_result",
          "data": {
            "text/plain": [
              "           PSTV01     PSTV02      PSTV03   PSTV04     PSTV05       PSTV06  \\\n",
              "0       328537885  328537885  1989-07-13  PESERTA  PEREMPUAN  BELUM KAWIN   \n",
              "1       328537885  328537885  1989-07-13  PESERTA  PEREMPUAN  BELUM KAWIN   \n",
              "2       328537885  328537885  1989-07-13  PESERTA  PEREMPUAN        KAWIN   \n",
              "3        75453396   75453396  1959-08-25  PESERTA  LAKI-LAKI        KAWIN   \n",
              "4        75453396   75453396  1959-08-25  PESERTA  LAKI-LAKI        KAWIN   \n",
              "...           ...        ...         ...      ...        ...          ...   \n",
              "109474  426032113  408166141  1982-09-10    ISTRI  PEREMPUAN        KAWIN   \n",
              "109475  426032113  408166141  1982-09-10    ISTRI  PEREMPUAN        KAWIN   \n",
              "109476  402406574  402406574  1959-09-09  PESERTA  LAKI-LAKI        KAWIN   \n",
              "109477  402406574  402406574  1959-09-09  PESERTA  LAKI-LAKI        KAWIN   \n",
              "109478  402406574  402406574  1959-09-09  PESERTA  LAKI-LAKI        KAWIN   \n",
              "\n",
              "           PSTV07         PSTV08               PSTV09        PSTV10  ...  \\\n",
              "0       KELAS III       PBI APBD                 ACEH  ACEH TAMIANG  ...   \n",
              "1       KELAS III       PBI APBD                 ACEH  ACEH TAMIANG  ...   \n",
              "2       KELAS III       PBI APBD                 ACEH  ACEH TAMIANG  ...   \n",
              "3         KELAS I            PPU          JAWA TENGAH         BLORA  ...   \n",
              "4         KELAS I  BUKAN PEKERJA          JAWA TENGAH         BLORA  ...   \n",
              "...           ...            ...                  ...           ...  ...   \n",
              "109474  KELAS III       PBI APBN     SULAWESI SELATAN       TAKALAR  ...   \n",
              "109475  KELAS III       PBI APBN     SULAWESI SELATAN       TAKALAR  ...   \n",
              "109476  KELAS III           PBPU  NUSA TENGGARA BARAT       SUMBAWA  ...   \n",
              "109477  KELAS III       PBI APBN  NUSA TENGGARA BARAT       SUMBAWA  ...   \n",
              "109478  KELAS III       PBI APBN  NUSA TENGGARA BARAT       SUMBAWA  ...   \n",
              "\n",
              "                 PNK10 PNK11          PNK12  \\\n",
              "0           RAWAT INAP  RITP       PBI APBD   \n",
              "1           RAWAT INAP  RITP       PBI APBD   \n",
              "2           RAWAT INAP  RITP       PBI APBD   \n",
              "3           RAWAT INAP  RJTP  BUKAN PEKERJA   \n",
              "4           RAWAT INAP  RJTP  BUKAN PEKERJA   \n",
              "...                ...   ...            ...   \n",
              "109474  NON RAWAT INAP  RITP       PBI APBN   \n",
              "109475  NON RAWAT INAP  RITP       PBI APBN   \n",
              "109476      RAWAT INAP  RJTP       PBI APBN   \n",
              "109477      RAWAT INAP  RJTP       PBI APBN   \n",
              "109478      RAWAT INAP  RJTP       PBI APBN   \n",
              "\n",
              "                                                    PNK13  PNK13A  PNK14  \\\n",
              "0                         O80 Single spontaneous delivery     O80   O800   \n",
              "1                         O80 Single spontaneous delivery     O80   O800   \n",
              "2                         O80 Single spontaneous delivery     O80   O800   \n",
              "3                          R06 Abnormalities of breathing     R06   R060   \n",
              "4                          R06 Abnormalities of breathing     R06   R060   \n",
              "...                                                   ...     ...    ...   \n",
              "109474  R19 Other symptoms and signs involving the dig...     R19   R198   \n",
              "109475  R19 Other symptoms and signs involving the dig...     R19   R198   \n",
              "109476                       K29 Gastritis and duodenitis     K29   K297   \n",
              "109477                       K29 Gastritis and duodenitis     K29   K297   \n",
              "109478                       K29 Gastritis and duodenitis     K29   K297   \n",
              "\n",
              "                                                    PNK15  \\\n",
              "0                             Spontaneous vertex delivery   \n",
              "1                             Spontaneous vertex delivery   \n",
              "2                             Spontaneous vertex delivery   \n",
              "3                                                Dyspnoea   \n",
              "4                                                Dyspnoea   \n",
              "...                                                   ...   \n",
              "109474  Other specified symptoms and signs involving t...   \n",
              "109475  Other specified symptoms and signs involving t...   \n",
              "109476                             Gastritis, unspecified   \n",
              "109477                             Gastritis, unspecified   \n",
              "109478                             Gastritis, unspecified   \n",
              "\n",
              "                                                   PNK16   PNK17   PNK18  \n",
              "0       Paket Persalinan per Vaginam normal (oleh Bidan)  700000  700000  \n",
              "1       Paket Persalinan per Vaginam normal (oleh Bidan)  700000  700000  \n",
              "2       Paket Persalinan per Vaginam normal (oleh Bidan)  700000  700000  \n",
              "3                        Evakuasi medis / Ambulans Darat  161700  161700  \n",
              "4                        Evakuasi medis / Ambulans Darat  161700  161700  \n",
              "...                                                  ...     ...     ...  \n",
              "109474  Paket Persalinan per Vaginam normal (oleh Bidan)  700000  700000  \n",
              "109475  Paket Persalinan per Vaginam normal (oleh Bidan)  700000  700000  \n",
              "109476                   Evakuasi medis / Ambulans Darat   80000   80000  \n",
              "109477                   Evakuasi medis / Ambulans Darat   80000   80000  \n",
              "109478                   Evakuasi medis / Ambulans Darat   80000   80000  \n",
              "\n",
              "[109479 rows x 36 columns]"
            ],
            "text/html": [
              "\n",
              "  <div id=\"df-4d9c3bae-7172-4832-9476-296a68cea1e7\" class=\"colab-df-container\">\n",
              "    <div>\n",
              "<style scoped>\n",
              "    .dataframe tbody tr th:only-of-type {\n",
              "        vertical-align: middle;\n",
              "    }\n",
              "\n",
              "    .dataframe tbody tr th {\n",
              "        vertical-align: top;\n",
              "    }\n",
              "\n",
              "    .dataframe thead th {\n",
              "        text-align: right;\n",
              "    }\n",
              "</style>\n",
              "<table border=\"1\" class=\"dataframe\">\n",
              "  <thead>\n",
              "    <tr style=\"text-align: right;\">\n",
              "      <th></th>\n",
              "      <th>PSTV01</th>\n",
              "      <th>PSTV02</th>\n",
              "      <th>PSTV03</th>\n",
              "      <th>PSTV04</th>\n",
              "      <th>PSTV05</th>\n",
              "      <th>PSTV06</th>\n",
              "      <th>PSTV07</th>\n",
              "      <th>PSTV08</th>\n",
              "      <th>PSTV09</th>\n",
              "      <th>PSTV10</th>\n",
              "      <th>...</th>\n",
              "      <th>PNK10</th>\n",
              "      <th>PNK11</th>\n",
              "      <th>PNK12</th>\n",
              "      <th>PNK13</th>\n",
              "      <th>PNK13A</th>\n",
              "      <th>PNK14</th>\n",
              "      <th>PNK15</th>\n",
              "      <th>PNK16</th>\n",
              "      <th>PNK17</th>\n",
              "      <th>PNK18</th>\n",
              "    </tr>\n",
              "  </thead>\n",
              "  <tbody>\n",
              "    <tr>\n",
              "      <th>0</th>\n",
              "      <td>328537885</td>\n",
              "      <td>328537885</td>\n",
              "      <td>1989-07-13</td>\n",
              "      <td>PESERTA</td>\n",
              "      <td>PEREMPUAN</td>\n",
              "      <td>BELUM KAWIN</td>\n",
              "      <td>KELAS III</td>\n",
              "      <td>PBI APBD</td>\n",
              "      <td>ACEH</td>\n",
              "      <td>ACEH TAMIANG</td>\n",
              "      <td>...</td>\n",
              "      <td>RAWAT INAP</td>\n",
              "      <td>RITP</td>\n",
              "      <td>PBI APBD</td>\n",
              "      <td>O80 Single spontaneous delivery</td>\n",
              "      <td>O80</td>\n",
              "      <td>O800</td>\n",
              "      <td>Spontaneous vertex delivery</td>\n",
              "      <td>Paket Persalinan per Vaginam normal (oleh Bidan)</td>\n",
              "      <td>700000</td>\n",
              "      <td>700000</td>\n",
              "    </tr>\n",
              "    <tr>\n",
              "      <th>1</th>\n",
              "      <td>328537885</td>\n",
              "      <td>328537885</td>\n",
              "      <td>1989-07-13</td>\n",
              "      <td>PESERTA</td>\n",
              "      <td>PEREMPUAN</td>\n",
              "      <td>BELUM KAWIN</td>\n",
              "      <td>KELAS III</td>\n",
              "      <td>PBI APBD</td>\n",
              "      <td>ACEH</td>\n",
              "      <td>ACEH TAMIANG</td>\n",
              "      <td>...</td>\n",
              "      <td>RAWAT INAP</td>\n",
              "      <td>RITP</td>\n",
              "      <td>PBI APBD</td>\n",
              "      <td>O80 Single spontaneous delivery</td>\n",
              "      <td>O80</td>\n",
              "      <td>O800</td>\n",
              "      <td>Spontaneous vertex delivery</td>\n",
              "      <td>Paket Persalinan per Vaginam normal (oleh Bidan)</td>\n",
              "      <td>700000</td>\n",
              "      <td>700000</td>\n",
              "    </tr>\n",
              "    <tr>\n",
              "      <th>2</th>\n",
              "      <td>328537885</td>\n",
              "      <td>328537885</td>\n",
              "      <td>1989-07-13</td>\n",
              "      <td>PESERTA</td>\n",
              "      <td>PEREMPUAN</td>\n",
              "      <td>KAWIN</td>\n",
              "      <td>KELAS III</td>\n",
              "      <td>PBI APBD</td>\n",
              "      <td>ACEH</td>\n",
              "      <td>ACEH TAMIANG</td>\n",
              "      <td>...</td>\n",
              "      <td>RAWAT INAP</td>\n",
              "      <td>RITP</td>\n",
              "      <td>PBI APBD</td>\n",
              "      <td>O80 Single spontaneous delivery</td>\n",
              "      <td>O80</td>\n",
              "      <td>O800</td>\n",
              "      <td>Spontaneous vertex delivery</td>\n",
              "      <td>Paket Persalinan per Vaginam normal (oleh Bidan)</td>\n",
              "      <td>700000</td>\n",
              "      <td>700000</td>\n",
              "    </tr>\n",
              "    <tr>\n",
              "      <th>3</th>\n",
              "      <td>75453396</td>\n",
              "      <td>75453396</td>\n",
              "      <td>1959-08-25</td>\n",
              "      <td>PESERTA</td>\n",
              "      <td>LAKI-LAKI</td>\n",
              "      <td>KAWIN</td>\n",
              "      <td>KELAS I</td>\n",
              "      <td>PPU</td>\n",
              "      <td>JAWA TENGAH</td>\n",
              "      <td>BLORA</td>\n",
              "      <td>...</td>\n",
              "      <td>RAWAT INAP</td>\n",
              "      <td>RJTP</td>\n",
              "      <td>BUKAN PEKERJA</td>\n",
              "      <td>R06 Abnormalities of breathing</td>\n",
              "      <td>R06</td>\n",
              "      <td>R060</td>\n",
              "      <td>Dyspnoea</td>\n",
              "      <td>Evakuasi medis / Ambulans Darat</td>\n",
              "      <td>161700</td>\n",
              "      <td>161700</td>\n",
              "    </tr>\n",
              "    <tr>\n",
              "      <th>4</th>\n",
              "      <td>75453396</td>\n",
              "      <td>75453396</td>\n",
              "      <td>1959-08-25</td>\n",
              "      <td>PESERTA</td>\n",
              "      <td>LAKI-LAKI</td>\n",
              "      <td>KAWIN</td>\n",
              "      <td>KELAS I</td>\n",
              "      <td>BUKAN PEKERJA</td>\n",
              "      <td>JAWA TENGAH</td>\n",
              "      <td>BLORA</td>\n",
              "      <td>...</td>\n",
              "      <td>RAWAT INAP</td>\n",
              "      <td>RJTP</td>\n",
              "      <td>BUKAN PEKERJA</td>\n",
              "      <td>R06 Abnormalities of breathing</td>\n",
              "      <td>R06</td>\n",
              "      <td>R060</td>\n",
              "      <td>Dyspnoea</td>\n",
              "      <td>Evakuasi medis / Ambulans Darat</td>\n",
              "      <td>161700</td>\n",
              "      <td>161700</td>\n",
              "    </tr>\n",
              "    <tr>\n",
              "      <th>...</th>\n",
              "      <td>...</td>\n",
              "      <td>...</td>\n",
              "      <td>...</td>\n",
              "      <td>...</td>\n",
              "      <td>...</td>\n",
              "      <td>...</td>\n",
              "      <td>...</td>\n",
              "      <td>...</td>\n",
              "      <td>...</td>\n",
              "      <td>...</td>\n",
              "      <td>...</td>\n",
              "      <td>...</td>\n",
              "      <td>...</td>\n",
              "      <td>...</td>\n",
              "      <td>...</td>\n",
              "      <td>...</td>\n",
              "      <td>...</td>\n",
              "      <td>...</td>\n",
              "      <td>...</td>\n",
              "      <td>...</td>\n",
              "      <td>...</td>\n",
              "    </tr>\n",
              "    <tr>\n",
              "      <th>109474</th>\n",
              "      <td>426032113</td>\n",
              "      <td>408166141</td>\n",
              "      <td>1982-09-10</td>\n",
              "      <td>ISTRI</td>\n",
              "      <td>PEREMPUAN</td>\n",
              "      <td>KAWIN</td>\n",
              "      <td>KELAS III</td>\n",
              "      <td>PBI APBN</td>\n",
              "      <td>SULAWESI SELATAN</td>\n",
              "      <td>TAKALAR</td>\n",
              "      <td>...</td>\n",
              "      <td>NON RAWAT INAP</td>\n",
              "      <td>RITP</td>\n",
              "      <td>PBI APBN</td>\n",
              "      <td>R19 Other symptoms and signs involving the dig...</td>\n",
              "      <td>R19</td>\n",
              "      <td>R198</td>\n",
              "      <td>Other specified symptoms and signs involving t...</td>\n",
              "      <td>Paket Persalinan per Vaginam normal (oleh Bidan)</td>\n",
              "      <td>700000</td>\n",
              "      <td>700000</td>\n",
              "    </tr>\n",
              "    <tr>\n",
              "      <th>109475</th>\n",
              "      <td>426032113</td>\n",
              "      <td>408166141</td>\n",
              "      <td>1982-09-10</td>\n",
              "      <td>ISTRI</td>\n",
              "      <td>PEREMPUAN</td>\n",
              "      <td>KAWIN</td>\n",
              "      <td>KELAS III</td>\n",
              "      <td>PBI APBN</td>\n",
              "      <td>SULAWESI SELATAN</td>\n",
              "      <td>TAKALAR</td>\n",
              "      <td>...</td>\n",
              "      <td>NON RAWAT INAP</td>\n",
              "      <td>RITP</td>\n",
              "      <td>PBI APBN</td>\n",
              "      <td>R19 Other symptoms and signs involving the dig...</td>\n",
              "      <td>R19</td>\n",
              "      <td>R198</td>\n",
              "      <td>Other specified symptoms and signs involving t...</td>\n",
              "      <td>Paket Persalinan per Vaginam normal (oleh Bidan)</td>\n",
              "      <td>700000</td>\n",
              "      <td>700000</td>\n",
              "    </tr>\n",
              "    <tr>\n",
              "      <th>109476</th>\n",
              "      <td>402406574</td>\n",
              "      <td>402406574</td>\n",
              "      <td>1959-09-09</td>\n",
              "      <td>PESERTA</td>\n",
              "      <td>LAKI-LAKI</td>\n",
              "      <td>KAWIN</td>\n",
              "      <td>KELAS III</td>\n",
              "      <td>PBPU</td>\n",
              "      <td>NUSA TENGGARA BARAT</td>\n",
              "      <td>SUMBAWA</td>\n",
              "      <td>...</td>\n",
              "      <td>RAWAT INAP</td>\n",
              "      <td>RJTP</td>\n",
              "      <td>PBI APBN</td>\n",
              "      <td>K29 Gastritis and duodenitis</td>\n",
              "      <td>K29</td>\n",
              "      <td>K297</td>\n",
              "      <td>Gastritis, unspecified</td>\n",
              "      <td>Evakuasi medis / Ambulans Darat</td>\n",
              "      <td>80000</td>\n",
              "      <td>80000</td>\n",
              "    </tr>\n",
              "    <tr>\n",
              "      <th>109477</th>\n",
              "      <td>402406574</td>\n",
              "      <td>402406574</td>\n",
              "      <td>1959-09-09</td>\n",
              "      <td>PESERTA</td>\n",
              "      <td>LAKI-LAKI</td>\n",
              "      <td>KAWIN</td>\n",
              "      <td>KELAS III</td>\n",
              "      <td>PBI APBN</td>\n",
              "      <td>NUSA TENGGARA BARAT</td>\n",
              "      <td>SUMBAWA</td>\n",
              "      <td>...</td>\n",
              "      <td>RAWAT INAP</td>\n",
              "      <td>RJTP</td>\n",
              "      <td>PBI APBN</td>\n",
              "      <td>K29 Gastritis and duodenitis</td>\n",
              "      <td>K29</td>\n",
              "      <td>K297</td>\n",
              "      <td>Gastritis, unspecified</td>\n",
              "      <td>Evakuasi medis / Ambulans Darat</td>\n",
              "      <td>80000</td>\n",
              "      <td>80000</td>\n",
              "    </tr>\n",
              "    <tr>\n",
              "      <th>109478</th>\n",
              "      <td>402406574</td>\n",
              "      <td>402406574</td>\n",
              "      <td>1959-09-09</td>\n",
              "      <td>PESERTA</td>\n",
              "      <td>LAKI-LAKI</td>\n",
              "      <td>KAWIN</td>\n",
              "      <td>KELAS III</td>\n",
              "      <td>PBI APBN</td>\n",
              "      <td>NUSA TENGGARA BARAT</td>\n",
              "      <td>SUMBAWA</td>\n",
              "      <td>...</td>\n",
              "      <td>RAWAT INAP</td>\n",
              "      <td>RJTP</td>\n",
              "      <td>PBI APBN</td>\n",
              "      <td>K29 Gastritis and duodenitis</td>\n",
              "      <td>K29</td>\n",
              "      <td>K297</td>\n",
              "      <td>Gastritis, unspecified</td>\n",
              "      <td>Evakuasi medis / Ambulans Darat</td>\n",
              "      <td>80000</td>\n",
              "      <td>80000</td>\n",
              "    </tr>\n",
              "  </tbody>\n",
              "</table>\n",
              "<p>109479 rows × 36 columns</p>\n",
              "</div>\n",
              "    <div class=\"colab-df-buttons\">\n",
              "\n",
              "  <div class=\"colab-df-container\">\n",
              "    <button class=\"colab-df-convert\" onclick=\"convertToInteractive('df-4d9c3bae-7172-4832-9476-296a68cea1e7')\"\n",
              "            title=\"Convert this dataframe to an interactive table.\"\n",
              "            style=\"display:none;\">\n",
              "\n",
              "  <svg xmlns=\"http://www.w3.org/2000/svg\" height=\"24px\" viewBox=\"0 -960 960 960\">\n",
              "    <path d=\"M120-120v-720h720v720H120Zm60-500h600v-160H180v160Zm220 220h160v-160H400v160Zm0 220h160v-160H400v160ZM180-400h160v-160H180v160Zm440 0h160v-160H620v160ZM180-180h160v-160H180v160Zm440 0h160v-160H620v160Z\"/>\n",
              "  </svg>\n",
              "    </button>\n",
              "\n",
              "  <style>\n",
              "    .colab-df-container {\n",
              "      display:flex;\n",
              "      gap: 12px;\n",
              "    }\n",
              "\n",
              "    .colab-df-convert {\n",
              "      background-color: #E8F0FE;\n",
              "      border: none;\n",
              "      border-radius: 50%;\n",
              "      cursor: pointer;\n",
              "      display: none;\n",
              "      fill: #1967D2;\n",
              "      height: 32px;\n",
              "      padding: 0 0 0 0;\n",
              "      width: 32px;\n",
              "    }\n",
              "\n",
              "    .colab-df-convert:hover {\n",
              "      background-color: #E2EBFA;\n",
              "      box-shadow: 0px 1px 2px rgba(60, 64, 67, 0.3), 0px 1px 3px 1px rgba(60, 64, 67, 0.15);\n",
              "      fill: #174EA6;\n",
              "    }\n",
              "\n",
              "    .colab-df-buttons div {\n",
              "      margin-bottom: 4px;\n",
              "    }\n",
              "\n",
              "    [theme=dark] .colab-df-convert {\n",
              "      background-color: #3B4455;\n",
              "      fill: #D2E3FC;\n",
              "    }\n",
              "\n",
              "    [theme=dark] .colab-df-convert:hover {\n",
              "      background-color: #434B5C;\n",
              "      box-shadow: 0px 1px 3px 1px rgba(0, 0, 0, 0.15);\n",
              "      filter: drop-shadow(0px 1px 2px rgba(0, 0, 0, 0.3));\n",
              "      fill: #FFFFFF;\n",
              "    }\n",
              "  </style>\n",
              "\n",
              "    <script>\n",
              "      const buttonEl =\n",
              "        document.querySelector('#df-4d9c3bae-7172-4832-9476-296a68cea1e7 button.colab-df-convert');\n",
              "      buttonEl.style.display =\n",
              "        google.colab.kernel.accessAllowed ? 'block' : 'none';\n",
              "\n",
              "      async function convertToInteractive(key) {\n",
              "        const element = document.querySelector('#df-4d9c3bae-7172-4832-9476-296a68cea1e7');\n",
              "        const dataTable =\n",
              "          await google.colab.kernel.invokeFunction('convertToInteractive',\n",
              "                                                    [key], {});\n",
              "        if (!dataTable) return;\n",
              "\n",
              "        const docLinkHtml = 'Like what you see? Visit the ' +\n",
              "          '<a target=\"_blank\" href=https://colab.research.google.com/notebooks/data_table.ipynb>data table notebook</a>'\n",
              "          + ' to learn more about interactive tables.';\n",
              "        element.innerHTML = '';\n",
              "        dataTable['output_type'] = 'display_data';\n",
              "        await google.colab.output.renderOutput(dataTable, element);\n",
              "        const docLink = document.createElement('div');\n",
              "        docLink.innerHTML = docLinkHtml;\n",
              "        element.appendChild(docLink);\n",
              "      }\n",
              "    </script>\n",
              "  </div>\n",
              "\n",
              "\n",
              "<div id=\"df-27d786ca-108d-4e0c-aca3-9633b01d799b\">\n",
              "  <button class=\"colab-df-quickchart\" onclick=\"quickchart('df-27d786ca-108d-4e0c-aca3-9633b01d799b')\"\n",
              "            title=\"Suggest charts\"\n",
              "            style=\"display:none;\">\n",
              "\n",
              "<svg xmlns=\"http://www.w3.org/2000/svg\" height=\"24px\"viewBox=\"0 0 24 24\"\n",
              "     width=\"24px\">\n",
              "    <g>\n",
              "        <path d=\"M19 3H5c-1.1 0-2 .9-2 2v14c0 1.1.9 2 2 2h14c1.1 0 2-.9 2-2V5c0-1.1-.9-2-2-2zM9 17H7v-7h2v7zm4 0h-2V7h2v10zm4 0h-2v-4h2v4z\"/>\n",
              "    </g>\n",
              "</svg>\n",
              "  </button>\n",
              "\n",
              "<style>\n",
              "  .colab-df-quickchart {\n",
              "      --bg-color: #E8F0FE;\n",
              "      --fill-color: #1967D2;\n",
              "      --hover-bg-color: #E2EBFA;\n",
              "      --hover-fill-color: #174EA6;\n",
              "      --disabled-fill-color: #AAA;\n",
              "      --disabled-bg-color: #DDD;\n",
              "  }\n",
              "\n",
              "  [theme=dark] .colab-df-quickchart {\n",
              "      --bg-color: #3B4455;\n",
              "      --fill-color: #D2E3FC;\n",
              "      --hover-bg-color: #434B5C;\n",
              "      --hover-fill-color: #FFFFFF;\n",
              "      --disabled-bg-color: #3B4455;\n",
              "      --disabled-fill-color: #666;\n",
              "  }\n",
              "\n",
              "  .colab-df-quickchart {\n",
              "    background-color: var(--bg-color);\n",
              "    border: none;\n",
              "    border-radius: 50%;\n",
              "    cursor: pointer;\n",
              "    display: none;\n",
              "    fill: var(--fill-color);\n",
              "    height: 32px;\n",
              "    padding: 0;\n",
              "    width: 32px;\n",
              "  }\n",
              "\n",
              "  .colab-df-quickchart:hover {\n",
              "    background-color: var(--hover-bg-color);\n",
              "    box-shadow: 0 1px 2px rgba(60, 64, 67, 0.3), 0 1px 3px 1px rgba(60, 64, 67, 0.15);\n",
              "    fill: var(--button-hover-fill-color);\n",
              "  }\n",
              "\n",
              "  .colab-df-quickchart-complete:disabled,\n",
              "  .colab-df-quickchart-complete:disabled:hover {\n",
              "    background-color: var(--disabled-bg-color);\n",
              "    fill: var(--disabled-fill-color);\n",
              "    box-shadow: none;\n",
              "  }\n",
              "\n",
              "  .colab-df-spinner {\n",
              "    border: 2px solid var(--fill-color);\n",
              "    border-color: transparent;\n",
              "    border-bottom-color: var(--fill-color);\n",
              "    animation:\n",
              "      spin 1s steps(1) infinite;\n",
              "  }\n",
              "\n",
              "  @keyframes spin {\n",
              "    0% {\n",
              "      border-color: transparent;\n",
              "      border-bottom-color: var(--fill-color);\n",
              "      border-left-color: var(--fill-color);\n",
              "    }\n",
              "    20% {\n",
              "      border-color: transparent;\n",
              "      border-left-color: var(--fill-color);\n",
              "      border-top-color: var(--fill-color);\n",
              "    }\n",
              "    30% {\n",
              "      border-color: transparent;\n",
              "      border-left-color: var(--fill-color);\n",
              "      border-top-color: var(--fill-color);\n",
              "      border-right-color: var(--fill-color);\n",
              "    }\n",
              "    40% {\n",
              "      border-color: transparent;\n",
              "      border-right-color: var(--fill-color);\n",
              "      border-top-color: var(--fill-color);\n",
              "    }\n",
              "    60% {\n",
              "      border-color: transparent;\n",
              "      border-right-color: var(--fill-color);\n",
              "    }\n",
              "    80% {\n",
              "      border-color: transparent;\n",
              "      border-right-color: var(--fill-color);\n",
              "      border-bottom-color: var(--fill-color);\n",
              "    }\n",
              "    90% {\n",
              "      border-color: transparent;\n",
              "      border-bottom-color: var(--fill-color);\n",
              "    }\n",
              "  }\n",
              "</style>\n",
              "\n",
              "  <script>\n",
              "    async function quickchart(key) {\n",
              "      const quickchartButtonEl =\n",
              "        document.querySelector('#' + key + ' button');\n",
              "      quickchartButtonEl.disabled = true;  // To prevent multiple clicks.\n",
              "      quickchartButtonEl.classList.add('colab-df-spinner');\n",
              "      try {\n",
              "        const charts = await google.colab.kernel.invokeFunction(\n",
              "            'suggestCharts', [key], {});\n",
              "      } catch (error) {\n",
              "        console.error('Error during call to suggestCharts:', error);\n",
              "      }\n",
              "      quickchartButtonEl.classList.remove('colab-df-spinner');\n",
              "      quickchartButtonEl.classList.add('colab-df-quickchart-complete');\n",
              "    }\n",
              "    (() => {\n",
              "      let quickchartButtonEl =\n",
              "        document.querySelector('#df-27d786ca-108d-4e0c-aca3-9633b01d799b button');\n",
              "      quickchartButtonEl.style.display =\n",
              "        google.colab.kernel.accessAllowed ? 'block' : 'none';\n",
              "    })();\n",
              "  </script>\n",
              "</div>\n",
              "    </div>\n",
              "  </div>\n"
            ]
          },
          "metadata": {},
          "execution_count": 32
        }
      ],
      "source": [
        "df = pd.read_csv('/content/drive/MyDrive/DAMI/data_dami.csv')\n",
        "df"
      ]
    },
    {
      "cell_type": "markdown",
      "metadata": {
        "id": "SHn_Q6knD_re"
      },
      "source": [
        "### Check Missing Value"
      ]
    },
    {
      "cell_type": "code",
      "execution_count": null,
      "metadata": {
        "colab": {
          "base_uri": "https://localhost:8080/"
        },
        "id": "TS-DMDHaDy2W",
        "outputId": "81a63a4a-13e0-4e55-e312-f4fb7ff0ece5"
      },
      "outputs": [
        {
          "output_type": "execute_result",
          "data": {
            "text/plain": [
              "PSTV01         0\n",
              "PSTV02         0\n",
              "PSTV03         0\n",
              "PSTV04         0\n",
              "PSTV05         0\n",
              "PSTV06         0\n",
              "PSTV07         0\n",
              "PSTV08         0\n",
              "PSTV09         0\n",
              "PSTV10         0\n",
              "PSTV11         0\n",
              "PSTV12         0\n",
              "PSTV13         0\n",
              "PSTV14         0\n",
              "PSTV15         0\n",
              "PSTV16         0\n",
              "PSTV17         0\n",
              "PSTV18    102036\n",
              "PNK02          0\n",
              "PNK03          0\n",
              "PNK04          0\n",
              "PNK05          0\n",
              "PNK06          0\n",
              "PNK07          0\n",
              "PNK08          0\n",
              "PNK09          0\n",
              "PNK10          0\n",
              "PNK11          0\n",
              "PNK12          0\n",
              "PNK13          6\n",
              "PNK13A         6\n",
              "PNK14          0\n",
              "PNK15          0\n",
              "PNK16          0\n",
              "PNK17          0\n",
              "PNK18          0\n",
              "dtype: int64"
            ]
          },
          "metadata": {},
          "execution_count": 33
        }
      ],
      "source": [
        "df.isna().sum()"
      ]
    },
    {
      "cell_type": "markdown",
      "source": [
        "#### Handling missing value"
      ],
      "metadata": {
        "id": "55Wn6K0ffldP"
      }
    },
    {
      "cell_type": "code",
      "execution_count": null,
      "metadata": {
        "id": "oiDY7yutEYPA"
      },
      "outputs": [],
      "source": [
        "# handling missing value\n",
        "df['PSTV18'] = df['PSTV18'].fillna('Belum Meninggal')"
      ]
    },
    {
      "cell_type": "code",
      "source": [
        "df['PSTV18']"
      ],
      "metadata": {
        "colab": {
          "base_uri": "https://localhost:8080/"
        },
        "id": "FvU7WgR4Miok",
        "outputId": "818d4234-c974-4688-c1ff-9f7ad3db1614"
      },
      "execution_count": null,
      "outputs": [
        {
          "output_type": "execute_result",
          "data": {
            "text/plain": [
              "0         Belum Meninggal\n",
              "1         Belum Meninggal\n",
              "2         Belum Meninggal\n",
              "3         Belum Meninggal\n",
              "4         Belum Meninggal\n",
              "               ...       \n",
              "109474    Belum Meninggal\n",
              "109475    Belum Meninggal\n",
              "109476    Belum Meninggal\n",
              "109477    Belum Meninggal\n",
              "109478    Belum Meninggal\n",
              "Name: PSTV18, Length: 109479, dtype: object"
            ]
          },
          "metadata": {},
          "execution_count": 6
        }
      ]
    },
    {
      "cell_type": "markdown",
      "source": [
        "### Check Data Duplicate"
      ],
      "metadata": {
        "id": "pnk6nwTxxS0-"
      }
    },
    {
      "cell_type": "code",
      "source": [
        "df = df.drop_duplicates(keep='first', inplace=False)"
      ],
      "metadata": {
        "id": "Tuf0RiUZx1aJ"
      },
      "execution_count": null,
      "outputs": []
    },
    {
      "cell_type": "code",
      "source": [
        "df = df.duplicated()\n",
        "df.sum()"
      ],
      "metadata": {
        "colab": {
          "base_uri": "https://localhost:8080/"
        },
        "id": "KkXuQSgdxdu-",
        "outputId": "60657984-e88c-4803-d466-ea4cc708af70"
      },
      "execution_count": null,
      "outputs": [
        {
          "output_type": "execute_result",
          "data": {
            "text/plain": [
              "0"
            ]
          },
          "metadata": {},
          "execution_count": 15
        }
      ]
    },
    {
      "cell_type": "code",
      "source": [
        "df.info()"
      ],
      "metadata": {
        "colab": {
          "base_uri": "https://localhost:8080/"
        },
        "id": "aHH05kYHxYc8",
        "outputId": "af0832ce-876a-489f-be25-cd725efd3999"
      },
      "execution_count": null,
      "outputs": [
        {
          "output_type": "stream",
          "name": "stdout",
          "text": [
            "<class 'pandas.core.series.Series'>\n",
            "Int64Index: 108018 entries, 0 to 109478\n",
            "Series name: None\n",
            "Non-Null Count   Dtype\n",
            "--------------   -----\n",
            "108018 non-null  bool \n",
            "dtypes: bool(1)\n",
            "memory usage: 949.4 KB\n"
          ]
        }
      ]
    },
    {
      "cell_type": "code",
      "source": [
        "df"
      ],
      "metadata": {
        "colab": {
          "base_uri": "https://localhost:8080/"
        },
        "id": "GgvQHopKyMcB",
        "outputId": "b85c819b-c5f9-456b-faac-3f6255213218"
      },
      "execution_count": null,
      "outputs": [
        {
          "output_type": "execute_result",
          "data": {
            "text/plain": [
              "0         False\n",
              "1         False\n",
              "2         False\n",
              "3         False\n",
              "4         False\n",
              "          ...  \n",
              "109474    False\n",
              "109475    False\n",
              "109476    False\n",
              "109477    False\n",
              "109478    False\n",
              "Length: 108018, dtype: bool"
            ]
          },
          "metadata": {},
          "execution_count": 18
        }
      ]
    },
    {
      "cell_type": "markdown",
      "metadata": {
        "id": "YBICLkvgEe0i"
      },
      "source": [
        "### Check Data Unique"
      ]
    },
    {
      "cell_type": "code",
      "execution_count": null,
      "metadata": {
        "colab": {
          "base_uri": "https://localhost:8080/"
        },
        "id": "5A3zly9XEBT8",
        "outputId": "745ca835-1917-4cbf-d22a-2c07fc75d7a4"
      },
      "outputs": [
        {
          "output_type": "execute_result",
          "data": {
            "text/plain": [
              "PSTV01     8328\n",
              "PSTV02     8291\n",
              "PSTV03     6269\n",
              "PSTV04        5\n",
              "PSTV05        2\n",
              "PSTV06        3\n",
              "PSTV07        3\n",
              "PSTV08        5\n",
              "PSTV09       34\n",
              "PSTV10      486\n",
              "PSTV11        8\n",
              "PSTV12        3\n",
              "PSTV13       34\n",
              "PSTV14      485\n",
              "PSTV15     5646\n",
              "PSTV16        3\n",
              "PSTV17        4\n",
              "PSTV18        3\n",
              "PNK02     20607\n",
              "PNK03      2516\n",
              "PNK04      2516\n",
              "PNK05      2509\n",
              "PNK06        34\n",
              "PNK07       463\n",
              "PNK08         7\n",
              "PNK09         6\n",
              "PNK10        10\n",
              "PNK11         3\n",
              "PNK12         5\n",
              "PNK13       543\n",
              "PNK13A      543\n",
              "PNK14      1104\n",
              "PNK15      1104\n",
              "PNK16        38\n",
              "PNK17       949\n",
              "PNK18       949\n",
              "dtype: int64"
            ]
          },
          "metadata": {},
          "execution_count": 24
        }
      ],
      "source": [
        "df.nunique()"
      ]
    },
    {
      "cell_type": "code",
      "execution_count": null,
      "metadata": {
        "colab": {
          "base_uri": "https://localhost:8080/",
          "height": 430
        },
        "id": "1gGRjbAPExKe",
        "outputId": "5f108bd6-80e8-4829-91c3-2a686f08a170"
      },
      "outputs": [
        {
          "output_type": "display_data",
          "data": {
            "text/plain": [
              "<Figure size 640x480 with 1 Axes>"
            ],
            "image/png": "[encoded data removed]"
          },
          "metadata": {}
        }
      ],
      "source": [
        "df['PNK11'].hist(edgecolor='black', bins=20);"
      ]
    },
    {
      "cell_type": "markdown",
      "metadata": {
        "id": "7puet8aqTON3"
      },
      "source": [
        "### Check Corellation"
      ]
    },
    {
      "cell_type": "code",
      "execution_count": null,
      "metadata": {
        "colab": {
          "base_uri": "https://localhost:8080/",
          "height": 639
        },
        "id": "hOeRACJdTbF4",
        "outputId": "99c6904b-07c9-438f-c641-98b43cd3b628"
      },
      "outputs": [
        {
          "data": {
            "image/png": "[encoded data removed]",
            "text/plain": [
              "<Figure size 1700x1500 with 2 Axes>"
            ]
          },
          "metadata": {},
          "output_type": "display_data"
        }
      ],
      "source": [
        "numeric_df = df.select_dtypes(include=['float64', 'int64'])\n",
        "\n",
        "# correlation matrix\n",
        "correlation_matrix = numeric_df.corr()\n",
        "\n",
        "# heatmap show the correlation between features\n",
        "plt.figure(figsize=(17, 15))\n",
        "sns.heatmap(correlation_matrix, annot=False, cmap='Blues', linewidths=.5)\n",
        "\n",
        "plt.title('Feature Correlation Heatmap', fontsize=30)\n",
        "\n",
        "plt.show()"
      ]
    },
    {
      "cell_type": "markdown",
      "metadata": {
        "id": "h3t8WGIcWgb5"
      },
      "source": [
        "### Drop Unwanted Feature"
      ]
    },
    {
      "cell_type": "code",
      "execution_count": null,
      "metadata": {
        "id": "SXHsUTrFWlNk"
      },
      "outputs": [],
      "source": [
        "df.drop(['PSTV18', 'PSTV17', 'PSTV16', 'PSTV11', 'PSTV12',\n",
        "         'PSTV08', 'PSTV13', 'PSTV07', 'PSTV04','PSTV06',\n",
        "         'PNK13A', 'PNK12', 'PSTV05', 'PNK06', 'PNK09', 'PNK08'], axis = 1, inplace = True)"
      ]
    },
    {
      "cell_type": "code",
      "source": [
        "df.drop(['PSTV18', 'PSTV17', 'PSTV16', 'PSTV11', 'PSTV12',\n",
        "         'PSTV08', 'PSTV13', 'PSTV07', 'PSTV04','PSTV06',\n",
        "         'PNK13A', 'PNK12', 'PSTV05', 'PNK06', 'PNK09',], axis = 1, inplace = True)"
      ],
      "metadata": {
        "id": "HY1tPgPGnP86"
      },
      "execution_count": null,
      "outputs": []
    },
    {
      "cell_type": "markdown",
      "metadata": {
        "id": "xEBN9ScSEetq"
      },
      "source": [
        "### Check Data Imbalanced"
      ]
    },
    {
      "cell_type": "code",
      "execution_count": null,
      "metadata": {
        "colab": {
          "base_uri": "https://localhost:8080/"
        },
        "id": "sEfw28JAFLVC",
        "outputId": "313cfef5-181c-461a-8d64-9ae28b91a13d"
      },
      "outputs": [
        {
          "output_type": "stream",
          "name": "stdout",
          "text": [
            "RITP : 12.933987340037815 %\n",
            "RJTP : 35.045077138081275 %\n",
            "PROMOTIF : 52.02093552188091 %\n"
          ]
        }
      ],
      "source": [
        "All = df.shape[0]\n",
        "RITP = df[df['PNK11'] == 'RITP']\n",
        "RJTP = df[df['PNK11'] == 'RJTP']\n",
        "PROMOTIF = df[df['PNK11'] == 'PROMOTIF']\n",
        "\n",
        "totalRITP = len(RITP)/All\n",
        "totalRJTP = len(RJTP)/All\n",
        "totalPromotif = len(PROMOTIF)/All\n",
        "\n",
        "print('RITP :', totalRITP * 100, '%')\n",
        "print('RJTP :', totalRJTP * 100, '%')\n",
        "print('PROMOTIF :', totalPromotif * 100, '%')"
      ]
    },
    {
      "cell_type": "code",
      "execution_count": null,
      "metadata": {
        "colab": {
          "base_uri": "https://localhost:8080/"
        },
        "id": "E7fCTxZFGxTT",
        "outputId": "b81dc604-b24c-43cc-876d-14c0b945e0f7"
      },
      "outputs": [
        {
          "output_type": "stream",
          "name": "stdout",
          "text": [
            "0    0.333333\n",
            "1    0.333333\n",
            "2    0.333333\n",
            "Name: PNK11, dtype: float64\n"
          ]
        }
      ],
      "source": [
        "from imblearn.under_sampling import RandomUnderSampler\n",
        "\n",
        "train_data = pd.concat([X_train, Y_train], axis=1)\n",
        "class_counts = Y_train['PNK11'].value_counts()\n",
        "undersample_size = min(class_counts)\n",
        "rus = RandomUnderSampler(sampling_strategy={0: undersample_size, 1: undersample_size, 2: undersample_size}, random_state=42)\n",
        "X_resampled, y_resampled = rus.fit_resample(X_train, Y_train['PNK11'])\n",
        "print(pd.Series(y_resampled).value_counts(normalize=True))"
      ]
    },
    {
      "cell_type": "markdown",
      "metadata": {
        "id": "qNOh5XjjH1mV"
      },
      "source": [
        "## Transformasi"
      ]
    },
    {
      "cell_type": "code",
      "execution_count": null,
      "metadata": {
        "id": "yvQXqVgEH3qD"
      },
      "outputs": [],
      "source": [
        "df['PNK11'].replace(to_replace = ['RITP', 'RJTP', 'PROMOTIF'], value = [2, 1, 0], inplace = True)"
      ]
    },
    {
      "cell_type": "code",
      "execution_count": null,
      "metadata": {
        "id": "wcmGznJrIFCC"
      },
      "outputs": [],
      "source": [
        "data_categorical = df.select_dtypes(include=['object']).copy()"
      ]
    },
    {
      "cell_type": "code",
      "execution_count": null,
      "metadata": {
        "colab": {
          "base_uri": "https://localhost:8080/"
        },
        "id": "Kq1p50hOIHbC",
        "outputId": "fa16d414-e2e0-4e09-ddef-fa08fe5e46ef"
      },
      "outputs": [
        {
          "output_type": "stream",
          "name": "stdout",
          "text": [
            "<class 'pandas.core.frame.DataFrame'>\n",
            "RangeIndex: 109479 entries, 0 to 109478\n",
            "Data columns (total 13 columns):\n",
            " #   Column  Non-Null Count   Dtype \n",
            "---  ------  --------------   ----- \n",
            " 0   PSTV03  109479 non-null  object\n",
            " 1   PSTV09  109479 non-null  object\n",
            " 2   PSTV10  109479 non-null  object\n",
            " 3   PSTV14  109479 non-null  object\n",
            " 4   PNK02   109479 non-null  object\n",
            " 5   PNK03   109479 non-null  object\n",
            " 6   PNK04   109479 non-null  object\n",
            " 7   PNK05   109479 non-null  object\n",
            " 8   PNK07   109479 non-null  object\n",
            " 9   PNK13   109473 non-null  object\n",
            " 10  PNK14   109479 non-null  object\n",
            " 11  PNK15   109479 non-null  object\n",
            " 12  PNK16   109479 non-null  object\n",
            "dtypes: object(13)\n",
            "memory usage: 10.9+ MB\n"
          ]
        }
      ],
      "source": [
        "data_categorical.info()"
      ]
    },
    {
      "cell_type": "code",
      "execution_count": null,
      "metadata": {
        "id": "_rQJSy0pIIYh"
      },
      "outputs": [],
      "source": [
        "from sklearn.preprocessing import LabelEncoder\n",
        "LE = LabelEncoder()"
      ]
    },
    {
      "cell_type": "code",
      "source": [
        "df['PSTV03'] = LE.fit_transform(df['PSTV03'])\n",
        "#df['PSTV04'] = LE.fit_transform(df['PSTV04'])\n",
        "#df['PSTV05'] = LE.fit_transform(df['PSTV05'])\n",
        "#df['PSTV06'] = LE.fit_transform(df['PSTV06'])\n",
        "#df['PSTV12'] = LE.fit_transform(df['PSTV12'])\n",
        "#df['PSTV07'] = LE.fit_transform(df['PSTV07'])\n",
        "df['PSTV09'] = LE.fit_transform(df['PSTV09'])\n",
        "df['PSTV10'] = LE.fit_transform(df['PSTV10'])\n",
        "#df['PSTV11'] = LE.fit_transform(df['PSTV11'])\n",
        "#df['PSTV13'] = LE.fit_transform(df['PSTV13'])\n",
        "df['PSTV14'] = LE.fit_transform(df['PSTV14'])\n",
        "#df['PSTV17'] = LE.fit_transform(df['PSTV17'])\n",
        "#df['PSTV18'] = LE.fit_transform(df['PSTV18'])\n",
        "df['PNK02'] = LE.fit_transform(df['PNK02'])\n",
        "df['PNK03'] = LE.fit_transform(df['PNK03'])\n",
        "df['PNK04'] = LE.fit_transform(df['PNK04'])\n",
        "df['PNK05'] = LE.fit_transform(df['PNK05'])\n",
        "#df['PNK06'] = LE.fit_transform(df['PNK06'])\n",
        "df['PNK07'] = LE.fit_transform(df['PNK07'])\n",
        "#df['PNK08'] = LE.fit_transform(df['PNK08'])\n",
        "#df['PNK09'] = LE.fit_transform(df['PNK09'])\n",
        "df['PNK10'] = LE.fit_transform(df['PNK10'])\n",
        "#df['PSTV08'] = LE.fit_transform(df['PSTV08'])\n",
        "#df['PNK12'] = LE.fit_transform(df['PSTV12'])\n",
        "df['PNK13'] = LE.fit_transform(df['PNK13'])\n",
        "#df['PNK13A'] = LE.fit_transform(df['PNK13A'])\n",
        "df['PNK14'] = LE.fit_transform(df['PNK14'])\n",
        "df['PNK15'] = LE.fit_transform(df['PNK15'])\n",
        "df['PNK16'] = LE.fit_transform(df['PNK16'])"
      ],
      "metadata": {
        "id": "CwtVY1tU92Yb"
      },
      "execution_count": null,
      "outputs": []
    },
    {
      "cell_type": "code",
      "source": [
        "df['PSTV03'] = LE.fit_transform(df['PSTV03'])\n",
        "df['PSTV04'] = LE.fit_transform(df['PSTV04'])\n",
        "df['PSTV05'] = LE.fit_transform(df['PSTV05'])\n",
        "df['PSTV06'] = LE.fit_transform(df['PSTV06'])\n",
        "df['PSTV07'] = LE.fit_transform(df['PSTV07'])\n",
        "df['PSTV08'] = LE.fit_transform(df['PSTV08'])\n",
        "df['PSTV09'] = LE.fit_transform(df['PSTV09'])\n",
        "df['PSTV10'] = LE.fit_transform(df['PSTV10'])\n",
        "df['PSTV11'] = LE.fit_transform(df['PSTV11'])\n",
        "df['PSTV12'] = LE.fit_transform(df['PSTV12'])\n",
        "df['PSTV13'] = LE.fit_transform(df['PSTV13'])\n",
        "df['PSTV14'] = LE.fit_transform(df['PSTV14'])\n",
        "df['PSTV17'] = LE.fit_transform(df['PSTV17'])\n",
        "df['PNK02'] = LE.fit_transform(df['PNK02'])\n",
        "df['PNK03'] = LE.fit_transform(df['PNK03'])\n",
        "df['PNK04'] = LE.fit_transform(df['PNK04'])\n",
        "df['PNK05'] = LE.fit_transform(df['PNK05'])\n",
        "df['PNK06'] = LE.fit_transform(df['PNK06'])\n",
        "df['PNK07'] = LE.fit_transform(df['PNK07'])\n",
        "df['PNK08'] = LE.fit_transform(df['PNK08'])\n",
        "df['PNK09'] = LE.fit_transform(df['PNK09'])\n",
        "df['PNK10'] = LE.fit_transform(df['PNK10'])\n",
        "df['PNK12'] = LE.fit_transform(df['PSTV12'])\n",
        "df['PNK13'] = LE.fit_transform(df['PNK13'])\n",
        "df['PNK13A'] = LE.fit_transform(df['PNK13A'])\n",
        "df['PNK14'] = LE.fit_transform(df['PNK14'])\n",
        "df['PNK15'] = LE.fit_transform(df['PNK15'])\n",
        "df['PNK16'] = LE.fit_transform(df['PNK16'])"
      ],
      "metadata": {
        "id": "Eo4GlKcIgke0"
      },
      "execution_count": null,
      "outputs": []
    },
    {
      "cell_type": "code",
      "execution_count": null,
      "metadata": {
        "colab": {
          "base_uri": "https://localhost:8080/"
        },
        "id": "wHg1vJKjImdH",
        "outputId": "9c773d55-6b5f-4dc7-af56-3db6dbfb0f0e"
      },
      "outputs": [
        {
          "output_type": "stream",
          "name": "stdout",
          "text": [
            "<class 'pandas.core.frame.DataFrame'>\n",
            "RangeIndex: 109479 entries, 0 to 109478\n",
            "Data columns (total 20 columns):\n",
            " #   Column  Non-Null Count   Dtype  \n",
            "---  ------  --------------   -----  \n",
            " 0   PSTV01  109479 non-null  int64  \n",
            " 1   PSTV02  109479 non-null  int64  \n",
            " 2   PSTV03  109479 non-null  int64  \n",
            " 3   PSTV09  109479 non-null  int64  \n",
            " 4   PSTV10  109479 non-null  int64  \n",
            " 5   PSTV14  109479 non-null  int64  \n",
            " 6   PSTV15  109479 non-null  float64\n",
            " 7   PNK02   109479 non-null  int64  \n",
            " 8   PNK03   109479 non-null  int64  \n",
            " 9   PNK04   109479 non-null  int64  \n",
            " 10  PNK05   109479 non-null  int64  \n",
            " 11  PNK07   109479 non-null  int64  \n",
            " 12  PNK10   109479 non-null  int64  \n",
            " 13  PNK11   109479 non-null  int64  \n",
            " 14  PNK13   109479 non-null  int64  \n",
            " 15  PNK14   109479 non-null  int64  \n",
            " 16  PNK15   109479 non-null  int64  \n",
            " 17  PNK16   109479 non-null  int64  \n",
            " 18  PNK17   109479 non-null  int64  \n",
            " 19  PNK18   109479 non-null  int64  \n",
            "dtypes: float64(1), int64(19)\n",
            "memory usage: 16.7 MB\n"
          ]
        }
      ],
      "source": [
        "df.info()"
      ]
    },
    {
      "cell_type": "markdown",
      "metadata": {
        "id": "5WUfQUoMI5WK"
      },
      "source": [
        "## Preprocessing data for Classification"
      ]
    },
    {
      "cell_type": "markdown",
      "metadata": {
        "id": "5YkKlzxhLiF1"
      },
      "source": [
        "### Splitting data in X and Y"
      ]
    },
    {
      "cell_type": "code",
      "execution_count": null,
      "metadata": {
        "id": "geSN-rDBIpLR"
      },
      "outputs": [],
      "source": [
        "X = df.drop(['PNK11'], axis=1)\n",
        "Y = df[['PNK11']]"
      ]
    },
    {
      "cell_type": "code",
      "execution_count": null,
      "metadata": {
        "colab": {
          "base_uri": "https://localhost:8080/",
          "height": 423
        },
        "id": "VtzL4hS9vUk2",
        "outputId": "04cf020d-259e-48cb-97cb-447de24c366f"
      },
      "outputs": [
        {
          "output_type": "execute_result",
          "data": {
            "text/plain": [
              "           PSTV01     PSTV02  PSTV03  PSTV09  PSTV10  PSTV14     PSTV15  \\\n",
              "0       328537885  328537885    4168       0       6       6   9.436164   \n",
              "1       328537885  328537885    4168       0       6       6   9.436164   \n",
              "2       328537885  328537885    4168       0       6       6   9.436164   \n",
              "3        75453396   75453396    1169       9      56      56  10.173553   \n",
              "4        75453396   75453396    1169       9      56      56  10.173553   \n",
              "...           ...        ...     ...     ...     ...     ...        ...   \n",
              "109474  426032113  408166141    3224      27     448     312   2.280302   \n",
              "109475  426032113  408166141    3224      27     448     312   2.280302   \n",
              "109476  402406574  402406574    1173      21     441     440   5.218708   \n",
              "109477  402406574  402406574    1173      21     441     440   5.218708   \n",
              "109478  402406574  402406574    1173      21     441     440   5.218708   \n",
              "\n",
              "        PNK02  PNK03  PNK04  PNK05  PNK07  PNK10  PNK13  PNK14  PNK15  PNK16  \\\n",
              "0       18503   1937   1937   1931      6      7    388    813    951     16   \n",
              "1       18503   1937   1937   1931      6      7    388    813    951     16   \n",
              "2       18503   1937   1937   1931      6      7    388    813    951     16   \n",
              "3       13835   1651   1650   1644     54      7    424    874    272      1   \n",
              "4       13835   1651   1650   1644     54      7    424    874    272      1   \n",
              "...       ...    ...    ...    ...    ...    ...    ...    ...    ...    ...   \n",
              "109474   6204   1445   1444   1438    300      5    434    895    749     16   \n",
              "109475   6204   1445   1444   1438    300      5    434    895    749     16   \n",
              "109476  12868   1578   1577   1571    420      7    247    508    340      1   \n",
              "109477  12868   1578   1577   1571    420      7    247    508    340      1   \n",
              "109478  12868   1578   1577   1571    420      7    247    508    340      1   \n",
              "\n",
              "         PNK17   PNK18  \n",
              "0       700000  700000  \n",
              "1       700000  700000  \n",
              "2       700000  700000  \n",
              "3       161700  161700  \n",
              "4       161700  161700  \n",
              "...        ...     ...  \n",
              "109474  700000  700000  \n",
              "109475  700000  700000  \n",
              "109476   80000   80000  \n",
              "109477   80000   80000  \n",
              "109478   80000   80000  \n",
              "\n",
              "[109479 rows x 19 columns]"
            ],
            "text/html": [
              "\n",
              "  <div id=\"df-6f2a6b26-b80a-43b3-a6dd-b9096a9b777c\" class=\"colab-df-container\">\n",
              "    <div>\n",
              "<style scoped>\n",
              "    .dataframe tbody tr th:only-of-type {\n",
              "        vertical-align: middle;\n",
              "    }\n",
              "\n",
              "    .dataframe tbody tr th {\n",
              "        vertical-align: top;\n",
              "    }\n",
              "\n",
              "    .dataframe thead th {\n",
              "        text-align: right;\n",
              "    }\n",
              "</style>\n",
              "<table border=\"1\" class=\"dataframe\">\n",
              "  <thead>\n",
              "    <tr style=\"text-align: right;\">\n",
              "      <th></th>\n",
              "      <th>PSTV01</th>\n",
              "      <th>PSTV02</th>\n",
              "      <th>PSTV03</th>\n",
              "      <th>PSTV09</th>\n",
              "      <th>PSTV10</th>\n",
              "      <th>PSTV14</th>\n",
              "      <th>PSTV15</th>\n",
              "      <th>PNK02</th>\n",
              "      <th>PNK03</th>\n",
              "      <th>PNK04</th>\n",
              "      <th>PNK05</th>\n",
              "      <th>PNK07</th>\n",
              "      <th>PNK10</th>\n",
              "      <th>PNK13</th>\n",
              "      <th>PNK14</th>\n",
              "      <th>PNK15</th>\n",
              "      <th>PNK16</th>\n",
              "      <th>PNK17</th>\n",
              "      <th>PNK18</th>\n",
              "    </tr>\n",
              "  </thead>\n",
              "  <tbody>\n",
              "    <tr>\n",
              "      <th>0</th>\n",
              "      <td>328537885</td>\n",
              "      <td>328537885</td>\n",
              "      <td>4168</td>\n",
              "      <td>0</td>\n",
              "      <td>6</td>\n",
              "      <td>6</td>\n",
              "      <td>9.436164</td>\n",
              "      <td>18503</td>\n",
              "      <td>1937</td>\n",
              "      <td>1937</td>\n",
              "      <td>1931</td>\n",
              "      <td>6</td>\n",
              "      <td>7</td>\n",
              "      <td>388</td>\n",
              "      <td>813</td>\n",
              "      <td>951</td>\n",
              "      <td>16</td>\n",
              "      <td>700000</td>\n",
              "      <td>700000</td>\n",
              "    </tr>\n",
              "    <tr>\n",
              "      <th>1</th>\n",
              "      <td>328537885</td>\n",
              "      <td>328537885</td>\n",
              "      <td>4168</td>\n",
              "      <td>0</td>\n",
              "      <td>6</td>\n",
              "      <td>6</td>\n",
              "      <td>9.436164</td>\n",
              "      <td>18503</td>\n",
              "      <td>1937</td>\n",
              "      <td>1937</td>\n",
              "      <td>1931</td>\n",
              "      <td>6</td>\n",
              "      <td>7</td>\n",
              "      <td>388</td>\n",
              "      <td>813</td>\n",
              "      <td>951</td>\n",
              "      <td>16</td>\n",
              "      <td>700000</td>\n",
              "      <td>700000</td>\n",
              "    </tr>\n",
              "    <tr>\n",
              "      <th>2</th>\n",
              "      <td>328537885</td>\n",
              "      <td>328537885</td>\n",
              "      <td>4168</td>\n",
              "      <td>0</td>\n",
              "      <td>6</td>\n",
              "      <td>6</td>\n",
              "      <td>9.436164</td>\n",
              "      <td>18503</td>\n",
              "      <td>1937</td>\n",
              "      <td>1937</td>\n",
              "      <td>1931</td>\n",
              "      <td>6</td>\n",
              "      <td>7</td>\n",
              "      <td>388</td>\n",
              "      <td>813</td>\n",
              "      <td>951</td>\n",
              "      <td>16</td>\n",
              "      <td>700000</td>\n",
              "      <td>700000</td>\n",
              "    </tr>\n",
              "    <tr>\n",
              "      <th>3</th>\n",
              "      <td>75453396</td>\n",
              "      <td>75453396</td>\n",
              "      <td>1169</td>\n",
              "      <td>9</td>\n",
              "      <td>56</td>\n",
              "      <td>56</td>\n",
              "      <td>10.173553</td>\n",
              "      <td>13835</td>\n",
              "      <td>1651</td>\n",
              "      <td>1650</td>\n",
              "      <td>1644</td>\n",
              "      <td>54</td>\n",
              "      <td>7</td>\n",
              "      <td>424</td>\n",
              "      <td>874</td>\n",
              "      <td>272</td>\n",
              "      <td>1</td>\n",
              "      <td>161700</td>\n",
              "      <td>161700</td>\n",
              "    </tr>\n",
              "    <tr>\n",
              "      <th>4</th>\n",
              "      <td>75453396</td>\n",
              "      <td>75453396</td>\n",
              "      <td>1169</td>\n",
              "      <td>9</td>\n",
              "      <td>56</td>\n",
              "      <td>56</td>\n",
              "      <td>10.173553</td>\n",
              "      <td>13835</td>\n",
              "      <td>1651</td>\n",
              "      <td>1650</td>\n",
              "      <td>1644</td>\n",
              "      <td>54</td>\n",
              "      <td>7</td>\n",
              "      <td>424</td>\n",
              "      <td>874</td>\n",
              "      <td>272</td>\n",
              "      <td>1</td>\n",
              "      <td>161700</td>\n",
              "      <td>161700</td>\n",
              "    </tr>\n",
              "    <tr>\n",
              "      <th>...</th>\n",
              "      <td>...</td>\n",
              "      <td>...</td>\n",
              "      <td>...</td>\n",
              "      <td>...</td>\n",
              "      <td>...</td>\n",
              "      <td>...</td>\n",
              "      <td>...</td>\n",
              "      <td>...</td>\n",
              "      <td>...</td>\n",
              "      <td>...</td>\n",
              "      <td>...</td>\n",
              "      <td>...</td>\n",
              "      <td>...</td>\n",
              "      <td>...</td>\n",
              "      <td>...</td>\n",
              "      <td>...</td>\n",
              "      <td>...</td>\n",
              "      <td>...</td>\n",
              "      <td>...</td>\n",
              "    </tr>\n",
              "    <tr>\n",
              "      <th>109474</th>\n",
              "      <td>426032113</td>\n",
              "      <td>408166141</td>\n",
              "      <td>3224</td>\n",
              "      <td>27</td>\n",
              "      <td>448</td>\n",
              "      <td>312</td>\n",
              "      <td>2.280302</td>\n",
              "      <td>6204</td>\n",
              "      <td>1445</td>\n",
              "      <td>1444</td>\n",
              "      <td>1438</td>\n",
              "      <td>300</td>\n",
              "      <td>5</td>\n",
              "      <td>434</td>\n",
              "      <td>895</td>\n",
              "      <td>749</td>\n",
              "      <td>16</td>\n",
              "      <td>700000</td>\n",
              "      <td>700000</td>\n",
              "    </tr>\n",
              "    <tr>\n",
              "      <th>109475</th>\n",
              "      <td>426032113</td>\n",
              "      <td>408166141</td>\n",
              "      <td>3224</td>\n",
              "      <td>27</td>\n",
              "      <td>448</td>\n",
              "      <td>312</td>\n",
              "      <td>2.280302</td>\n",
              "      <td>6204</td>\n",
              "      <td>1445</td>\n",
              "      <td>1444</td>\n",
              "      <td>1438</td>\n",
              "      <td>300</td>\n",
              "      <td>5</td>\n",
              "      <td>434</td>\n",
              "      <td>895</td>\n",
              "      <td>749</td>\n",
              "      <td>16</td>\n",
              "      <td>700000</td>\n",
              "      <td>700000</td>\n",
              "    </tr>\n",
              "    <tr>\n",
              "      <th>109476</th>\n",
              "      <td>402406574</td>\n",
              "      <td>402406574</td>\n",
              "      <td>1173</td>\n",
              "      <td>21</td>\n",
              "      <td>441</td>\n",
              "      <td>440</td>\n",
              "      <td>5.218708</td>\n",
              "      <td>12868</td>\n",
              "      <td>1578</td>\n",
              "      <td>1577</td>\n",
              "      <td>1571</td>\n",
              "      <td>420</td>\n",
              "      <td>7</td>\n",
              "      <td>247</td>\n",
              "      <td>508</td>\n",
              "      <td>340</td>\n",
              "      <td>1</td>\n",
              "      <td>80000</td>\n",
              "      <td>80000</td>\n",
              "    </tr>\n",
              "    <tr>\n",
              "      <th>109477</th>\n",
              "      <td>402406574</td>\n",
              "      <td>402406574</td>\n",
              "      <td>1173</td>\n",
              "      <td>21</td>\n",
              "      <td>441</td>\n",
              "      <td>440</td>\n",
              "      <td>5.218708</td>\n",
              "      <td>12868</td>\n",
              "      <td>1578</td>\n",
              "      <td>1577</td>\n",
              "      <td>1571</td>\n",
              "      <td>420</td>\n",
              "      <td>7</td>\n",
              "      <td>247</td>\n",
              "      <td>508</td>\n",
              "      <td>340</td>\n",
              "      <td>1</td>\n",
              "      <td>80000</td>\n",
              "      <td>80000</td>\n",
              "    </tr>\n",
              "    <tr>\n",
              "      <th>109478</th>\n",
              "      <td>402406574</td>\n",
              "      <td>402406574</td>\n",
              "      <td>1173</td>\n",
              "      <td>21</td>\n",
              "      <td>441</td>\n",
              "      <td>440</td>\n",
              "      <td>5.218708</td>\n",
              "      <td>12868</td>\n",
              "      <td>1578</td>\n",
              "      <td>1577</td>\n",
              "      <td>1571</td>\n",
              "      <td>420</td>\n",
              "      <td>7</td>\n",
              "      <td>247</td>\n",
              "      <td>508</td>\n",
              "      <td>340</td>\n",
              "      <td>1</td>\n",
              "      <td>80000</td>\n",
              "      <td>80000</td>\n",
              "    </tr>\n",
              "  </tbody>\n",
              "</table>\n",
              "<p>109479 rows × 19 columns</p>\n",
              "</div>\n",
              "    <div class=\"colab-df-buttons\">\n",
              "\n",
              "  <div class=\"colab-df-container\">\n",
              "    <button class=\"colab-df-convert\" onclick=\"convertToInteractive('df-6f2a6b26-b80a-43b3-a6dd-b9096a9b777c')\"\n",
              "            title=\"Convert this dataframe to an interactive table.\"\n",
              "            style=\"display:none;\">\n",
              "\n",
              "  <svg xmlns=\"http://www.w3.org/2000/svg\" height=\"24px\" viewBox=\"0 -960 960 960\">\n",
              "    <path d=\"M120-120v-720h720v720H120Zm60-500h600v-160H180v160Zm220 220h160v-160H400v160Zm0 220h160v-160H400v160ZM180-400h160v-160H180v160Zm440 0h160v-160H620v160ZM180-180h160v-160H180v160Zm440 0h160v-160H620v160Z\"/>\n",
              "  </svg>\n",
              "    </button>\n",
              "\n",
              "  <style>\n",
              "    .colab-df-container {\n",
              "      display:flex;\n",
              "      gap: 12px;\n",
              "    }\n",
              "\n",
              "    .colab-df-convert {\n",
              "      background-color: #E8F0FE;\n",
              "      border: none;\n",
              "      border-radius: 50%;\n",
              "      cursor: pointer;\n",
              "      display: none;\n",
              "      fill: #1967D2;\n",
              "      height: 32px;\n",
              "      padding: 0 0 0 0;\n",
              "      width: 32px;\n",
              "    }\n",
              "\n",
              "    .colab-df-convert:hover {\n",
              "      background-color: #E2EBFA;\n",
              "      box-shadow: 0px 1px 2px rgba(60, 64, 67, 0.3), 0px 1px 3px 1px rgba(60, 64, 67, 0.15);\n",
              "      fill: #174EA6;\n",
              "    }\n",
              "\n",
              "    .colab-df-buttons div {\n",
              "      margin-bottom: 4px;\n",
              "    }\n",
              "\n",
              "    [theme=dark] .colab-df-convert {\n",
              "      background-color: #3B4455;\n",
              "      fill: #D2E3FC;\n",
              "    }\n",
              "\n",
              "    [theme=dark] .colab-df-convert:hover {\n",
              "      background-color: #434B5C;\n",
              "      box-shadow: 0px 1px 3px 1px rgba(0, 0, 0, 0.15);\n",
              "      filter: drop-shadow(0px 1px 2px rgba(0, 0, 0, 0.3));\n",
              "      fill: #FFFFFF;\n",
              "    }\n",
              "  </style>\n",
              "\n",
              "    <script>\n",
              "      const buttonEl =\n",
              "        document.querySelector('#df-6f2a6b26-b80a-43b3-a6dd-b9096a9b777c button.colab-df-convert');\n",
              "      buttonEl.style.display =\n",
              "        google.colab.kernel.accessAllowed ? 'block' : 'none';\n",
              "\n",
              "      async function convertToInteractive(key) {\n",
              "        const element = document.querySelector('#df-6f2a6b26-b80a-43b3-a6dd-b9096a9b777c');\n",
              "        const dataTable =\n",
              "          await google.colab.kernel.invokeFunction('convertToInteractive',\n",
              "                                                    [key], {});\n",
              "        if (!dataTable) return;\n",
              "\n",
              "        const docLinkHtml = 'Like what you see? Visit the ' +\n",
              "          '<a target=\"_blank\" href=https://colab.research.google.com/notebooks/data_table.ipynb>data table notebook</a>'\n",
              "          + ' to learn more about interactive tables.';\n",
              "        element.innerHTML = '';\n",
              "        dataTable['output_type'] = 'display_data';\n",
              "        await google.colab.output.renderOutput(dataTable, element);\n",
              "        const docLink = document.createElement('div');\n",
              "        docLink.innerHTML = docLinkHtml;\n",
              "        element.appendChild(docLink);\n",
              "      }\n",
              "    </script>\n",
              "  </div>\n",
              "\n",
              "\n",
              "<div id=\"df-1427551f-a7ff-42b4-b973-64b9cf4ab5bb\">\n",
              "  <button class=\"colab-df-quickchart\" onclick=\"quickchart('df-1427551f-a7ff-42b4-b973-64b9cf4ab5bb')\"\n",
              "            title=\"Suggest charts\"\n",
              "            style=\"display:none;\">\n",
              "\n",
              "<svg xmlns=\"http://www.w3.org/2000/svg\" height=\"24px\"viewBox=\"0 0 24 24\"\n",
              "     width=\"24px\">\n",
              "    <g>\n",
              "        <path d=\"M19 3H5c-1.1 0-2 .9-2 2v14c0 1.1.9 2 2 2h14c1.1 0 2-.9 2-2V5c0-1.1-.9-2-2-2zM9 17H7v-7h2v7zm4 0h-2V7h2v10zm4 0h-2v-4h2v4z\"/>\n",
              "    </g>\n",
              "</svg>\n",
              "  </button>\n",
              "\n",
              "<style>\n",
              "  .colab-df-quickchart {\n",
              "      --bg-color: #E8F0FE;\n",
              "      --fill-color: #1967D2;\n",
              "      --hover-bg-color: #E2EBFA;\n",
              "      --hover-fill-color: #174EA6;\n",
              "      --disabled-fill-color: #AAA;\n",
              "      --disabled-bg-color: #DDD;\n",
              "  }\n",
              "\n",
              "  [theme=dark] .colab-df-quickchart {\n",
              "      --bg-color: #3B4455;\n",
              "      --fill-color: #D2E3FC;\n",
              "      --hover-bg-color: #434B5C;\n",
              "      --hover-fill-color: #FFFFFF;\n",
              "      --disabled-bg-color: #3B4455;\n",
              "      --disabled-fill-color: #666;\n",
              "  }\n",
              "\n",
              "  .colab-df-quickchart {\n",
              "    background-color: var(--bg-color);\n",
              "    border: none;\n",
              "    border-radius: 50%;\n",
              "    cursor: pointer;\n",
              "    display: none;\n",
              "    fill: var(--fill-color);\n",
              "    height: 32px;\n",
              "    padding: 0;\n",
              "    width: 32px;\n",
              "  }\n",
              "\n",
              "  .colab-df-quickchart:hover {\n",
              "    background-color: var(--hover-bg-color);\n",
              "    box-shadow: 0 1px 2px rgba(60, 64, 67, 0.3), 0 1px 3px 1px rgba(60, 64, 67, 0.15);\n",
              "    fill: var(--button-hover-fill-color);\n",
              "  }\n",
              "\n",
              "  .colab-df-quickchart-complete:disabled,\n",
              "  .colab-df-quickchart-complete:disabled:hover {\n",
              "    background-color: var(--disabled-bg-color);\n",
              "    fill: var(--disabled-fill-color);\n",
              "    box-shadow: none;\n",
              "  }\n",
              "\n",
              "  .colab-df-spinner {\n",
              "    border: 2px solid var(--fill-color);\n",
              "    border-color: transparent;\n",
              "    border-bottom-color: var(--fill-color);\n",
              "    animation:\n",
              "      spin 1s steps(1) infinite;\n",
              "  }\n",
              "\n",
              "  @keyframes spin {\n",
              "    0% {\n",
              "      border-color: transparent;\n",
              "      border-bottom-color: var(--fill-color);\n",
              "      border-left-color: var(--fill-color);\n",
              "    }\n",
              "    20% {\n",
              "      border-color: transparent;\n",
              "      border-left-color: var(--fill-color);\n",
              "      border-top-color: var(--fill-color);\n",
              "    }\n",
              "    30% {\n",
              "      border-color: transparent;\n",
              "      border-left-color: var(--fill-color);\n",
              "      border-top-color: var(--fill-color);\n",
              "      border-right-color: var(--fill-color);\n",
              "    }\n",
              "    40% {\n",
              "      border-color: transparent;\n",
              "      border-right-color: var(--fill-color);\n",
              "      border-top-color: var(--fill-color);\n",
              "    }\n",
              "    60% {\n",
              "      border-color: transparent;\n",
              "      border-right-color: var(--fill-color);\n",
              "    }\n",
              "    80% {\n",
              "      border-color: transparent;\n",
              "      border-right-color: var(--fill-color);\n",
              "      border-bottom-color: var(--fill-color);\n",
              "    }\n",
              "    90% {\n",
              "      border-color: transparent;\n",
              "      border-bottom-color: var(--fill-color);\n",
              "    }\n",
              "  }\n",
              "</style>\n",
              "\n",
              "  <script>\n",
              "    async function quickchart(key) {\n",
              "      const quickchartButtonEl =\n",
              "        document.querySelector('#' + key + ' button');\n",
              "      quickchartButtonEl.disabled = true;  // To prevent multiple clicks.\n",
              "      quickchartButtonEl.classList.add('colab-df-spinner');\n",
              "      try {\n",
              "        const charts = await google.colab.kernel.invokeFunction(\n",
              "            'suggestCharts', [key], {});\n",
              "      } catch (error) {\n",
              "        console.error('Error during call to suggestCharts:', error);\n",
              "      }\n",
              "      quickchartButtonEl.classList.remove('colab-df-spinner');\n",
              "      quickchartButtonEl.classList.add('colab-df-quickchart-complete');\n",
              "    }\n",
              "    (() => {\n",
              "      let quickchartButtonEl =\n",
              "        document.querySelector('#df-1427551f-a7ff-42b4-b973-64b9cf4ab5bb button');\n",
              "      quickchartButtonEl.style.display =\n",
              "        google.colab.kernel.accessAllowed ? 'block' : 'none';\n",
              "    })();\n",
              "  </script>\n",
              "</div>\n",
              "    </div>\n",
              "  </div>\n"
            ]
          },
          "metadata": {},
          "execution_count": 50
        }
      ],
      "source": [
        "X"
      ]
    },
    {
      "cell_type": "code",
      "source": [
        "Y"
      ],
      "metadata": {
        "colab": {
          "base_uri": "https://localhost:8080/",
          "height": 423
        },
        "id": "qy9CI6w8KfCk",
        "outputId": "31a201db-b0a1-4940-de3a-11a0fdf46296"
      },
      "execution_count": null,
      "outputs": [
        {
          "output_type": "execute_result",
          "data": {
            "text/plain": [
              "        PNK11\n",
              "0           2\n",
              "1           2\n",
              "2           2\n",
              "3           1\n",
              "4           1\n",
              "...       ...\n",
              "109474      2\n",
              "109475      2\n",
              "109476      1\n",
              "109477      1\n",
              "109478      1\n",
              "\n",
              "[109479 rows x 1 columns]"
            ],
            "text/html": [
              "\n",
              "  <div id=\"df-30032e33-72da-4608-aaf7-d0f95dcda228\" class=\"colab-df-container\">\n",
              "    <div>\n",
              "<style scoped>\n",
              "    .dataframe tbody tr th:only-of-type {\n",
              "        vertical-align: middle;\n",
              "    }\n",
              "\n",
              "    .dataframe tbody tr th {\n",
              "        vertical-align: top;\n",
              "    }\n",
              "\n",
              "    .dataframe thead th {\n",
              "        text-align: right;\n",
              "    }\n",
              "</style>\n",
              "<table border=\"1\" class=\"dataframe\">\n",
              "  <thead>\n",
              "    <tr style=\"text-align: right;\">\n",
              "      <th></th>\n",
              "      <th>PNK11</th>\n",
              "    </tr>\n",
              "  </thead>\n",
              "  <tbody>\n",
              "    <tr>\n",
              "      <th>0</th>\n",
              "      <td>2</td>\n",
              "    </tr>\n",
              "    <tr>\n",
              "      <th>1</th>\n",
              "      <td>2</td>\n",
              "    </tr>\n",
              "    <tr>\n",
              "      <th>2</th>\n",
              "      <td>2</td>\n",
              "    </tr>\n",
              "    <tr>\n",
              "      <th>3</th>\n",
              "      <td>1</td>\n",
              "    </tr>\n",
              "    <tr>\n",
              "      <th>4</th>\n",
              "      <td>1</td>\n",
              "    </tr>\n",
              "    <tr>\n",
              "      <th>...</th>\n",
              "      <td>...</td>\n",
              "    </tr>\n",
              "    <tr>\n",
              "      <th>109474</th>\n",
              "      <td>2</td>\n",
              "    </tr>\n",
              "    <tr>\n",
              "      <th>109475</th>\n",
              "      <td>2</td>\n",
              "    </tr>\n",
              "    <tr>\n",
              "      <th>109476</th>\n",
              "      <td>1</td>\n",
              "    </tr>\n",
              "    <tr>\n",
              "      <th>109477</th>\n",
              "      <td>1</td>\n",
              "    </tr>\n",
              "    <tr>\n",
              "      <th>109478</th>\n",
              "      <td>1</td>\n",
              "    </tr>\n",
              "  </tbody>\n",
              "</table>\n",
              "<p>109479 rows × 1 columns</p>\n",
              "</div>\n",
              "    <div class=\"colab-df-buttons\">\n",
              "\n",
              "  <div class=\"colab-df-container\">\n",
              "    <button class=\"colab-df-convert\" onclick=\"convertToInteractive('df-30032e33-72da-4608-aaf7-d0f95dcda228')\"\n",
              "            title=\"Convert this dataframe to an interactive table.\"\n",
              "            style=\"display:none;\">\n",
              "\n",
              "  <svg xmlns=\"http://www.w3.org/2000/svg\" height=\"24px\" viewBox=\"0 -960 960 960\">\n",
              "    <path d=\"M120-120v-720h720v720H120Zm60-500h600v-160H180v160Zm220 220h160v-160H400v160Zm0 220h160v-160H400v160ZM180-400h160v-160H180v160Zm440 0h160v-160H620v160ZM180-180h160v-160H180v160Zm440 0h160v-160H620v160Z\"/>\n",
              "  </svg>\n",
              "    </button>\n",
              "\n",
              "  <style>\n",
              "    .colab-df-container {\n",
              "      display:flex;\n",
              "      gap: 12px;\n",
              "    }\n",
              "\n",
              "    .colab-df-convert {\n",
              "      background-color: #E8F0FE;\n",
              "      border: none;\n",
              "      border-radius: 50%;\n",
              "      cursor: pointer;\n",
              "      display: none;\n",
              "      fill: #1967D2;\n",
              "      height: 32px;\n",
              "      padding: 0 0 0 0;\n",
              "      width: 32px;\n",
              "    }\n",
              "\n",
              "    .colab-df-convert:hover {\n",
              "      background-color: #E2EBFA;\n",
              "      box-shadow: 0px 1px 2px rgba(60, 64, 67, 0.3), 0px 1px 3px 1px rgba(60, 64, 67, 0.15);\n",
              "      fill: #174EA6;\n",
              "    }\n",
              "\n",
              "    .colab-df-buttons div {\n",
              "      margin-bottom: 4px;\n",
              "    }\n",
              "\n",
              "    [theme=dark] .colab-df-convert {\n",
              "      background-color: #3B4455;\n",
              "      fill: #D2E3FC;\n",
              "    }\n",
              "\n",
              "    [theme=dark] .colab-df-convert:hover {\n",
              "      background-color: #434B5C;\n",
              "      box-shadow: 0px 1px 3px 1px rgba(0, 0, 0, 0.15);\n",
              "      filter: drop-shadow(0px 1px 2px rgba(0, 0, 0, 0.3));\n",
              "      fill: #FFFFFF;\n",
              "    }\n",
              "  </style>\n",
              "\n",
              "    <script>\n",
              "      const buttonEl =\n",
              "        document.querySelector('#df-30032e33-72da-4608-aaf7-d0f95dcda228 button.colab-df-convert');\n",
              "      buttonEl.style.display =\n",
              "        google.colab.kernel.accessAllowed ? 'block' : 'none';\n",
              "\n",
              "      async function convertToInteractive(key) {\n",
              "        const element = document.querySelector('#df-30032e33-72da-4608-aaf7-d0f95dcda228');\n",
              "        const dataTable =\n",
              "          await google.colab.kernel.invokeFunction('convertToInteractive',\n",
              "                                                    [key], {});\n",
              "        if (!dataTable) return;\n",
              "\n",
              "        const docLinkHtml = 'Like what you see? Visit the ' +\n",
              "          '<a target=\"_blank\" href=https://colab.research.google.com/notebooks/data_table.ipynb>data table notebook</a>'\n",
              "          + ' to learn more about interactive tables.';\n",
              "        element.innerHTML = '';\n",
              "        dataTable['output_type'] = 'display_data';\n",
              "        await google.colab.output.renderOutput(dataTable, element);\n",
              "        const docLink = document.createElement('div');\n",
              "        docLink.innerHTML = docLinkHtml;\n",
              "        element.appendChild(docLink);\n",
              "      }\n",
              "    </script>\n",
              "  </div>\n",
              "\n",
              "\n",
              "<div id=\"df-4993a32a-60f5-4531-a02a-a45344488ed7\">\n",
              "  <button class=\"colab-df-quickchart\" onclick=\"quickchart('df-4993a32a-60f5-4531-a02a-a45344488ed7')\"\n",
              "            title=\"Suggest charts\"\n",
              "            style=\"display:none;\">\n",
              "\n",
              "<svg xmlns=\"http://www.w3.org/2000/svg\" height=\"24px\"viewBox=\"0 0 24 24\"\n",
              "     width=\"24px\">\n",
              "    <g>\n",
              "        <path d=\"M19 3H5c-1.1 0-2 .9-2 2v14c0 1.1.9 2 2 2h14c1.1 0 2-.9 2-2V5c0-1.1-.9-2-2-2zM9 17H7v-7h2v7zm4 0h-2V7h2v10zm4 0h-2v-4h2v4z\"/>\n",
              "    </g>\n",
              "</svg>\n",
              "  </button>\n",
              "\n",
              "<style>\n",
              "  .colab-df-quickchart {\n",
              "      --bg-color: #E8F0FE;\n",
              "      --fill-color: #1967D2;\n",
              "      --hover-bg-color: #E2EBFA;\n",
              "      --hover-fill-color: #174EA6;\n",
              "      --disabled-fill-color: #AAA;\n",
              "      --disabled-bg-color: #DDD;\n",
              "  }\n",
              "\n",
              "  [theme=dark] .colab-df-quickchart {\n",
              "      --bg-color: #3B4455;\n",
              "      --fill-color: #D2E3FC;\n",
              "      --hover-bg-color: #434B5C;\n",
              "      --hover-fill-color: #FFFFFF;\n",
              "      --disabled-bg-color: #3B4455;\n",
              "      --disabled-fill-color: #666;\n",
              "  }\n",
              "\n",
              "  .colab-df-quickchart {\n",
              "    background-color: var(--bg-color);\n",
              "    border: none;\n",
              "    border-radius: 50%;\n",
              "    cursor: pointer;\n",
              "    display: none;\n",
              "    fill: var(--fill-color);\n",
              "    height: 32px;\n",
              "    padding: 0;\n",
              "    width: 32px;\n",
              "  }\n",
              "\n",
              "  .colab-df-quickchart:hover {\n",
              "    background-color: var(--hover-bg-color);\n",
              "    box-shadow: 0 1px 2px rgba(60, 64, 67, 0.3), 0 1px 3px 1px rgba(60, 64, 67, 0.15);\n",
              "    fill: var(--button-hover-fill-color);\n",
              "  }\n",
              "\n",
              "  .colab-df-quickchart-complete:disabled,\n",
              "  .colab-df-quickchart-complete:disabled:hover {\n",
              "    background-color: var(--disabled-bg-color);\n",
              "    fill: var(--disabled-fill-color);\n",
              "    box-shadow: none;\n",
              "  }\n",
              "\n",
              "  .colab-df-spinner {\n",
              "    border: 2px solid var(--fill-color);\n",
              "    border-color: transparent;\n",
              "    border-bottom-color: var(--fill-color);\n",
              "    animation:\n",
              "      spin 1s steps(1) infinite;\n",
              "  }\n",
              "\n",
              "  @keyframes spin {\n",
              "    0% {\n",
              "      border-color: transparent;\n",
              "      border-bottom-color: var(--fill-color);\n",
              "      border-left-color: var(--fill-color);\n",
              "    }\n",
              "    20% {\n",
              "      border-color: transparent;\n",
              "      border-left-color: var(--fill-color);\n",
              "      border-top-color: var(--fill-color);\n",
              "    }\n",
              "    30% {\n",
              "      border-color: transparent;\n",
              "      border-left-color: var(--fill-color);\n",
              "      border-top-color: var(--fill-color);\n",
              "      border-right-color: var(--fill-color);\n",
              "    }\n",
              "    40% {\n",
              "      border-color: transparent;\n",
              "      border-right-color: var(--fill-color);\n",
              "      border-top-color: var(--fill-color);\n",
              "    }\n",
              "    60% {\n",
              "      border-color: transparent;\n",
              "      border-right-color: var(--fill-color);\n",
              "    }\n",
              "    80% {\n",
              "      border-color: transparent;\n",
              "      border-right-color: var(--fill-color);\n",
              "      border-bottom-color: var(--fill-color);\n",
              "    }\n",
              "    90% {\n",
              "      border-color: transparent;\n",
              "      border-bottom-color: var(--fill-color);\n",
              "    }\n",
              "  }\n",
              "</style>\n",
              "\n",
              "  <script>\n",
              "    async function quickchart(key) {\n",
              "      const quickchartButtonEl =\n",
              "        document.querySelector('#' + key + ' button');\n",
              "      quickchartButtonEl.disabled = true;  // To prevent multiple clicks.\n",
              "      quickchartButtonEl.classList.add('colab-df-spinner');\n",
              "      try {\n",
              "        const charts = await google.colab.kernel.invokeFunction(\n",
              "            'suggestCharts', [key], {});\n",
              "      } catch (error) {\n",
              "        console.error('Error during call to suggestCharts:', error);\n",
              "      }\n",
              "      quickchartButtonEl.classList.remove('colab-df-spinner');\n",
              "      quickchartButtonEl.classList.add('colab-df-quickchart-complete');\n",
              "    }\n",
              "    (() => {\n",
              "      let quickchartButtonEl =\n",
              "        document.querySelector('#df-4993a32a-60f5-4531-a02a-a45344488ed7 button');\n",
              "      quickchartButtonEl.style.display =\n",
              "        google.colab.kernel.accessAllowed ? 'block' : 'none';\n",
              "    })();\n",
              "  </script>\n",
              "</div>\n",
              "    </div>\n",
              "  </div>\n"
            ]
          },
          "metadata": {},
          "execution_count": 51
        }
      ]
    },
    {
      "cell_type": "markdown",
      "metadata": {
        "id": "UUM3yv3xJQ--"
      },
      "source": [
        "### Splitting data in train and test"
      ]
    },
    {
      "cell_type": "code",
      "execution_count": null,
      "metadata": {
        "colab": {
          "base_uri": "https://localhost:8080/"
        },
        "id": "GccRLvBJJZxu",
        "outputId": "f48f034e-be47-4e8b-d166-f2c365adc179"
      },
      "outputs": [
        {
          "output_type": "stream",
          "name": "stdout",
          "text": [
            "X_train (83751, 19)\n",
            "X_val (14780, 19)\n",
            "X_test (10948, 19)\n"
          ]
        }
      ],
      "source": [
        "X_train, X_test, Y_train, Y_test = train_test_split(X, Y, test_size=.10)\n",
        "X_train, X_val, Y_train, Y_val = train_test_split(X_train, Y_train, test_size=.15)\n",
        "print('X_train', X_train.shape)\n",
        "print('X_val', X_val.shape)\n",
        "print('X_test', X_test.shape)"
      ]
    },
    {
      "cell_type": "code",
      "execution_count": null,
      "metadata": {
        "id": "TZ27D5ZJsOA2"
      },
      "outputs": [],
      "source": [
        "# X_train, X_test, Y_train, Y_test = train_test_split(X, Y, test_size = 0.25)"
      ]
    },
    {
      "cell_type": "code",
      "execution_count": null,
      "metadata": {
        "id": "JveXLn4BuXam"
      },
      "outputs": [],
      "source": [
        "#print(f\"Shape of X_train is: {X_train.shape}\")\n",
        "#print(f\"Shape of Y_train is: {Y_train.shape}\\n\")\n",
        "#print(f\"Shape of X_test is: {X_test.shape}\")\n",
        "#print(f\"Shape of Y_test is: {Y_test.shape}\")"
      ]
    },
    {
      "cell_type": "markdown",
      "metadata": {
        "id": "-wcMErEgLxC7"
      },
      "source": [
        "## Creating ANN Model"
      ]
    },
    {
      "cell_type": "code",
      "execution_count": null,
      "metadata": {
        "id": "jdXeo9SButzT"
      },
      "outputs": [],
      "source": [
        "from keras.models import Sequential\n",
        "from keras.layers import Dense\n",
        "from keras.optimizers import Adam"
      ]
    },
    {
      "cell_type": "code",
      "execution_count": null,
      "metadata": {
        "id": "saaxRyxmI-n_"
      },
      "outputs": [],
      "source": [
        "from sklearn.neural_network import MLPClassifier\n",
        "\n",
        "mlp = MLPClassifier(hidden_layer_sizes=(64, ), activation='relu', max_iter=1000, epsilon=1e-08)"
      ]
    },
    {
      "cell_type": "code",
      "execution_count": null,
      "metadata": {
        "colab": {
          "base_uri": "https://localhost:8080/"
        },
        "id": "YfIG1ZkZJUrz",
        "outputId": "d7c83ed4-e6be-4e3f-e5ff-2a722f122f7c"
      },
      "outputs": [
        {
          "output_type": "stream",
          "name": "stderr",
          "text": [
            "/usr/local/lib/python3.10/dist-packages/sklearn/neural_network/_multilayer_perceptron.py:1098: DataConversionWarning: A column-vector y was passed when a 1d array was expected. Please change the shape of y to (n_samples, ), for example using ravel().\n",
            "  y = column_or_1d(y, warn=True)\n"
          ]
        },
        {
          "output_type": "stream",
          "name": "stdout",
          "text": [
            "Akurasi Validasi Training ANN: 0.7554803788903924\n"
          ]
        }
      ],
      "source": [
        "from sklearn.metrics import accuracy_score\n",
        "\n",
        "mlp.fit(X_train, Y_train)\n",
        "prediksi_val = mlp.predict(X_val)\n",
        "acc_val = accuracy_score(Y_val, prediksi_val)\n",
        "print('Akurasi Validasi Training ANN:', acc_val)"
      ]
    },
    {
      "cell_type": "code",
      "execution_count": null,
      "metadata": {
        "colab": {
          "base_uri": "https://localhost:8080/"
        },
        "id": "2PPknQk3JW7H",
        "outputId": "b1930d12-1641-43cb-b37d-73b5528c30dd"
      },
      "outputs": [
        {
          "output_type": "stream",
          "name": "stdout",
          "text": [
            "Akurasi Testing ANN: 0.7580379978078188\n"
          ]
        }
      ],
      "source": [
        "prediksi_test = mlp.predict(X_test)\n",
        "acc_test = accuracy_score(Y_test, prediksi_test)\n",
        "print('Akurasi Testing ANN:', acc_test)"
      ]
    },
    {
      "cell_type": "code",
      "execution_count": null,
      "metadata": {
        "id": "QP2g60D5Jlyz"
      },
      "outputs": [],
      "source": [
        "from keras.utils import to_categorical\n",
        "\n",
        "Y_train = to_categorical(Y_train, 3)\n",
        "Y_val = to_categorical(Y_val,3)\n",
        "Y_test = to_categorical(Y_test, 3)"
      ]
    },
    {
      "cell_type": "code",
      "execution_count": null,
      "metadata": {
        "id": "ecBk6-srJpy1"
      },
      "outputs": [],
      "source": [
        "from keras.models import Sequential\n",
        "from keras.layers import Flatten, Dense, Activation"
      ]
    },
    {
      "cell_type": "code",
      "execution_count": null,
      "metadata": {
        "id": "28OwQPNsJq_G"
      },
      "outputs": [],
      "source": [
        "classifier = Sequential()\n",
        "classifier.add(Dense(64, activation='relu'))\n",
        "classifier.add(Dense(3,activation='softmax'))"
      ]
    },
    {
      "cell_type": "code",
      "execution_count": null,
      "metadata": {
        "id": "DlskV5IWJtpx"
      },
      "outputs": [],
      "source": [
        "classifier.compile(optimizer='adam', loss='categorical_crossentropy', metrics=['acc'])"
      ]
    },
    {
      "cell_type": "code",
      "execution_count": null,
      "metadata": {
        "colab": {
          "base_uri": "https://localhost:8080/"
        },
        "id": "duDmY1Y4JvDa",
        "outputId": "4e9a829b-1298-4eea-902d-a41067cbc25a"
      },
      "outputs": [
        {
          "output_type": "stream",
          "name": "stdout",
          "text": [
            "Epoch 1/10\n",
            "16751/16751 [==============================] - 37s 2ms/step - loss: 493238.2812 - acc: 0.4798 - val_loss: 95844.9141 - val_acc: 0.5903\n",
            "Epoch 2/10\n",
            "16751/16751 [==============================] - 36s 2ms/step - loss: 175350.1094 - acc: 0.5344 - val_loss: 110457.2266 - val_acc: 0.5666\n",
            "Epoch 3/10\n",
            "16751/16751 [==============================] - 35s 2ms/step - loss: 34235.4219 - acc: 0.5598 - val_loss: 108.3159 - val_acc: 0.5131\n",
            "Epoch 4/10\n",
            "16751/16751 [==============================] - 35s 2ms/step - loss: 28.7627 - acc: 0.5244 - val_loss: 3.5042 - val_acc: 0.5072\n",
            "Epoch 5/10\n",
            "16751/16751 [==============================] - 35s 2ms/step - loss: 4.9780 - acc: 0.5233 - val_loss: 1.8972 - val_acc: 0.5072\n",
            "Epoch 6/10\n",
            "16751/16751 [==============================] - 35s 2ms/step - loss: 1.4360 - acc: 0.5233 - val_loss: 1.0750 - val_acc: 0.5072\n",
            "Epoch 7/10\n",
            "16751/16751 [==============================] - 34s 2ms/step - loss: 1.0618 - acc: 0.5233 - val_loss: 1.0758 - val_acc: 0.5072\n",
            "Epoch 8/10\n",
            "16751/16751 [==============================] - 36s 2ms/step - loss: 0.9695 - acc: 0.5233 - val_loss: 1.0762 - val_acc: 0.5072\n",
            "Epoch 9/10\n",
            "16751/16751 [==============================] - 35s 2ms/step - loss: 0.9696 - acc: 0.5233 - val_loss: 1.0751 - val_acc: 0.5072\n",
            "Epoch 10/10\n",
            "16751/16751 [==============================] - 34s 2ms/step - loss: 0.9695 - acc: 0.5233 - val_loss: 1.0751 - val_acc: 0.5072\n"
          ]
        }
      ],
      "source": [
        "result = classifier.fit(X_train, Y_train, epochs=10,batch_size=5, validation_data=(X_val,Y_val))"
      ]
    },
    {
      "cell_type": "code",
      "execution_count": null,
      "metadata": {
        "colab": {
          "base_uri": "https://localhost:8080/"
        },
        "id": "EhgvKkbDJwng",
        "outputId": "4d0f4297-7e11-4966-b2b5-9e34d3b42481"
      },
      "outputs": [
        {
          "output_type": "stream",
          "name": "stdout",
          "text": [
            "Model: \"sequential\"\n",
            "_________________________________________________________________\n",
            " Layer (type)                Output Shape              Param #   \n",
            "=================================================================\n",
            " dense (Dense)               (None, 64)                1280      \n",
            "                                                                 \n",
            " dense_1 (Dense)             (None, 3)                 195       \n",
            "                                                                 \n",
            "=================================================================\n",
            "Total params: 1475 (5.76 KB)\n",
            "Trainable params: 1475 (5.76 KB)\n",
            "Non-trainable params: 0 (0.00 Byte)\n",
            "_________________________________________________________________\n"
          ]
        }
      ],
      "source": [
        "classifier.summary()"
      ]
    },
    {
      "cell_type": "code",
      "execution_count": null,
      "metadata": {
        "colab": {
          "base_uri": "https://localhost:8080/"
        },
        "id": "mx_OQ8iiL1ab",
        "outputId": "fae7b4a1-3130-4a0a-e55f-44bf2970b287"
      },
      "outputs": [
        {
          "output_type": "stream",
          "name": "stdout",
          "text": [
            "343/343 [==============================] - 1s 2ms/step - loss: 1.2290 - acc: 0.5164\n",
            "Akurasi Testing ANN: 0.5164413452148438\n"
          ]
        }
      ],
      "source": [
        "from sklearn.metrics import confusion_matrix\n",
        "\n",
        "loss, accuracy = classifier.evaluate(X_test, Y_test)\n",
        "print('Akurasi Testing ANN:', accuracy)"
      ]
    },
    {
      "cell_type": "code",
      "source": [
        "from keras.utils import to_categorical\n",
        "\n",
        "Y_test_one_hot = to_categorical(Y_test, num_classes=3)"
      ],
      "metadata": {
        "id": "qHwoMgO5jQvB"
      },
      "execution_count": null,
      "outputs": []
    },
    {
      "cell_type": "markdown",
      "source": [
        "## Evaluation Model"
      ],
      "metadata": {
        "id": "kQsJ9oqW3Mdt"
      }
    },
    {
      "cell_type": "code",
      "source": [
        "from sklearn.metrics import confusion_matrix, accuracy_score, classification_report\n",
        "\n",
        "# Your other import statements and code here...\n",
        "\n",
        "mlp.fit(X_train, Y_train)\n",
        "prediksi_val = mlp.predict(X_val)\n",
        "\n",
        "# Menghitung akurasi\n",
        "acc_val = accuracy_score(Y_val, prediksi_val)\n",
        "print('Akurasi Validasi Training ANN:', acc_val)\n",
        "\n",
        "# Menghitung confusion matrix\n",
        "cm = confusion_matrix(Y_val, prediksi_val)\n",
        "print('Confusion Matrix:')\n",
        "print(cm)\n",
        "\n",
        "# Menampilkan classification report\n",
        "print('Classification Report:')\n",
        "print(classification_report(Y_val, prediksi_val))"
      ],
      "metadata": {
        "colab": {
          "base_uri": "https://localhost:8080/"
        },
        "id": "AP5X3c7lNd4N",
        "outputId": "69ffb6f3-f67b-4b59-a9d6-45666dedc187"
      },
      "execution_count": null,
      "outputs": [
        {
          "output_type": "stream",
          "name": "stderr",
          "text": [
            "/usr/local/lib/python3.10/dist-packages/sklearn/neural_network/_multilayer_perceptron.py:1098: DataConversionWarning: A column-vector y was passed when a 1d array was expected. Please change the shape of y to (n_samples, ), for example using ravel().\n",
            "  y = column_or_1d(y, warn=True)\n"
          ]
        },
        {
          "output_type": "stream",
          "name": "stdout",
          "text": [
            "Akurasi Validasi Training ANN: 0.7317320703653586\n",
            "Confusion Matrix:\n",
            "[[5952 1422  118]\n",
            " [ 799 3771  744]\n",
            " [  42  840 1092]]\n",
            "Classification Report:\n",
            "              precision    recall  f1-score   support\n",
            "\n",
            "           0       0.88      0.79      0.83      7492\n",
            "           1       0.63      0.71      0.66      5314\n",
            "           2       0.56      0.55      0.56      1974\n",
            "\n",
            "    accuracy                           0.73     14780\n",
            "   macro avg       0.69      0.69      0.68     14780\n",
            "weighted avg       0.74      0.73      0.74     14780\n",
            "\n"
          ]
        }
      ]
    },
    {
      "cell_type": "markdown",
      "metadata": {
        "id": "J_BaRXMoMMvZ"
      },
      "source": [
        "## Visualizing Model Layers"
      ]
    },
    {
      "cell_type": "code",
      "execution_count": null,
      "metadata": {
        "colab": {
          "base_uri": "https://localhost:8080/",
          "height": 404
        },
        "id": "VvCwUURcL9Db",
        "outputId": "2a28b0e1-b435-4936-89ae-f98d2965785a"
      },
      "outputs": [
        {
          "output_type": "execute_result",
          "data": {
            "image/png": "[encoded data removed]",
            "text/plain": [
              "<IPython.core.display.Image object>"
            ]
          },
          "metadata": {},
          "execution_count": 66
        }
      ],
      "source": [
        "from tensorflow.keras.utils import plot_model\n",
        "plot_model(classifier,\n",
        "           show_dtype = True,\n",
        "           show_layer_names = True,\n",
        "           show_shapes = True)"
      ]
    },
    {
      "cell_type": "code",
      "execution_count": null,
      "metadata": {
        "id": "ZIHt0zqRMUg7"
      },
      "outputs": [],
      "source": [
        "acc = result.history['acc']\n",
        "loss = result.history['loss']\n",
        "\n",
        "epoch = [i + 1 for i in range(len(acc))]"
      ]
    },
    {
      "cell_type": "code",
      "execution_count": null,
      "metadata": {
        "colab": {
          "base_uri": "https://localhost:8080/",
          "height": 363
        },
        "id": "iXHvtC99Mg3s",
        "outputId": "f0881175-9de1-4718-b942-36384a74e69e"
      },
      "outputs": [
        {
          "output_type": "execute_result",
          "data": {
            "text/plain": [
              "<pandas.io.formats.style.Styler at 0x7cee5272f820>"
            ],
            "text/html": [
              "<style type=\"text/css\">\n",
              "#T_170f1_row0_col0 {\n",
              "  width: 10em;\n",
              "  background: linear-gradient(90deg, #84A9AC 85.7%, transparent 85.7%);\n",
              "}\n",
              "#T_170f1_row0_col1, #T_170f1_row2_col0 {\n",
              "  width: 10em;\n",
              "  background: linear-gradient(90deg, #84A9AC 100.0%, transparent 100.0%);\n",
              "}\n",
              "#T_170f1_row1_col0 {\n",
              "  width: 10em;\n",
              "  background: linear-gradient(90deg, #84A9AC 95.5%, transparent 95.5%);\n",
              "}\n",
              "#T_170f1_row1_col1 {\n",
              "  width: 10em;\n",
              "  background: linear-gradient(90deg, #84A9AC 35.6%, transparent 35.6%);\n",
              "}\n",
              "#T_170f1_row2_col1 {\n",
              "  width: 10em;\n",
              "  background: linear-gradient(90deg, #84A9AC 6.9%, transparent 6.9%);\n",
              "}\n",
              "#T_170f1_row3_col0 {\n",
              "  width: 10em;\n",
              "  background: linear-gradient(90deg, #84A9AC 93.7%, transparent 93.7%);\n",
              "}\n",
              "#T_170f1_row3_col1, #T_170f1_row4_col1, #T_170f1_row5_col1, #T_170f1_row6_col1, #T_170f1_row7_col1, #T_170f1_row8_col1, #T_170f1_row9_col1 {\n",
              "  width: 10em;\n",
              "  background: linear-gradient(90deg, #84A9AC 0.0%, transparent 0.0%);\n",
              "}\n",
              "#T_170f1_row4_col0, #T_170f1_row5_col0, #T_170f1_row6_col0, #T_170f1_row7_col0, #T_170f1_row8_col0, #T_170f1_row9_col0 {\n",
              "  width: 10em;\n",
              "  background: linear-gradient(90deg, #84A9AC 93.5%, transparent 93.5%);\n",
              "}\n",
              "</style>\n",
              "<table id=\"T_170f1\" class=\"dataframe\">\n",
              "  <thead>\n",
              "    <tr>\n",
              "      <th class=\"blank level0\" >&nbsp;</th>\n",
              "      <th id=\"T_170f1_level0_col0\" class=\"col_heading level0 col0\" >Accuracy</th>\n",
              "      <th id=\"T_170f1_level0_col1\" class=\"col_heading level0 col1\" >Loss</th>\n",
              "      <th id=\"T_170f1_level0_col2\" class=\"col_heading level0 col2\" >Epoch</th>\n",
              "    </tr>\n",
              "  </thead>\n",
              "  <tbody>\n",
              "    <tr>\n",
              "      <th id=\"T_170f1_level0_row0\" class=\"row_heading level0 row0\" >0</th>\n",
              "      <td id=\"T_170f1_row0_col0\" class=\"data row0 col0\" >0.479779</td>\n",
              "      <td id=\"T_170f1_row0_col1\" class=\"data row0 col1\" >493238.281250</td>\n",
              "      <td id=\"T_170f1_row0_col2\" class=\"data row0 col2\" >1</td>\n",
              "    </tr>\n",
              "    <tr>\n",
              "      <th id=\"T_170f1_level0_row1\" class=\"row_heading level0 row1\" >1</th>\n",
              "      <td id=\"T_170f1_row1_col0\" class=\"data row1 col0\" >0.534394</td>\n",
              "      <td id=\"T_170f1_row1_col1\" class=\"data row1 col1\" >175350.109375</td>\n",
              "      <td id=\"T_170f1_row1_col2\" class=\"data row1 col2\" >2</td>\n",
              "    </tr>\n",
              "    <tr>\n",
              "      <th id=\"T_170f1_level0_row2\" class=\"row_heading level0 row2\" >2</th>\n",
              "      <td id=\"T_170f1_row2_col0\" class=\"data row2 col0\" >0.559790</td>\n",
              "      <td id=\"T_170f1_row2_col1\" class=\"data row2 col1\" >34235.421875</td>\n",
              "      <td id=\"T_170f1_row2_col2\" class=\"data row2 col2\" >3</td>\n",
              "    </tr>\n",
              "    <tr>\n",
              "      <th id=\"T_170f1_level0_row3\" class=\"row_heading level0 row3\" >3</th>\n",
              "      <td id=\"T_170f1_row3_col0\" class=\"data row3 col0\" >0.524447</td>\n",
              "      <td id=\"T_170f1_row3_col1\" class=\"data row3 col1\" >28.762737</td>\n",
              "      <td id=\"T_170f1_row3_col2\" class=\"data row3 col2\" >4</td>\n",
              "    </tr>\n",
              "    <tr>\n",
              "      <th id=\"T_170f1_level0_row4\" class=\"row_heading level0 row4\" >4</th>\n",
              "      <td id=\"T_170f1_row4_col0\" class=\"data row4 col0\" >0.523337</td>\n",
              "      <td id=\"T_170f1_row4_col1\" class=\"data row4 col1\" >4.977989</td>\n",
              "      <td id=\"T_170f1_row4_col2\" class=\"data row4 col2\" >5</td>\n",
              "    </tr>\n",
              "    <tr>\n",
              "      <th id=\"T_170f1_level0_row5\" class=\"row_heading level0 row5\" >5</th>\n",
              "      <td id=\"T_170f1_row5_col0\" class=\"data row5 col0\" >0.523289</td>\n",
              "      <td id=\"T_170f1_row5_col1\" class=\"data row5 col1\" >1.435958</td>\n",
              "      <td id=\"T_170f1_row5_col2\" class=\"data row5 col2\" >6</td>\n",
              "    </tr>\n",
              "    <tr>\n",
              "      <th id=\"T_170f1_level0_row6\" class=\"row_heading level0 row6\" >6</th>\n",
              "      <td id=\"T_170f1_row6_col0\" class=\"data row6 col0\" >0.523313</td>\n",
              "      <td id=\"T_170f1_row6_col1\" class=\"data row6 col1\" >1.061752</td>\n",
              "      <td id=\"T_170f1_row6_col2\" class=\"data row6 col2\" >7</td>\n",
              "    </tr>\n",
              "    <tr>\n",
              "      <th id=\"T_170f1_level0_row7\" class=\"row_heading level0 row7\" >7</th>\n",
              "      <td id=\"T_170f1_row7_col0\" class=\"data row7 col0\" >0.523289</td>\n",
              "      <td id=\"T_170f1_row7_col1\" class=\"data row7 col1\" >0.969529</td>\n",
              "      <td id=\"T_170f1_row7_col2\" class=\"data row7 col2\" >8</td>\n",
              "    </tr>\n",
              "    <tr>\n",
              "      <th id=\"T_170f1_level0_row8\" class=\"row_heading level0 row8\" >8</th>\n",
              "      <td id=\"T_170f1_row8_col0\" class=\"data row8 col0\" >0.523289</td>\n",
              "      <td id=\"T_170f1_row8_col1\" class=\"data row8 col1\" >0.969555</td>\n",
              "      <td id=\"T_170f1_row8_col2\" class=\"data row8 col2\" >9</td>\n",
              "    </tr>\n",
              "    <tr>\n",
              "      <th id=\"T_170f1_level0_row9\" class=\"row_heading level0 row9\" >9</th>\n",
              "      <td id=\"T_170f1_row9_col0\" class=\"data row9 col0\" >0.523289</td>\n",
              "      <td id=\"T_170f1_row9_col1\" class=\"data row9 col1\" >0.969526</td>\n",
              "      <td id=\"T_170f1_row9_col2\" class=\"data row9 col2\" >10</td>\n",
              "    </tr>\n",
              "  </tbody>\n",
              "</table>\n"
            ]
          },
          "metadata": {},
          "execution_count": 68
        }
      ],
      "source": [
        "acc_loss_df = pd.DataFrame({\"Accuracy\" : acc,\n",
        "                            \"Loss\" : loss,\n",
        "                            \"Epoch\" : epoch})\n",
        "\n",
        "acc_loss_df.style.bar(color = '#84A9AC',\n",
        "                      subset = ['Accuracy','Loss'])\n"
      ]
    },
    {
      "cell_type": "code",
      "execution_count": null,
      "metadata": {
        "id": "4Gzv2TuCPpFs"
      },
      "outputs": [],
      "source": [
        "import plotly.graph_objs as go"
      ]
    },
    {
      "cell_type": "code",
      "execution_count": null,
      "metadata": {
        "colab": {
          "base_uri": "https://localhost:8080/",
          "height": 542
        },
        "id": "CKJzcXppPUiQ",
        "outputId": "c7f8118a-9699-4c55-cbb5-e1a950a537bb"
      },
      "outputs": [
        {
          "output_type": "display_data",
          "data": {
            "text/html": [
              "<html>\n",
              "<head><meta charset=\"utf-8\" /></head>\n",
              "<body>\n",
              "    <div>            <script src=\"https://cdnjs.cloudflare.com/ajax/libs/mathjax/2.7.5/MathJax.js?config=TeX-AMS-MML_SVG\"></script><script type=\"text/javascript\">if (window.MathJax && window.MathJax.Hub && window.MathJax.Hub.Config) {window.MathJax.Hub.Config({SVG: {font: \"STIX-Web\"}});}</script>                <script type=\"text/javascript\">window.PlotlyConfig = {MathJaxConfig: 'local'};</script>\n",
              "        <script charset=\"utf-8\" src=\"https://cdn.plot.ly/plotly-2.24.1.min.js\"></script>                <div id=\"25f5903a-ed58-4997-8fcd-49122f4be871\" class=\"plotly-graph-div\" style=\"height:525px; width:100%;\"></div>            <script type=\"text/javascript\">                                    window.PLOTLYENV=window.PLOTLYENV || {};                                    if (document.getElementById(\"25f5903a-ed58-4997-8fcd-49122f4be871\")) {                    Plotly.newPlot(                        \"25f5903a-ed58-4997-8fcd-49122f4be871\",                        [{\"mode\":\"lines+markers\",\"name\":\"Accuracy\",\"x\":[1,2,3,4,5,6,7,8,9,10],\"y\":[0.47977933287620544,0.5343936085700989,0.559790313243866,0.5244474411010742,0.5233370065689087,0.5232892632484436,0.5233131647109985,0.5232892632484436,0.5232892632484436,0.5232892632484436],\"type\":\"scatter\"},{\"mode\":\"lines+markers\",\"name\":\"Loss\",\"x\":[1,2,3,4,5,6,7,8,9,10],\"y\":[493238.28125,175350.109375,34235.421875,28.762737274169922,4.977989196777344,1.4359582662582397,1.061752200126648,0.969529390335083,0.9695549607276917,0.9695257544517517],\"type\":\"scatter\"}],                        {\"template\":{\"data\":{\"barpolar\":[{\"marker\":{\"line\":{\"color\":\"rgb(17,17,17)\",\"width\":0.5},\"pattern\":{\"fillmode\":\"overlay\",\"size\":10,\"solidity\":0.2}},\"type\":\"barpolar\"}],\"bar\":[{\"error_x\":{\"color\":\"#f2f5fa\"},\"error_y\":{\"color\":\"#f2f5fa\"},\"marker\":{\"line\":{\"color\":\"rgb(17,17,17)\",\"width\":0.5},\"pattern\":{\"fillmode\":\"overlay\",\"size\":10,\"solidity\":0.2}},\"type\":\"bar\"}],\"carpet\":[{\"aaxis\":{\"endlinecolor\":\"#A2B1C6\",\"gridcolor\":\"#506784\",\"linecolor\":\"#506784\",\"minorgridcolor\":\"#506784\",\"startlinecolor\":\"#A2B1C6\"},\"baxis\":{\"endlinecolor\":\"#A2B1C6\",\"gridcolor\":\"#506784\",\"linecolor\":\"#506784\",\"minorgridcolor\":\"#506784\",\"startlinecolor\":\"#A2B1C6\"},\"type\":\"carpet\"}],\"choropleth\":[{\"colorbar\":{\"outlinewidth\":0,\"ticks\":\"\"},\"type\":\"choropleth\"}],\"contourcarpet\":[{\"colorbar\":{\"outlinewidth\":0,\"ticks\":\"\"},\"type\":\"contourcarpet\"}],\"contour\":[{\"colorbar\":{\"outlinewidth\":0,\"ticks\":\"\"},\"colorscale\":[[0.0,\"#0d0887\"],[0.1111111111111111,\"#46039f\"],[0.2222222222222222,\"#7201a8\"],[0.3333333333333333,\"#9c179e\"],[0.4444444444444444,\"#bd3786\"],[0.5555555555555556,\"#d8576b\"],[0.6666666666666666,\"#ed7953\"],[0.7777777777777778,\"#fb9f3a\"],[0.8888888888888888,\"#fdca26\"],[1.0,\"#f0f921\"]],\"type\":\"contour\"}],\"heatmapgl\":[{\"colorbar\":{\"outlinewidth\":0,\"ticks\":\"\"},\"colorscale\":[[0.0,\"#0d0887\"],[0.1111111111111111,\"#46039f\"],[0.2222222222222222,\"#7201a8\"],[0.3333333333333333,\"#9c179e\"],[0.4444444444444444,\"#bd3786\"],[0.5555555555555556,\"#d8576b\"],[0.6666666666666666,\"#ed7953\"],[0.7777777777777778,\"#fb9f3a\"],[0.8888888888888888,\"#fdca26\"],[1.0,\"#f0f921\"]],\"type\":\"heatmapgl\"}],\"heatmap\":[{\"colorbar\":{\"outlinewidth\":0,\"ticks\":\"\"},\"colorscale\":[[0.0,\"#0d0887\"],[0.1111111111111111,\"#46039f\"],[0.2222222222222222,\"#7201a8\"],[0.3333333333333333,\"#9c179e\"],[0.4444444444444444,\"#bd3786\"],[0.5555555555555556,\"#d8576b\"],[0.6666666666666666,\"#ed7953\"],[0.7777777777777778,\"#fb9f3a\"],[0.8888888888888888,\"#fdca26\"],[1.0,\"#f0f921\"]],\"type\":\"heatmap\"}],\"histogram2dcontour\":[{\"colorbar\":{\"outlinewidth\":0,\"ticks\":\"\"},\"colorscale\":[[0.0,\"#0d0887\"],[0.1111111111111111,\"#46039f\"],[0.2222222222222222,\"#7201a8\"],[0.3333333333333333,\"#9c179e\"],[0.4444444444444444,\"#bd3786\"],[0.5555555555555556,\"#d8576b\"],[0.6666666666666666,\"#ed7953\"],[0.7777777777777778,\"#fb9f3a\"],[0.8888888888888888,\"#fdca26\"],[1.0,\"#f0f921\"]],\"type\":\"histogram2dcontour\"}],\"histogram2d\":[{\"colorbar\":{\"outlinewidth\":0,\"ticks\":\"\"},\"colorscale\":[[0.0,\"#0d0887\"],[0.1111111111111111,\"#46039f\"],[0.2222222222222222,\"#7201a8\"],[0.3333333333333333,\"#9c179e\"],[0.4444444444444444,\"#bd3786\"],[0.5555555555555556,\"#d8576b\"],[0.6666666666666666,\"#ed7953\"],[0.7777777777777778,\"#fb9f3a\"],[0.8888888888888888,\"#fdca26\"],[1.0,\"#f0f921\"]],\"type\":\"histogram2d\"}],\"histogram\":[{\"marker\":{\"pattern\":{\"fillmode\":\"overlay\",\"size\":10,\"solidity\":0.2}},\"type\":\"histogram\"}],\"mesh3d\":[{\"colorbar\":{\"outlinewidth\":0,\"ticks\":\"\"},\"type\":\"mesh3d\"}],\"parcoords\":[{\"line\":{\"colorbar\":{\"outlinewidth\":0,\"ticks\":\"\"}},\"type\":\"parcoords\"}],\"pie\":[{\"automargin\":true,\"type\":\"pie\"}],\"scatter3d\":[{\"line\":{\"colorbar\":{\"outlinewidth\":0,\"ticks\":\"\"}},\"marker\":{\"colorbar\":{\"outlinewidth\":0,\"ticks\":\"\"}},\"type\":\"scatter3d\"}],\"scattercarpet\":[{\"marker\":{\"colorbar\":{\"outlinewidth\":0,\"ticks\":\"\"}},\"type\":\"scattercarpet\"}],\"scattergeo\":[{\"marker\":{\"colorbar\":{\"outlinewidth\":0,\"ticks\":\"\"}},\"type\":\"scattergeo\"}],\"scattergl\":[{\"marker\":{\"line\":{\"color\":\"#283442\"}},\"type\":\"scattergl\"}],\"scattermapbox\":[{\"marker\":{\"colorbar\":{\"outlinewidth\":0,\"ticks\":\"\"}},\"type\":\"scattermapbox\"}],\"scatterpolargl\":[{\"marker\":{\"colorbar\":{\"outlinewidth\":0,\"ticks\":\"\"}},\"type\":\"scatterpolargl\"}],\"scatterpolar\":[{\"marker\":{\"colorbar\":{\"outlinewidth\":0,\"ticks\":\"\"}},\"type\":\"scatterpolar\"}],\"scatter\":[{\"marker\":{\"line\":{\"color\":\"#283442\"}},\"type\":\"scatter\"}],\"scatterternary\":[{\"marker\":{\"colorbar\":{\"outlinewidth\":0,\"ticks\":\"\"}},\"type\":\"scatterternary\"}],\"surface\":[{\"colorbar\":{\"outlinewidth\":0,\"ticks\":\"\"},\"colorscale\":[[0.0,\"#0d0887\"],[0.1111111111111111,\"#46039f\"],[0.2222222222222222,\"#7201a8\"],[0.3333333333333333,\"#9c179e\"],[0.4444444444444444,\"#bd3786\"],[0.5555555555555556,\"#d8576b\"],[0.6666666666666666,\"#ed7953\"],[0.7777777777777778,\"#fb9f3a\"],[0.8888888888888888,\"#fdca26\"],[1.0,\"#f0f921\"]],\"type\":\"surface\"}],\"table\":[{\"cells\":{\"fill\":{\"color\":\"#506784\"},\"line\":{\"color\":\"rgb(17,17,17)\"}},\"header\":{\"fill\":{\"color\":\"#2a3f5f\"},\"line\":{\"color\":\"rgb(17,17,17)\"}},\"type\":\"table\"}]},\"layout\":{\"annotationdefaults\":{\"arrowcolor\":\"#f2f5fa\",\"arrowhead\":0,\"arrowwidth\":1},\"autotypenumbers\":\"strict\",\"coloraxis\":{\"colorbar\":{\"outlinewidth\":0,\"ticks\":\"\"}},\"colorscale\":{\"diverging\":[[0,\"#8e0152\"],[0.1,\"#c51b7d\"],[0.2,\"#de77ae\"],[0.3,\"#f1b6da\"],[0.4,\"#fde0ef\"],[0.5,\"#f7f7f7\"],[0.6,\"#e6f5d0\"],[0.7,\"#b8e186\"],[0.8,\"#7fbc41\"],[0.9,\"#4d9221\"],[1,\"#276419\"]],\"sequential\":[[0.0,\"#0d0887\"],[0.1111111111111111,\"#46039f\"],[0.2222222222222222,\"#7201a8\"],[0.3333333333333333,\"#9c179e\"],[0.4444444444444444,\"#bd3786\"],[0.5555555555555556,\"#d8576b\"],[0.6666666666666666,\"#ed7953\"],[0.7777777777777778,\"#fb9f3a\"],[0.8888888888888888,\"#fdca26\"],[1.0,\"#f0f921\"]],\"sequentialminus\":[[0.0,\"#0d0887\"],[0.1111111111111111,\"#46039f\"],[0.2222222222222222,\"#7201a8\"],[0.3333333333333333,\"#9c179e\"],[0.4444444444444444,\"#bd3786\"],[0.5555555555555556,\"#d8576b\"],[0.6666666666666666,\"#ed7953\"],[0.7777777777777778,\"#fb9f3a\"],[0.8888888888888888,\"#fdca26\"],[1.0,\"#f0f921\"]]},\"colorway\":[\"#636efa\",\"#EF553B\",\"#00cc96\",\"#ab63fa\",\"#FFA15A\",\"#19d3f3\",\"#FF6692\",\"#B6E880\",\"#FF97FF\",\"#FECB52\"],\"font\":{\"color\":\"#f2f5fa\"},\"geo\":{\"bgcolor\":\"rgb(17,17,17)\",\"lakecolor\":\"rgb(17,17,17)\",\"landcolor\":\"rgb(17,17,17)\",\"showlakes\":true,\"showland\":true,\"subunitcolor\":\"#506784\"},\"hoverlabel\":{\"align\":\"left\"},\"hovermode\":\"closest\",\"mapbox\":{\"style\":\"dark\"},\"paper_bgcolor\":\"rgb(17,17,17)\",\"plot_bgcolor\":\"rgb(17,17,17)\",\"polar\":{\"angularaxis\":{\"gridcolor\":\"#506784\",\"linecolor\":\"#506784\",\"ticks\":\"\"},\"bgcolor\":\"rgb(17,17,17)\",\"radialaxis\":{\"gridcolor\":\"#506784\",\"linecolor\":\"#506784\",\"ticks\":\"\"}},\"scene\":{\"xaxis\":{\"backgroundcolor\":\"rgb(17,17,17)\",\"gridcolor\":\"#506784\",\"gridwidth\":2,\"linecolor\":\"#506784\",\"showbackground\":true,\"ticks\":\"\",\"zerolinecolor\":\"#C8D4E3\"},\"yaxis\":{\"backgroundcolor\":\"rgb(17,17,17)\",\"gridcolor\":\"#506784\",\"gridwidth\":2,\"linecolor\":\"#506784\",\"showbackground\":true,\"ticks\":\"\",\"zerolinecolor\":\"#C8D4E3\"},\"zaxis\":{\"backgroundcolor\":\"rgb(17,17,17)\",\"gridcolor\":\"#506784\",\"gridwidth\":2,\"linecolor\":\"#506784\",\"showbackground\":true,\"ticks\":\"\",\"zerolinecolor\":\"#C8D4E3\"}},\"shapedefaults\":{\"line\":{\"color\":\"#f2f5fa\"}},\"sliderdefaults\":{\"bgcolor\":\"#C8D4E3\",\"bordercolor\":\"rgb(17,17,17)\",\"borderwidth\":1,\"tickwidth\":0},\"ternary\":{\"aaxis\":{\"gridcolor\":\"#506784\",\"linecolor\":\"#506784\",\"ticks\":\"\"},\"baxis\":{\"gridcolor\":\"#506784\",\"linecolor\":\"#506784\",\"ticks\":\"\"},\"bgcolor\":\"rgb(17,17,17)\",\"caxis\":{\"gridcolor\":\"#506784\",\"linecolor\":\"#506784\",\"ticks\":\"\"}},\"title\":{\"x\":0.05},\"updatemenudefaults\":{\"bgcolor\":\"#506784\",\"borderwidth\":0},\"xaxis\":{\"automargin\":true,\"gridcolor\":\"#283442\",\"linecolor\":\"#506784\",\"ticks\":\"\",\"title\":{\"standoff\":15},\"zerolinecolor\":\"#283442\",\"zerolinewidth\":2},\"yaxis\":{\"automargin\":true,\"gridcolor\":\"#283442\",\"linecolor\":\"#506784\",\"ticks\":\"\",\"title\":{\"standoff\":15},\"zerolinecolor\":\"#283442\",\"zerolinewidth\":2}}},\"title\":{\"font\":{\"size\":20},\"text\":\"\\u003cb\\u003eTraining Accuracy Vs Training Loss\\u003c\\u002fb\\u003e\\n\",\"xanchor\":\"center\",\"yanchor\":\"top\",\"y\":0.9,\"x\":0.5},\"xaxis\":{\"title\":{\"text\":\"Epoch\"}},\"yaxis\":{\"title\":{\"text\":\"Accuracy \\u002f Loss\"}}},                        {\"responsive\": true}                    ).then(function(){\n",
              "                            \n",
              "var gd = document.getElementById('25f5903a-ed58-4997-8fcd-49122f4be871');\n",
              "var x = new MutationObserver(function (mutations, observer) {{\n",
              "        var display = window.getComputedStyle(gd).display;\n",
              "        if (!display || display === 'none') {{\n",
              "            console.log([gd, 'removed!']);\n",
              "            Plotly.purge(gd);\n",
              "            observer.disconnect();\n",
              "        }}\n",
              "}});\n",
              "\n",
              "// Listen for the removal of the full notebook cells\n",
              "var notebookContainer = gd.closest('#notebook-container');\n",
              "if (notebookContainer) {{\n",
              "    x.observe(notebookContainer, {childList: true});\n",
              "}}\n",
              "\n",
              "// Listen for the clearing of the current output cell\n",
              "var outputEl = gd.closest('.output');\n",
              "if (outputEl) {{\n",
              "    x.observe(outputEl, {childList: true});\n",
              "}}\n",
              "\n",
              "                        })                };                            </script>        </div>\n",
              "</body>\n",
              "</html>"
            ]
          },
          "metadata": {}
        }
      ],
      "source": [
        "fig = go.Figure()\n",
        "\n",
        "fig.add_trace(go.Scatter(x = acc_loss_df['Epoch'],\n",
        "                         y = acc_loss_df['Accuracy'],\n",
        "                         mode='lines+markers',\n",
        "                         name='Accuracy'))\n",
        "\n",
        "fig.add_trace(go.Scatter(x = acc_loss_df['Epoch'],\n",
        "                         y = acc_loss_df['Loss'],\n",
        "                         mode='lines+markers',\n",
        "                         name = 'Loss'))\n",
        "\n",
        "fig.update_layout(title = {'text': \"<b>Training Accuracy Vs Training Loss</b>\\n\",\n",
        "                           'xanchor': 'center',\n",
        "                           'yanchor': 'top',\n",
        "                           'y':0.9,'x':0.5,},\n",
        "                  xaxis_title=\"Epoch\",\n",
        "                  yaxis_title = \"Accuracy / Loss\",\n",
        "                  title_font = dict(size = 20))\n",
        "\n",
        "fig.layout.template = 'plotly_dark'\n",
        "\n",
        "fig.show()"
      ]
    }
  ],
  "metadata": {
    "colab": {
      "provenance": [],
      "toc_visible": true
    },
    "kernelspec": {
      "display_name": "Python 3",
      "name": "python3"
    },
    "language_info": {
      "name": "python"
    }
  },
  "nbformat": 4,
  "nbformat_minor": 0
}